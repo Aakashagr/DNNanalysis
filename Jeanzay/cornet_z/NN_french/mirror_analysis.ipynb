{
 "cells": [
  {
   "cell_type": "code",
   "execution_count": 1,
   "metadata": {},
   "outputs": [],
   "source": [
    "import numpy as np\n",
    "from scipy.stats import zscore\n",
    "import matplotlib as mpl\n",
    "from matplotlib import pyplot as plt\n",
    "plt.rcParams['svg.fonttype'] = 'none'\n",
    "\n",
    "import torch\n",
    "from torch import nn, optim\n",
    "from sklearn.decomposition import PCA\n",
    "from sklearn.manifold import TSNE\n",
    "from scipy.io import loadmat\n",
    "import os, sys\n",
    "import torchvision.transforms as transforms\n",
    "from sklearn.metrics import pairwise_distances\n",
    "from scipy.spatial.distance import pdist, squareform\n",
    "import pandas as pd\n",
    "from scipy.special import comb\n",
    "\n",
    "# images = loadmat('baoimg.mat').get('img')\n",
    "%run clean_cornets.py"
   ]
  },
  {
   "cell_type": "code",
   "execution_count": 2,
   "metadata": {},
   "outputs": [
    {
     "data": {
      "text/plain": [
       "torch.Size([744, 3, 224, 224])"
      ]
     },
     "execution_count": 2,
     "metadata": {},
     "output_type": "execute_result"
    }
   ],
   "source": [
    "from torchvision import datasets, transforms\n",
    "\n",
    "# data_dir = 'images/'\n",
    "data_dir = 'stimuli/mirrorwords/'\n",
    "transform = {'train': transforms.Compose([transforms.Resize((224,224)),\n",
    "transforms.ToTensor(),\n",
    "transforms.Normalize(mean=[0.485, 0.456, 0.406], std=[0.229, 0.224, 0.225])]),}\n",
    "\n",
    "chosen_datasets = {x: datasets.ImageFolder(os.path.join(data_dir, x), transform[x]) for x in ['train']}\n",
    "dataloaders = {x: torch.utils.data.DataLoader(chosen_datasets[x], batch_size = 800) for x in ['train']}\n",
    "images, classes = next(iter(dataloaders['train']))\n",
    "\n",
    "np.shape(images)"
   ]
  },
  {
   "cell_type": "code",
   "execution_count": null,
   "metadata": {},
   "outputs": [],
   "source": [
    "import torchvision\n",
    "\n",
    "grid = torchvision.utils.make_grid(images)\n",
    "plt.figure(figsize = (10,100))\n",
    "plt.imshow(grid.numpy().transpose((1, 2, 0)))\n",
    "plt.axis('off')\n"
   ]
  },
  {
   "cell_type": "code",
   "execution_count": 3,
   "metadata": {},
   "outputs": [],
   "source": [
    "stimtemp = images[:,:,:,:]\n",
    "\n",
    "# Loading all the three network and extracting representation from all the hidden units\n",
    "ili = {}\n",
    "net = CORnet_Z_tweak()\n",
    "checkpoint = torch.load('models/save_illit_z_79_full_nomir.pth.tar')['state_dict']\n",
    "for key in list(checkpoint.keys()):\n",
    "    if 'module.' in key:\n",
    "        checkpoint[key.replace('module.', '')] = checkpoint[key]\n",
    "        del checkpoint[key]\n",
    "net.load_state_dict(checkpoint)\n",
    "# ili['v1'], ili['v2'], ili['v4'], ili['it'], ili['h'],  ili['out'] = net(stimtemp.float())\n",
    "ili['v1'], ili['v2'], ili['v4'], ili['it'], ili['h'],  ili['out'] = net(stimtemp.float())\n",
    "\n",
    "# Bli = {}\n",
    "# net = CORNet_Z_biased_words()\n",
    "# checkpoint = torch.load('models/save_lit_bias_z_79_full_nomir.pth.tar')['state_dict']\n",
    "# for key in list(checkpoint.keys()):\n",
    "#     if 'module.' in key:\n",
    "#         checkpoint[key.replace('module.', '')] = checkpoint[key]\n",
    "#         del checkpoint[key]\n",
    "# net.load_state_dict(checkpoint)\n",
    "# Bli['v1'], Bli['v2'], Bli['v4'], Bli['it'], Bli['h'],  Bli['out'] = net(stimtemp.float())\n",
    "\n",
    "\n",
    "nBli = {}\n",
    "net = CORNet_Z_nonbiased_words()\n",
    "checkpoint = torch.load('models/save_lit_no_bias_z_79_full_nomir.pth.tar')['state_dict']\n",
    "for key in list(checkpoint.keys()):\n",
    "    if 'module.' in key:\n",
    "        checkpoint[key.replace('module.', '')] = checkpoint[key]\n",
    "        del checkpoint[key]\n",
    "net.load_state_dict(checkpoint)\n",
    "\n",
    "nBli['v1'], nBli['v2'], nBli['v4'], nBli['it'], nBli['h'],  nBli['out'] = net(stimtemp.float())"
   ]
  },
  {
   "cell_type": "code",
   "execution_count": 130,
   "metadata": {},
   "outputs": [
    {
     "data": {
      "text/plain": [
       "<matplotlib.legend.Legend at 0x25f45927b20>"
      ]
     },
     "execution_count": 130,
     "metadata": {},
     "output_type": "execute_result"
    },
    {
     "data": {
      "image/png": "[encoded data removed]",
      "text/plain": [
       "<Figure size 432x288 with 1 Axes>"
      ]
     },
     "metadata": {
      "needs_background": "light"
     },
     "output_type": "display_data"
    },
    {
     "data": {
      "image/png": "[encoded data removed]",
      "text/plain": [
       "<Figure size 432x288 with 1 Axes>"
      ]
     },
     "metadata": {
      "needs_background": "light"
     },
     "output_type": "display_data"
    }
   ],
   "source": [
    "# Population level analysis\n",
    "from sklearn.utils import resample\n",
    "from scipy.stats import spearmanr\n",
    "\n",
    "roi_ID = ['v1', 'v2', 'v4','it','h','out']; distMetric = 'l1'\n",
    "rval_lit_h = np.zeros((6)); rval_lit_v = np.zeros((6))\n",
    "rval_ili_h = np.zeros((6)); rval_ili_v = np.zeros((6))\n",
    "\n",
    "for idx in range(len(roi_ID)):\n",
    "    D = np.zeros((comb(np.size(stimtemp[::3,:],0), 2,exact =True),3)); \n",
    "    resp = ili[roi_ID[idx]].detach().numpy()\n",
    "    respid= np.where(np.mean(resp,0) !=0)[0]    \n",
    "    D[:,0] = squareform(pairwise_distances(resp[::3,respid],metric = distMetric))\n",
    "    D[:,1] = squareform(pairwise_distances(resp[1::3,respid],metric = distMetric))\n",
    "    D[:,2] = squareform(pairwise_distances(resp[2::3,respid],metric = distMetric))\n",
    "    rval_ili_v[idx],_ = spearmanr(D[:,0],D[:,1])\n",
    "    rval_ili_h[idx],_ = spearmanr(D[:,0],D[:,2])\n",
    "    \n",
    "    \n",
    "    D = np.zeros((comb(np.size(stimtemp[::3,:],0), 2,exact =True),3)); \n",
    "    resp = nBli[roi_ID[idx]].detach().numpy()\n",
    "    respid= np.where(np.mean(resp,0) !=0)[0]    \n",
    "    D[:,0] = squareform(pairwise_distances(resp[::3,respid],metric = distMetric))\n",
    "    D[:,1] = squareform(pairwise_distances(resp[1::3,respid],metric = distMetric))\n",
    "    D[:,2] = squareform(pairwise_distances(resp[2::3,respid],metric = distMetric))\n",
    "    rval_lit_v[idx],_ = spearmanr(D[:,0],D[:,1])\n",
    "    rval_lit_h[idx],_ = spearmanr(D[:,0],D[:,2])\n",
    "    \n",
    "    \n",
    "plt.figure(1);  plt.bar(np.arange(6)-.15,rval_lit_v, width = 0.3); plt.bar(np.arange(6)+.15,rval_ili_v, width = 0.3)\n",
    "plt.xticks(ticks = range(6),labels = roi_ID);\n",
    "plt.ylabel('Correlation coefficient'); plt.title('Mirror along vertical axis')\n",
    "plt.legend(['Literate','illiterate'])\n",
    "\n",
    "plt.figure(2);  plt.bar(np.arange(6)-.15,rval_lit_h, width = 0.3); plt.bar(np.arange(6)+.15,rval_ili_h, width = 0.3)\n",
    "plt.xticks(ticks = range(6),labels = roi_ID);\n",
    "plt.ylabel('Correlation coefficient'); plt.title('Mirror along Horizontal axis')\n",
    "plt.legend(['Literate','illiterate'])"
   ]
  },
  {
   "cell_type": "code",
   "execution_count": 107,
   "metadata": {},
   "outputs": [],
   "source": [
    "# Mirror invariance for each unit\n",
    "\n",
    "from scipy.stats import pearsonr\n",
    "\n",
    "roi_ID = ['v1', 'v2', 'v4','it','h','out']; \n",
    "mean_rili_v = []; mean_rili_h = []; mean_rlit_v = []; mean_rlit_h = [];\n",
    "std_rili_v = []; std_rili_h = []; std_rlit_v = []; std_rlit_h = [];\n",
    "\n",
    "for roi in roi_ID:\n",
    "    resp_ili = ili[roi].detach().numpy()\n",
    "    resp_lit = nBli[roi].detach().numpy()\n",
    "    rili_v = np.zeros((np.shape(resp_ili)[1]))\n",
    "    rili_h = np.zeros((np.shape(resp_ili)[1]));\n",
    "    rlit_v = np.zeros((np.shape(resp_ili)[1]));\n",
    "    rlit_h = np.zeros((np.shape(resp_ili)[1]));\n",
    "\n",
    "    for idx in range(np.shape(resp_ili)[1]):\n",
    "        rili_v[idx],_ = pearsonr(resp_ili[::3,idx],resp_ili[1::3,idx])\n",
    "        rili_h[idx],_ = pearsonr(resp_ili[::3,idx],resp_ili[2::3,idx])\n",
    "\n",
    "        rlit_v[idx],_ = pearsonr(resp_lit[::3,idx],resp_lit[1::3,idx])\n",
    "        rlit_h[idx],_ = pearsonr(resp_lit[::3,idx],resp_lit[2::3,idx])\n",
    "\n",
    "    #   Saving mean values\n",
    "    mean_rili_v.append(np.nanmean(rili_v)); std_rili_v.append(np.nanstd(rili_v));\n",
    "    mean_rili_h.append(np.nanmean(rili_h)); std_rili_h.append(np.nanstd(rili_h));\n",
    "\n",
    "    mean_rlit_v.append(np.nanmean(rlit_v)); std_rlit_v.append(np.nanstd(rlit_v));\n",
    "    mean_rlit_h.append(np.nanmean(rlit_h)); std_rlit_h.append(np.nanstd(rlit_h));\n",
    "\n",
    "\n",
    "plt.figure(1);  \n",
    "plt.bar(np.arange(6)-.15,mean_rlit_v, width = 0.3); plt.bar(np.arange(6)+.15,mean_rili_v, width = 0.3);\n",
    "plt.xticks(ticks = range(6),labels = roi_ID);\n",
    "plt.ylabel('Correlation coefficient'); plt.title('Mirror along vertical axis')\n",
    "plt.legend(['Literate','illiterate'])\n",
    "\n",
    "plt.figure(2);  plt.bar(np.arange(6)-.15,mean_rlit_h, width = 0.3); plt.bar(np.arange(6)+.15,mean_rili_h, width = 0.3)\n",
    "plt.xticks(ticks = range(6),labels = roi_ID);\n",
    "plt.ylabel('Correlation coefficient'); plt.title('Mirror along Horizontal axis')\n",
    "plt.legend(['Literate','illiterate'])"
   ]
  }
 ],
 "metadata": {
  "kernelspec": {
   "display_name": "Python 3",
   "language": "python",
   "name": "python3"
  },
  "language_info": {
   "codemirror_mode": {
    "name": "ipython",
    "version": 3
   },
   "file_extension": ".py",
   "mimetype": "text/x-python",
   "name": "python",
   "nbconvert_exporter": "python",
   "pygments_lexer": "ipython3",
   "version": "3.8.3"
  }
 },
 "nbformat": 4,
 "nbformat_minor": 4
}
