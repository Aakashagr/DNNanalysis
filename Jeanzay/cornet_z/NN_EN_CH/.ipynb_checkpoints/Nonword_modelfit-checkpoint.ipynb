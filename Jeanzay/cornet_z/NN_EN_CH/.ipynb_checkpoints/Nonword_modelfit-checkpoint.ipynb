{
 "cells": [
  {
   "cell_type": "code",
   "execution_count": 1,
   "metadata": {},
   "outputs": [],
   "source": [
    "import numpy as np\n",
    "import scipy\n",
    "import matplotlib as mpl\n",
    "from matplotlib import pyplot as plt\n",
    "plt.rcParams['pdf.fonttype'] = 42\n",
    "\n",
    "import torch\n",
    "import torchvision\n",
    "from torchvision import datasets, transforms\n",
    "from torch import nn, optim\n",
    "from sklearn.decomposition import PCA\n",
    "from sklearn.manifold import TSNE\n",
    "from scipy.io import loadmat\n",
    "import os, sys, string, glob\n",
    "import torchvision.transforms as transforms\n",
    "from  collections import defaultdict\n",
    "from sklearn.linear_model import LassoCV, RidgeCV\n",
    "\n",
    "strlist = list(string.ascii_lowercase) # storing charaacters from A-Z\n",
    "%run training_code/clean_cornets.py"
   ]
  },
  {
   "cell_type": "code",
   "execution_count": 2,
   "metadata": {},
   "outputs": [],
   "source": [
    "# Loading word selective stimuli\n",
    "neuid_e = [  5,   6,  11,  12,  15,  17,  27,  29,  39,  40,  41,  49,  55,\n",
    "        56,  65,  71,  73,  75,  78,  89,  90,  91, 111, 123, 131, 150,\n",
    "       155, 163, 169, 173, 179, 180, 190, 193, 197, 201, 218, 220, 222,\n",
    "       229, 231, 241, 243, 245, 248, 249, 273, 277, 283, 291, 306, 337,\n",
    "       341, 343, 351, 352, 356, 357, 363, 365, 375, 376, 378, 381, 382,\n",
    "       385, 392, 414, 422, 423, 427, 428, 430, 437, 476, 481, 485, 488,\n",
    "       496, 497, 498, 506]\n",
    "\n",
    "neuid_c = [  5,   6,  11,  15,  17,  27,  29,  37,  39,  40,  41,  47,  49,\n",
    "        55,  58,  71,  75,  78,  89,  90,  91,  95, 111, 112, 124, 128,\n",
    "       137, 145, 150, 155, 163, 165, 169, 179, 180, 186, 190, 197, 201,\n",
    "       203, 206, 218, 220, 221, 222, 229, 231, 241, 243, 245, 247, 248,\n",
    "       249, 250, 259, 275, 283, 291, 298, 300, 306, 313, 331, 337, 341,\n",
    "       351, 352, 355, 357, 361, 363, 365, 375, 376, 378, 381, 382, 385,\n",
    "       386, 391, 392, 414, 415, 416, 417, 423, 427, 428, 435, 437, 449,\n",
    "       458, 461, 463, 473, 476, 481, 485, 488, 496, 497, 498, 502, 503, 506]\n",
    "\n",
    "neuid_ec = np.intersect1d(neuid_c,neuid_e)\n",
    "\n",
    "nid = {}\n",
    "qt = list(set(neuid_e)^set(neuid_ec));    nid[0] = np.reshape(qt,[np.size(qt),1])\n",
    "qt = list(set(neuid_c)^set(neuid_ec));    nid[1] = np.reshape(qt,[np.size(qt),1])\n",
    "qt = list(set([])^set(neuid_ec));         nid[2] = np.reshape(qt,[np.size(qt),1])\n",
    "type = ['English','Chinese','English+Chinese']"
   ]
  },
  {
   "cell_type": "code",
   "execution_count": 3,
   "metadata": {},
   "outputs": [
    {
     "ename": "NameError",
     "evalue": "name 'transform' is not defined",
     "output_type": "error",
     "traceback": [
      "\u001b[1;31m---------------------------------------------------------------------------\u001b[0m",
      "\u001b[1;31mNameError\u001b[0m                                 Traceback (most recent call last)",
      "\u001b[1;32m<ipython-input-3-5498149556b3>\u001b[0m in \u001b[0;36m<module>\u001b[1;34m\u001b[0m\n\u001b[0;32m     10\u001b[0m \u001b[1;31m## Vinckier stimuli\u001b[0m\u001b[1;33m\u001b[0m\u001b[1;33m\u001b[0m\u001b[1;33m\u001b[0m\u001b[0m\n\u001b[0;32m     11\u001b[0m \u001b[0mdata_dir\u001b[0m \u001b[1;33m=\u001b[0m \u001b[1;34m'stimuli/vinckier240/'\u001b[0m\u001b[1;33m\u001b[0m\u001b[1;33m\u001b[0m\u001b[0m\n\u001b[1;32m---> 12\u001b[1;33m \u001b[0mchosen_datasets\u001b[0m \u001b[1;33m=\u001b[0m \u001b[1;33m{\u001b[0m\u001b[0mx\u001b[0m\u001b[1;33m:\u001b[0m \u001b[0mdatasets\u001b[0m\u001b[1;33m.\u001b[0m\u001b[0mImageFolder\u001b[0m\u001b[1;33m(\u001b[0m\u001b[0mos\u001b[0m\u001b[1;33m.\u001b[0m\u001b[0mpath\u001b[0m\u001b[1;33m.\u001b[0m\u001b[0mjoin\u001b[0m\u001b[1;33m(\u001b[0m\u001b[0mdata_dir\u001b[0m\u001b[1;33m,\u001b[0m \u001b[0mx\u001b[0m\u001b[1;33m)\u001b[0m\u001b[1;33m,\u001b[0m \u001b[0mtransform\u001b[0m\u001b[1;33m[\u001b[0m\u001b[0mx\u001b[0m\u001b[1;33m]\u001b[0m\u001b[1;33m)\u001b[0m \u001b[1;32mfor\u001b[0m \u001b[0mx\u001b[0m \u001b[1;32min\u001b[0m \u001b[1;33m[\u001b[0m\u001b[1;34m'train'\u001b[0m\u001b[1;33m]\u001b[0m\u001b[1;33m}\u001b[0m\u001b[1;33m\u001b[0m\u001b[1;33m\u001b[0m\u001b[0m\n\u001b[0m\u001b[0;32m     13\u001b[0m \u001b[0mdataloaders\u001b[0m \u001b[1;33m=\u001b[0m \u001b[1;33m{\u001b[0m\u001b[0mx\u001b[0m\u001b[1;33m:\u001b[0m \u001b[0mtorch\u001b[0m\u001b[1;33m.\u001b[0m\u001b[0mutils\u001b[0m\u001b[1;33m.\u001b[0m\u001b[0mdata\u001b[0m\u001b[1;33m.\u001b[0m\u001b[0mDataLoader\u001b[0m\u001b[1;33m(\u001b[0m\u001b[0mchosen_datasets\u001b[0m\u001b[1;33m[\u001b[0m\u001b[0mx\u001b[0m\u001b[1;33m]\u001b[0m\u001b[1;33m,\u001b[0m \u001b[0mbatch_size\u001b[0m \u001b[1;33m=\u001b[0m \u001b[1;36m80\u001b[0m\u001b[1;33m)\u001b[0m \u001b[1;32mfor\u001b[0m \u001b[0mx\u001b[0m \u001b[1;32min\u001b[0m \u001b[1;33m[\u001b[0m\u001b[1;34m'train'\u001b[0m\u001b[1;33m]\u001b[0m\u001b[1;33m}\u001b[0m\u001b[1;33m\u001b[0m\u001b[1;33m\u001b[0m\u001b[0m\n\u001b[0;32m     14\u001b[0m \u001b[0mdataiter\u001b[0m \u001b[1;33m=\u001b[0m \u001b[0miter\u001b[0m\u001b[1;33m(\u001b[0m\u001b[0mdataloaders\u001b[0m\u001b[1;33m[\u001b[0m\u001b[1;34m'train'\u001b[0m\u001b[1;33m]\u001b[0m\u001b[1;33m)\u001b[0m\u001b[1;33m\u001b[0m\u001b[1;33m\u001b[0m\u001b[0m\n",
      "\u001b[1;32m<ipython-input-3-5498149556b3>\u001b[0m in \u001b[0;36m<dictcomp>\u001b[1;34m(.0)\u001b[0m\n\u001b[0;32m     10\u001b[0m \u001b[1;31m## Vinckier stimuli\u001b[0m\u001b[1;33m\u001b[0m\u001b[1;33m\u001b[0m\u001b[1;33m\u001b[0m\u001b[0m\n\u001b[0;32m     11\u001b[0m \u001b[0mdata_dir\u001b[0m \u001b[1;33m=\u001b[0m \u001b[1;34m'stimuli/vinckier240/'\u001b[0m\u001b[1;33m\u001b[0m\u001b[1;33m\u001b[0m\u001b[0m\n\u001b[1;32m---> 12\u001b[1;33m \u001b[0mchosen_datasets\u001b[0m \u001b[1;33m=\u001b[0m \u001b[1;33m{\u001b[0m\u001b[0mx\u001b[0m\u001b[1;33m:\u001b[0m \u001b[0mdatasets\u001b[0m\u001b[1;33m.\u001b[0m\u001b[0mImageFolder\u001b[0m\u001b[1;33m(\u001b[0m\u001b[0mos\u001b[0m\u001b[1;33m.\u001b[0m\u001b[0mpath\u001b[0m\u001b[1;33m.\u001b[0m\u001b[0mjoin\u001b[0m\u001b[1;33m(\u001b[0m\u001b[0mdata_dir\u001b[0m\u001b[1;33m,\u001b[0m \u001b[0mx\u001b[0m\u001b[1;33m)\u001b[0m\u001b[1;33m,\u001b[0m \u001b[0mtransform\u001b[0m\u001b[1;33m[\u001b[0m\u001b[0mx\u001b[0m\u001b[1;33m]\u001b[0m\u001b[1;33m)\u001b[0m \u001b[1;32mfor\u001b[0m \u001b[0mx\u001b[0m \u001b[1;32min\u001b[0m \u001b[1;33m[\u001b[0m\u001b[1;34m'train'\u001b[0m\u001b[1;33m]\u001b[0m\u001b[1;33m}\u001b[0m\u001b[1;33m\u001b[0m\u001b[1;33m\u001b[0m\u001b[0m\n\u001b[0m\u001b[0;32m     13\u001b[0m \u001b[0mdataloaders\u001b[0m \u001b[1;33m=\u001b[0m \u001b[1;33m{\u001b[0m\u001b[0mx\u001b[0m\u001b[1;33m:\u001b[0m \u001b[0mtorch\u001b[0m\u001b[1;33m.\u001b[0m\u001b[0mutils\u001b[0m\u001b[1;33m.\u001b[0m\u001b[0mdata\u001b[0m\u001b[1;33m.\u001b[0m\u001b[0mDataLoader\u001b[0m\u001b[1;33m(\u001b[0m\u001b[0mchosen_datasets\u001b[0m\u001b[1;33m[\u001b[0m\u001b[0mx\u001b[0m\u001b[1;33m]\u001b[0m\u001b[1;33m,\u001b[0m \u001b[0mbatch_size\u001b[0m \u001b[1;33m=\u001b[0m \u001b[1;36m80\u001b[0m\u001b[1;33m)\u001b[0m \u001b[1;32mfor\u001b[0m \u001b[0mx\u001b[0m \u001b[1;32min\u001b[0m \u001b[1;33m[\u001b[0m\u001b[1;34m'train'\u001b[0m\u001b[1;33m]\u001b[0m\u001b[1;33m}\u001b[0m\u001b[1;33m\u001b[0m\u001b[1;33m\u001b[0m\u001b[0m\n\u001b[0;32m     14\u001b[0m \u001b[0mdataiter\u001b[0m \u001b[1;33m=\u001b[0m \u001b[0miter\u001b[0m\u001b[1;33m(\u001b[0m\u001b[0mdataloaders\u001b[0m\u001b[1;33m[\u001b[0m\u001b[1;34m'train'\u001b[0m\u001b[1;33m]\u001b[0m\u001b[1;33m)\u001b[0m\u001b[1;33m\u001b[0m\u001b[1;33m\u001b[0m\u001b[0m\n",
      "\u001b[1;31mNameError\u001b[0m: name 'transform' is not defined"
     ]
    }
   ],
   "source": [
    "# Loading activations for the vinckier stimuli\n",
    "net = CORNet_Z_nonbiased_words()\n",
    "checkpoint = torch.load('models/save_lit_no_bias_z_79_full_nomir.pth.tar')['state_dict']\n",
    "for key in list(checkpoint.keys()):\n",
    "    if 'module.' in key:\n",
    "        checkpoint[key.replace('module.', '')] = checkpoint[key]\n",
    "        del checkpoint[key]\n",
    "net.load_state_dict(checkpoint)\n",
    "\n",
    "## Vinckier stimuli  \n",
    "data_dir = 'stimuli/vinckier240/'\n",
    "transform = {'train': transforms.Compose([transforms.Resize((224,224)),\n",
    "transforms.ToTensor(),transforms.Normalize(mean=[0.485, 0.456, 0.406], std=[0.229, 0.224, 0.225])])}\n",
    "\n",
    "chosen_datasets = {x: datasets.ImageFolder(os.path.join(data_dir, x), transform[x]) for x in ['train']}\n",
    "dataloaders = {x: torch.utils.data.DataLoader(chosen_datasets[x], batch_size = 80) for x in ['train']}\n",
    "dataiter = iter(dataloaders['train'])\n",
    "\n",
    "VnBli = {};  VnBli['h'] = []\n",
    "for i in range(18):\n",
    "    stimtemp, classes = next(dataiter)\n",
    "    _,_,_,_,varh, _ = net(stimtemp.float())\n",
    "    VnBli['h'].extend(varh.detach().numpy())\n",
    "x = np.array(VnBli['h']) #stimulus \n",
    "\n",
    "print('Full Vinckier data loaded')"
   ]
  },
  {
   "cell_type": "code",
   "execution_count": 4,
   "metadata": {
    "code_folding": []
   },
   "outputs": [
    {
     "ename": "NameError",
     "evalue": "name 'x' is not defined",
     "output_type": "error",
     "traceback": [
      "\u001b[1;31m---------------------------------------------------------------------------\u001b[0m",
      "\u001b[1;31mNameError\u001b[0m                                 Traceback (most recent call last)",
      "\u001b[1;32m<ipython-input-4-c0b1999428b9>\u001b[0m in \u001b[0;36m<module>\u001b[1;34m\u001b[0m\n\u001b[0;32m      3\u001b[0m \u001b[1;31m# Response to word specific units\u001b[0m\u001b[1;33m\u001b[0m\u001b[1;33m\u001b[0m\u001b[1;33m\u001b[0m\u001b[0m\n\u001b[0;32m      4\u001b[0m \u001b[0mwordSelUnit\u001b[0m \u001b[1;33m=\u001b[0m \u001b[0mnp\u001b[0m\u001b[1;33m.\u001b[0m\u001b[0msort\u001b[0m\u001b[1;33m(\u001b[0m\u001b[0mnid\u001b[0m\u001b[1;33m[\u001b[0m\u001b[1;36m1\u001b[0m\u001b[1;33m]\u001b[0m\u001b[1;33m.\u001b[0m\u001b[0mflatten\u001b[0m\u001b[1;33m(\u001b[0m\u001b[1;33m)\u001b[0m\u001b[1;33m)\u001b[0m\u001b[1;33m\u001b[0m\u001b[1;33m\u001b[0m\u001b[0m\n\u001b[1;32m----> 5\u001b[1;33m \u001b[0mVli_obs\u001b[0m \u001b[1;33m=\u001b[0m \u001b[0mx\u001b[0m\u001b[1;33m[\u001b[0m\u001b[1;33m:\u001b[0m\u001b[1;33m,\u001b[0m\u001b[0mwordSelUnit\u001b[0m\u001b[1;33m]\u001b[0m\u001b[1;33m\u001b[0m\u001b[1;33m\u001b[0m\u001b[0m\n\u001b[0m\u001b[0;32m      6\u001b[0m \u001b[1;33m\u001b[0m\u001b[0m\n\u001b[0;32m      7\u001b[0m \u001b[1;31m# Loading stimuli names\u001b[0m\u001b[1;33m\u001b[0m\u001b[1;33m\u001b[0m\u001b[1;33m\u001b[0m\u001b[0m\n",
      "\u001b[1;31mNameError\u001b[0m: name 'x' is not defined"
     ]
    }
   ],
   "source": [
    "# Model fitting different categories of Vinckier stimuli\n",
    "\n",
    "# Response to word specific units\n",
    "wordSelUnit = np.sort(nid[1].flatten())\n",
    "Vli_obs = x[:,wordSelUnit]\n",
    "\n",
    "# Loading stimuli names\n",
    "Vwordlist = []; nstimpercat = 240\n",
    "for file in glob.glob(\"D:/2_Research/UNICOG/experiments/DNN/Github-Thomas/others/StimulusProperties/*.txt\"):\n",
    "    if not file[-6:-4] == 'NV':\n",
    "        file1 = open(file,\"r\") \n",
    "        x = (file1.read()).split('\\n')\n",
    "        Vwordlist = np.concatenate((Vwordlist, x[:nstimpercat]))\n",
    "\n",
    "#  Building regression matrix\n",
    "Vxmat = np.zeros((len(Vwordlist), 26*8))\n",
    "for i, seq in enumerate(Vwordlist):\n",
    "    offset = int(4-len(seq)/2)\n",
    "    for j, char in enumerate(seq.lower()): \n",
    "        if char in strlist:\n",
    "            pid = (strlist.index(char)*8) + j #+offset # Encoding position information\n",
    "            Vxmat[i,pid] += 1  # Assigning ones at corresponding locations      \n",
    "            \n",
    "\n",
    "    \n",
    "##### Initializing variables\n",
    "Vrfit = np.zeros((len(wordSelUnit), 6,6))\n",
    "coefMat = np.zeros((len(wordSelUnit),6, 26*8))\n",
    "\n",
    "################ Model fitting  ######################\n",
    "for neu in range(len(wordSelUnit)): \n",
    "    for vcat in range(6):\n",
    "        Xmat_tr = Vxmat[(i)*nstimpercat:(i+1)*nstimpercat,:]\n",
    "        Yobs_tr = Vli_obs[(i)*nstimpercat:(i+1)*nstimpercat,neu]\n",
    "        \n",
    "        reg = LassoCV(cv=5, random_state=42,max_iter=10000).fit(Xmat_tr, Yobs_tr)   \n",
    "        coefMat[neu,vcat,:] = reg.coef_\n",
    "\n",
    "    \n",
    "        for i in range(6):\n",
    "            corrval,_ = scipy.stats.pearsonr(Vxmat[(i)*nstimpercat:(i+1)*nstimpercat,:]@reg.coef_, \n",
    "                                             Vli_obs[(i)*nstimpercat:(i+1)*nstimpercat,neu])\n",
    "            Vrfit[neu,vcat,i] = corrval**2 \n",
    "     \n",
    "    \n",
    "# plt.hist(rfit, bins= np.arange(0,1,.1), rwidth= .8, alpha = 0.5)\n",
    "# plt.hist(Vrfit[:,5],bins = np.arange(0,1,.1),alpha = 0.5, rwidth= .8)\n",
    "# plt.xlabel('Cross-Validated score (R^2)'); plt.ylabel('Count')\n",
    "# plt.title('English word selective units - h layer')\n",
    "# plt.legend(['Trained words','Vinckier words'])\n",
    "\n",
    "# Ravg = np.append(np.nanmean(Vrfit,0),np.nanmean(rfit))\n",
    "# plt.figure(2); plt.bar(range(7),Ravg)\n",
    "# plt.ylabel('Cross-Validated score (R^2)')\n",
    "# plt.title('English word selective units - h layer')\n",
    "# plt.xticks(ticks = range(7),labels=['FF','IL','FL','FB','FQ','Vword','500Word']);"
   ]
  }
 ],
 "metadata": {
  "kernelspec": {
   "display_name": "Python 3",
   "language": "python",
   "name": "python3"
  },
  "language_info": {
   "codemirror_mode": {
    "name": "ipython",
    "version": 3
   },
   "file_extension": ".py",
   "mimetype": "text/x-python",
   "name": "python",
   "nbconvert_exporter": "python",
   "pygments_lexer": "ipython3",
   "version": "3.8.3"
  }
 },
 "nbformat": 4,
 "nbformat_minor": 4
}
