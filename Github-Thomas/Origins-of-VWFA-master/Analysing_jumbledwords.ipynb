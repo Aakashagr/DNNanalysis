{
 "cells": [
  {
   "cell_type": "code",
   "execution_count": 1,
   "metadata": {},
   "outputs": [],
   "source": [
    "import numpy as np\n",
    "import scipy\n",
    "import matplotlib as mpl\n",
    "from matplotlib import pyplot as plt\n",
    "import torch\n",
    "import torchvision\n",
    "from torch import nn, optim\n",
    "from sklearn.decomposition import PCA\n",
    "from sklearn.manifold import TSNE\n",
    "from scipy.io import loadmat\n",
    "import os, sys\n",
    "import torchvision.transforms as transforms\n",
    "import string\n",
    "from  collections import defaultdict\n",
    "from sklearn.linear_model import LassoCV\n",
    "\n",
    "# images = loadmat('baoimg.mat').get('img')\n",
    "%run clean_cornets.py"
   ]
  },
  {
   "cell_type": "code",
   "execution_count": 2,
   "metadata": {},
   "outputs": [],
   "source": [
    "from torchvision import datasets, transforms\n",
    "\n",
    "# data_dir = 'images/'\n",
    "data_dir = 'stimuli/jumbledWords/'\n",
    "transform = {'train': transforms.Compose([transforms.Resize((224,224)),\n",
    "transforms.ToTensor(),\n",
    "transforms.Normalize(mean=[0.485, 0.456, 0.406], std=[0.229, 0.224, 0.225])]),}\n",
    "\n",
    "chosen_datasets = {x: datasets.ImageFolder(os.path.join(data_dir, x), transform =  transform[x]) for x in ['train']}\n",
    "dataloaders = {x: torch.utils.data.DataLoader(chosen_datasets[x], batch_size = 80,shuffle = False) for x in ['train']}\n",
    "\n"
   ]
  },
  {
   "cell_type": "code",
   "execution_count": null,
   "metadata": {
    "code_folding": [
     0
    ],
    "scrolled": true
   },
   "outputs": [],
   "source": [
    "# Visualizing few images. \n",
    "xx = iter(dataloaders['train'])\n",
    "images, labels = next(xx)\n",
    "grid = torchvision.utils.make_grid(images[:24,:,:,:]);\n",
    "plt.figure(figsize = (10,100));\n",
    "plt.imshow(grid.numpy().transpose((1, 2, 0)));"
   ]
  },
  {
   "cell_type": "code",
   "execution_count": 13,
   "metadata": {},
   "outputs": [
    {
     "name": "stdout",
     "output_type": "stream",
     "text": [
      "0\n",
      "1\n",
      "2\n",
      "3\n",
      "4\n",
      "5\n",
      "6\n",
      "7\n",
      "8\n",
      "9\n",
      "10\n",
      "11\n",
      "12\n",
      "13\n",
      "14\n",
      "15\n",
      "16\n",
      "17\n",
      "18\n",
      "19\n",
      "20\n",
      "21\n",
      "22\n",
      "23\n",
      "24\n",
      "25\n",
      "26\n",
      "27\n",
      "28\n",
      "29\n",
      "30\n",
      "31\n",
      "32\n",
      "33\n",
      "34\n"
     ]
    },
    {
     "ename": "StopIteration",
     "evalue": "",
     "output_type": "error",
     "traceback": [
      "\u001b[1;31m---------------------------------------------------------------------------\u001b[0m",
      "\u001b[1;31mStopIteration\u001b[0m                             Traceback (most recent call last)",
      "\u001b[1;32m<ipython-input-13-2485a0790c8e>\u001b[0m in \u001b[0;36m<module>\u001b[1;34m\u001b[0m\n\u001b[0;32m     31\u001b[0m \u001b[1;33m\u001b[0m\u001b[0m\n\u001b[0;32m     32\u001b[0m \u001b[1;32mfor\u001b[0m \u001b[0mi\u001b[0m \u001b[1;32min\u001b[0m \u001b[0mrange\u001b[0m\u001b[1;33m(\u001b[0m\u001b[1;36m100\u001b[0m\u001b[1;33m)\u001b[0m\u001b[1;33m:\u001b[0m\u001b[1;33m\u001b[0m\u001b[1;33m\u001b[0m\u001b[0m\n\u001b[1;32m---> 33\u001b[1;33m     \u001b[0mstimtemp\u001b[0m\u001b[1;33m,\u001b[0m \u001b[0mclasses\u001b[0m \u001b[1;33m=\u001b[0m \u001b[0mnext\u001b[0m\u001b[1;33m(\u001b[0m\u001b[0mdataiter\u001b[0m\u001b[1;33m)\u001b[0m\u001b[1;33m\u001b[0m\u001b[1;33m\u001b[0m\u001b[0m\n\u001b[0m\u001b[0;32m     34\u001b[0m     \u001b[0m_\u001b[0m\u001b[1;33m,\u001b[0m\u001b[0m_\u001b[0m\u001b[1;33m,\u001b[0m\u001b[0m_\u001b[0m\u001b[1;33m,\u001b[0m\u001b[0mvarIt\u001b[0m\u001b[1;33m,\u001b[0m\u001b[0mvarh\u001b[0m\u001b[1;33m,\u001b[0m \u001b[0mvarOut\u001b[0m \u001b[1;33m=\u001b[0m \u001b[0mnet\u001b[0m\u001b[1;33m(\u001b[0m\u001b[0mstimtemp\u001b[0m\u001b[1;33m.\u001b[0m\u001b[0mfloat\u001b[0m\u001b[1;33m(\u001b[0m\u001b[1;33m)\u001b[0m\u001b[1;33m)\u001b[0m\u001b[1;33m\u001b[0m\u001b[1;33m\u001b[0m\u001b[0m\n\u001b[0;32m     35\u001b[0m     \u001b[0mBli\u001b[0m\u001b[1;33m[\u001b[0m\u001b[1;34m'it'\u001b[0m\u001b[1;33m]\u001b[0m\u001b[1;33m.\u001b[0m\u001b[0mextend\u001b[0m\u001b[1;33m(\u001b[0m\u001b[0mvarIt\u001b[0m\u001b[1;33m.\u001b[0m\u001b[0mdetach\u001b[0m\u001b[1;33m(\u001b[0m\u001b[1;33m)\u001b[0m\u001b[1;33m.\u001b[0m\u001b[0mnumpy\u001b[0m\u001b[1;33m(\u001b[0m\u001b[1;33m)\u001b[0m\u001b[1;33m)\u001b[0m\u001b[1;33m\u001b[0m\u001b[1;33m\u001b[0m\u001b[0m\n",
      "\u001b[1;32mD:\\software_installation\\Anaconda\\lib\\site-packages\\torch\\utils\\data\\dataloader.py\u001b[0m in \u001b[0;36m__next__\u001b[1;34m(self)\u001b[0m\n\u001b[0;32m    361\u001b[0m \u001b[1;33m\u001b[0m\u001b[0m\n\u001b[0;32m    362\u001b[0m     \u001b[1;32mdef\u001b[0m \u001b[0m__next__\u001b[0m\u001b[1;33m(\u001b[0m\u001b[0mself\u001b[0m\u001b[1;33m)\u001b[0m\u001b[1;33m:\u001b[0m\u001b[1;33m\u001b[0m\u001b[1;33m\u001b[0m\u001b[0m\n\u001b[1;32m--> 363\u001b[1;33m         \u001b[0mdata\u001b[0m \u001b[1;33m=\u001b[0m \u001b[0mself\u001b[0m\u001b[1;33m.\u001b[0m\u001b[0m_next_data\u001b[0m\u001b[1;33m(\u001b[0m\u001b[1;33m)\u001b[0m\u001b[1;33m\u001b[0m\u001b[1;33m\u001b[0m\u001b[0m\n\u001b[0m\u001b[0;32m    364\u001b[0m         \u001b[0mself\u001b[0m\u001b[1;33m.\u001b[0m\u001b[0m_num_yielded\u001b[0m \u001b[1;33m+=\u001b[0m \u001b[1;36m1\u001b[0m\u001b[1;33m\u001b[0m\u001b[1;33m\u001b[0m\u001b[0m\n\u001b[0;32m    365\u001b[0m         \u001b[1;32mif\u001b[0m \u001b[0mself\u001b[0m\u001b[1;33m.\u001b[0m\u001b[0m_dataset_kind\u001b[0m \u001b[1;33m==\u001b[0m \u001b[0m_DatasetKind\u001b[0m\u001b[1;33m.\u001b[0m\u001b[0mIterable\u001b[0m \u001b[1;32mand\u001b[0m\u001b[0;31m \u001b[0m\u001b[0;31m\\\u001b[0m\u001b[1;33m\u001b[0m\u001b[1;33m\u001b[0m\u001b[0m\n",
      "\u001b[1;32mD:\\software_installation\\Anaconda\\lib\\site-packages\\torch\\utils\\data\\dataloader.py\u001b[0m in \u001b[0;36m_next_data\u001b[1;34m(self)\u001b[0m\n\u001b[0;32m    400\u001b[0m \u001b[1;33m\u001b[0m\u001b[0m\n\u001b[0;32m    401\u001b[0m     \u001b[1;32mdef\u001b[0m \u001b[0m_next_data\u001b[0m\u001b[1;33m(\u001b[0m\u001b[0mself\u001b[0m\u001b[1;33m)\u001b[0m\u001b[1;33m:\u001b[0m\u001b[1;33m\u001b[0m\u001b[1;33m\u001b[0m\u001b[0m\n\u001b[1;32m--> 402\u001b[1;33m         \u001b[0mindex\u001b[0m \u001b[1;33m=\u001b[0m \u001b[0mself\u001b[0m\u001b[1;33m.\u001b[0m\u001b[0m_next_index\u001b[0m\u001b[1;33m(\u001b[0m\u001b[1;33m)\u001b[0m  \u001b[1;31m# may raise StopIteration\u001b[0m\u001b[1;33m\u001b[0m\u001b[1;33m\u001b[0m\u001b[0m\n\u001b[0m\u001b[0;32m    403\u001b[0m         \u001b[0mdata\u001b[0m \u001b[1;33m=\u001b[0m \u001b[0mself\u001b[0m\u001b[1;33m.\u001b[0m\u001b[0m_dataset_fetcher\u001b[0m\u001b[1;33m.\u001b[0m\u001b[0mfetch\u001b[0m\u001b[1;33m(\u001b[0m\u001b[0mindex\u001b[0m\u001b[1;33m)\u001b[0m  \u001b[1;31m# may raise StopIteration\u001b[0m\u001b[1;33m\u001b[0m\u001b[1;33m\u001b[0m\u001b[0m\n\u001b[0;32m    404\u001b[0m         \u001b[1;32mif\u001b[0m \u001b[0mself\u001b[0m\u001b[1;33m.\u001b[0m\u001b[0m_pin_memory\u001b[0m\u001b[1;33m:\u001b[0m\u001b[1;33m\u001b[0m\u001b[1;33m\u001b[0m\u001b[0m\n",
      "\u001b[1;32mD:\\software_installation\\Anaconda\\lib\\site-packages\\torch\\utils\\data\\dataloader.py\u001b[0m in \u001b[0;36m_next_index\u001b[1;34m(self)\u001b[0m\n\u001b[0;32m    355\u001b[0m \u001b[1;33m\u001b[0m\u001b[0m\n\u001b[0;32m    356\u001b[0m     \u001b[1;32mdef\u001b[0m \u001b[0m_next_index\u001b[0m\u001b[1;33m(\u001b[0m\u001b[0mself\u001b[0m\u001b[1;33m)\u001b[0m\u001b[1;33m:\u001b[0m\u001b[1;33m\u001b[0m\u001b[1;33m\u001b[0m\u001b[0m\n\u001b[1;32m--> 357\u001b[1;33m         \u001b[1;32mreturn\u001b[0m \u001b[0mnext\u001b[0m\u001b[1;33m(\u001b[0m\u001b[0mself\u001b[0m\u001b[1;33m.\u001b[0m\u001b[0m_sampler_iter\u001b[0m\u001b[1;33m)\u001b[0m  \u001b[1;31m# may raise StopIteration\u001b[0m\u001b[1;33m\u001b[0m\u001b[1;33m\u001b[0m\u001b[0m\n\u001b[0m\u001b[0;32m    358\u001b[0m \u001b[1;33m\u001b[0m\u001b[0m\n\u001b[0;32m    359\u001b[0m     \u001b[1;32mdef\u001b[0m \u001b[0m_next_data\u001b[0m\u001b[1;33m(\u001b[0m\u001b[0mself\u001b[0m\u001b[1;33m)\u001b[0m\u001b[1;33m:\u001b[0m\u001b[1;33m\u001b[0m\u001b[1;33m\u001b[0m\u001b[0m\n",
      "\u001b[1;31mStopIteration\u001b[0m: "
     ]
    }
   ],
   "source": [
    "dataiter = iter(dataloaders['train'])\n",
    "\n",
    "# nBli = {}; nBli['it'] = []; nBli['h'] = []; nBli['out'] = []\n",
    "# net = CORNet_Z_nonbiased_words()\n",
    "# checkpoint = torch.load('models/save_lit_no_bias_z_79_full_nomir.pth.tar')['state_dict']\n",
    "# for key in list(checkpoint.keys()):\n",
    "#     if 'module.' in key:\n",
    "#         checkpoint[key.replace('module.', '')] = checkpoint[key]\n",
    "#         del checkpoint[key]\n",
    "# net.load_state_dict(checkpoint)\n",
    "# # net.eval() \n",
    "    \n",
    "# for i in range(35):\n",
    "#     stimtemp, classes = next(dataiter)\n",
    "#     # nBli['v1'], nBli['v2'], nBli['v4'], nBli['it'], nBli['h'],  nBli['out'] = net(stimtemp.float())\n",
    "#     _,_,_,varIt,varh, varOut = net(stimtemp.float())\n",
    "#     nBli['it'].extend(varIt.detach().numpy()); \n",
    "#     nBli['h'].extend(varh.detach().numpy()); \n",
    "#     nBli['out'].extend(varOut.detach().numpy()); \n",
    "#     print(i)\n",
    "\n",
    "###  Biased literate network\n",
    "Bli = {}; Bli['it'] = []; Bli['h'] = []; Bli['out'] = []\n",
    "net = CORNet_Z_biased_words()\n",
    "checkpoint = torch.load('models/save_lit_bias_z_79_full_nomir.pth.tar')['state_dict']\n",
    "for key in list(checkpoint.keys()):\n",
    "    if 'module.' in key:\n",
    "        checkpoint[key.replace('module.', '')] = checkpoint[key]\n",
    "        del checkpoint[key]\n",
    "net.load_state_dict(checkpoint)\n",
    "    \n",
    "for i in range(100):\n",
    "    stimtemp, classes = next(dataiter)\n",
    "    _,_,_,varIt,varh, varOut = net(stimtemp.float())\n",
    "    Bli['it'].extend(varIt.detach().numpy())\n",
    "    Bli['h'].extend(varh.detach().numpy())\n",
    "    Bli['out'].extend(varOut.detach().numpy())\n",
    "    print(i)\n",
    "\n",
    "## Loading all the three network and extracting representation from all the hidden units\n",
    "# ili = {}; ili['it'] = []; ili['h'] = []; ili['out'] = []\n",
    "# net = CORnet_Z_tweak()\n",
    "# checkpoint = torch.load('models/save_illit_z_79_full_nomir.pth.tar')['state_dict']\n",
    "# # checkpoint = torch.load('models/save_pre_z_49_full_nomir.pth.tar')['state_dict']\n",
    "\n",
    "# for key in list(checkpoint.keys()):\n",
    "#     if 'module.' in key:\n",
    "#         checkpoint[key.replace('module.', '')] = checkpoint[key]\n",
    "#         del checkpoint[key]\n",
    "# net.load_state_dict(checkpoint)\n",
    "\n",
    "# for i in range(35):\n",
    "#     stimtemp, classes = next(dataiter)\n",
    "#     _,_,_,varIt,varh, varOut = net(stimtemp.float())\n",
    "#     ili['it'].extend(varIt.detach().numpy())\n",
    "#     ili['h'].extend(varh.detach().numpy())\n",
    "#     ili['out'].extend(varOut.detach().numpy())\n",
    "#     print(i)"
   ]
  },
  {
   "cell_type": "code",
   "execution_count": 15,
   "metadata": {},
   "outputs": [
    {
     "data": {
      "image/png": "[encoded data removed]",
      "text/plain": [
       "<Figure size 432x288 with 1 Axes>"
      ]
     },
     "metadata": {
      "needs_background": "light"
     },
     "output_type": "display_data"
    }
   ],
   "source": [
    "gnet = {}; gnet['it'] = []; gnet['h'] = []; gnet['out'] = []\n",
    "gnet['it'] = np.array(Bli['it'])\n",
    "gnet['h'] = np.array(Bli['h'])\n",
    "gnet['out'] = np.array(Bli['out'])\n",
    "\n",
    "classid = []\n",
    "for i in range(np.size(gnet['out'],0)):\n",
    "    classid.append(np.argmax((gnet['out'][i,:])))\n",
    "classid = np.reshape(classid,[11,248])\n",
    "\n",
    "words = np.load('sorted_wordlist.npy')\n",
    "wordlen = [len(x) for x in words]\n",
    "true_label = np.array(np.where(np.array(wordlen) ==6))+1000\n",
    "\n",
    "\n",
    "acc = []\n",
    "for i in range(11):\n",
    "#     acc.append(np.sum(classid[i,:] == classid[0,:])/248)\n",
    "    acc.append(np.sum(classid[i,:] == true_label)/248)\n",
    "\n",
    "plt.bar(range(11),acc)\n",
    "legend = ['Original','1-2 trans','2-3 trans','3-4 trans','4-5 trans','5-6 trans',\n",
    "          '1-2 subs','2-3 subs','3-4 subs','4-5 subs','5-6 subs',]\n",
    "plt.ylabel('Accuracy'); plt.title('Biased literate n/w')\n",
    "plt.xticks(range(11), labels = legend ,rotation= 45);"
   ]
  },
  {
   "cell_type": "code",
   "execution_count": 14,
   "metadata": {},
   "outputs": [
    {
     "data": {
      "image/png": "[encoded data removed]",
      "text/plain": [
       "<Figure size 432x288 with 1 Axes>"
      ]
     },
     "metadata": {
      "needs_background": "light"
     },
     "output_type": "display_data"
    }
   ],
   "source": [
    "plt.bar(range(11),acc)\n",
    "legend = ['Original','1-2 trans','2-3 trans','3-4 trans','4-5 trans','5-6 trans',\n",
    "          '1-2 subs','2-3 subs','3-4 subs','4-5 subs','5-6 subs',]\n",
    "plt.ylabel('Accuracy'); plt.title('Non-biased literate n/w')\n",
    "plt.xticks(range(11), labels = legend ,rotation= 45);"
   ]
  },
  {
   "cell_type": "code",
   "execution_count": 10,
   "metadata": {},
   "outputs": [
    {
     "data": {
      "text/plain": [
       "Text(0.5, 1.0, 'IT layer - illiterate n/w')"
      ]
     },
     "execution_count": 10,
     "metadata": {},
     "output_type": "execute_result"
    },
    {
     "data": {
      "image/png": "[encoded data removed]",
      "text/plain": [
       "<Figure size 432x288 with 1 Axes>"
      ]
     },
     "metadata": {
      "needs_background": "light"
     },
     "output_type": "display_data"
    }
   ],
   "source": [
    "# Comparing representation space. \n",
    "from scipy.spatial.distance import pdist, squareform\n",
    "from sklearn.metrics import pairwise_distances\n",
    "from scipy.special import comb\n",
    "\n",
    "\n",
    "distMetric = 'euclidean'\n",
    "\n",
    "D = np.zeros((comb(248, 2,exact =True),11)); \n",
    "\n",
    "for i in range(11):\n",
    "    idx = np.arange(248*(i-1), 248*i)\n",
    "    D[:,i] = squareform(pairwise_distances(gnet['it'][idx,:],metric = distMetric))\n",
    "    \n",
    "rval = []\n",
    "for i in range(11):\n",
    "    r,_ = scipy.stats.spearmanr(D[:,0],D[:,i])\n",
    "    rval.append(r)\n",
    "    \n",
    "plt.bar(range(11),rval)\n",
    "plt.ylabel('Correlation of representation with original word');\n",
    "plt.xticks(range(11), labels = legend,rotation= 45);\n",
    "plt.title('IT layer - illiterate n/w')"
   ]
  }
 ],
 "metadata": {
  "kernelspec": {
   "display_name": "Python 3",
   "language": "python",
   "name": "python3"
  },
  "language_info": {
   "codemirror_mode": {
    "name": "ipython",
    "version": 3
   },
   "file_extension": ".py",
   "mimetype": "text/x-python",
   "name": "python",
   "nbconvert_exporter": "python",
   "pygments_lexer": "ipython3",
   "version": "3.8.3"
  }
 },
 "nbformat": 4,
 "nbformat_minor": 4
}
