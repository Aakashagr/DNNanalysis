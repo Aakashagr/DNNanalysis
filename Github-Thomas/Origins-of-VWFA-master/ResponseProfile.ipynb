{
 "cells": [
  {
   "cell_type": "code",
   "execution_count": 1,
   "metadata": {},
   "outputs": [],
   "source": [
    "import numpy as np\n",
    "import scipy\n",
    "import matplotlib as mpl\n",
    "from matplotlib import pyplot as plt\n",
    "import torch\n",
    "import torchvision\n",
    "from torch import nn, optim\n",
    "from sklearn.decomposition import PCA\n",
    "from sklearn.manifold import TSNE\n",
    "from scipy.io import loadmat\n",
    "import os, sys\n",
    "import torchvision.transforms as transforms\n",
    "import string\n",
    "from  collections import defaultdict\n",
    "from sklearn.linear_model import LassoCV\n",
    "\n",
    "# images = loadmat('baoimg.mat').get('img')\n",
    "%run clean_cornets.py"
   ]
  },
  {
   "cell_type": "code",
   "execution_count": 41,
   "metadata": {},
   "outputs": [],
   "source": [
    "from torchvision import datasets, transforms\n",
    "\n",
    "data_dir = 'stimuli/bigramtest/'\n",
    "transform = {'train': transforms.Compose([transforms.Resize((224,224)),\n",
    "transforms.ToTensor(),\n",
    "transforms.Normalize(mean=[0.485, 0.456, 0.406], std=[0.229, 0.224, 0.225])]),}\n",
    "\n",
    "chosen_datasets = {x: datasets.ImageFolder(os.path.join(data_dir, x), transform =  transform[x]) for x in ['train']}\n",
    "dataloaders = {x: torch.utils.data.DataLoader(chosen_datasets[x], batch_size = 200,shuffle = False) for x in ['train']}\n",
    "\n"
   ]
  },
  {
   "cell_type": "code",
   "execution_count": 42,
   "metadata": {},
   "outputs": [
    {
     "name": "stdout",
     "output_type": "stream",
     "text": [
      "0\n"
     ]
    }
   ],
   "source": [
    "dataiter = iter(dataloaders['train'])\n",
    "\n",
    "nBli = {}; nBli['it'] = []; nBli['h'] = []; nBli['out'] = []\n",
    "net = CORNet_Z_nonbiased_words()\n",
    "checkpoint = torch.load('models/save_lit_no_bias_z_79_full_nomir.pth.tar')['state_dict']\n",
    "for key in list(checkpoint.keys()):\n",
    "    if 'module.' in key:\n",
    "        checkpoint[key.replace('module.', '')] = checkpoint[key]\n",
    "        del checkpoint[key]\n",
    "net.load_state_dict(checkpoint)\n",
    "# net.eval() \n",
    "    \n",
    "for i in range(1):\n",
    "    stimtemp, classes = next(dataiter)\n",
    "    # nBli['v1'], nBli['v2'], nBli['v4'], nBli['it'], nBli['h'],  nBli['out'] = net(stimtemp.float())\n",
    "    _,_,_,varIt,varh, varOut = net(stimtemp.float())\n",
    "    nBli['it'].extend(varIt.detach().numpy())\n",
    "    nBli['h'].extend(varh.detach().numpy())\n",
    "    nBli['out'].extend(varOut.detach().numpy())\n",
    "    print(i)"
   ]
  },
  {
   "cell_type": "code",
   "execution_count": 54,
   "metadata": {},
   "outputs": [
    {
     "data": {
      "text/plain": [
       "Text(0, 0.5, 'Mean Response')"
      ]
     },
     "execution_count": 54,
     "metadata": {},
     "output_type": "execute_result"
    },
    {
     "data": {
      "image/png": "[encoded data removed]",
      "text/plain": [
       "<Figure size 432x288 with 1 Axes>"
      ]
     },
     "metadata": {
      "needs_background": "light"
     },
     "output_type": "display_data"
    },
    {
     "data": {
      "image/png": "[encoded data removed]",
      "text/plain": [
       "<Figure size 432x288 with 1 Axes>"
      ]
     },
     "metadata": {
      "needs_background": "light"
     },
     "output_type": "display_data"
    }
   ],
   "source": [
    "# np.shape(nBli['h'])\n",
    "# wordlist = ['HO','OH','HX','XH','OX','XO','XX', \n",
    "#                 'XXXXXHOX','XXXXXOHX','XXXXXHXX','XXXXXXHX','XXXXXOXX','XXXXXXOX','XXXXXXXX']\n",
    "wordlist = ['ER','RE','EX','XE','RX','XR','XX', \n",
    "                'XXXXXERX','XXXXXREX','XXXXXEXX','XXXXXXEX','XXXXXRXX','XXXXXXRX','XXXXXXXX']\n",
    "    \n",
    "x = np.array(nBli['h'])\n",
    "out = x[:,23]\n",
    "plt.imshow(np.reshape(out,[14,8]),cmap = 'jet')\n",
    "plt.yticks(ticks = range(14), labels=wordlist);\n",
    "plt.xticks(ticks = range(8), labels=['s1x1y1','s1x1y2','s1x2y1','s1x2y2','s2x1y1','s2x1y2','s2x2y1','s2x2y2'],rotation =90);\n",
    "\n",
    "plt.figure(2);\n",
    "plt.plot(np.mean(np.reshape(out,[14,8]),1))\n",
    "plt.xticks(ticks = range(14), labels=wordlist,rotation = 90);\n",
    "plt.title('Unit-21'); plt.ylabel('Mean Response')"
   ]
  },
  {
   "cell_type": "code",
   "execution_count": 48,
   "metadata": {},
   "outputs": [
    {
     "data": {
      "text/plain": [
       "array([[ 1.2858204 ,  1.3970988 ,  0.6599769 ,  0.3802345 ,  0.        ,\n",
       "         0.        ,  0.21769181,  0.20845297],\n",
       "       [ 1.0633136 ,  0.97580206,  0.39035267,  0.13946567,  0.11730061,\n",
       "         0.18757857,  0.32338828,  0.        ],\n",
       "       [ 4.5870624 ,  6.233477  ,  4.3644776 ,  5.1027045 ,  1.0113298 ,\n",
       "         0.20639828,  1.2632153 ,  0.59438115],\n",
       "       [ 1.7035985 ,  1.7397729 ,  2.1306896 ,  0.7168414 ,  1.1984962 ,\n",
       "         0.31851074,  1.1758244 ,  0.54373723],\n",
       "       [ 6.4743752 ,  8.452455  ,  6.7478065 , 11.518527  , 12.075276  ,\n",
       "        13.9035635 , 13.075523  , 12.379518  ],\n",
       "       [ 9.907795  ,  7.6979384 ,  7.0413322 ,  8.8935995 , 15.856739  ,\n",
       "        16.11358   , 11.21911   , 13.195285  ],\n",
       "       [ 3.8479369 ,  3.9753232 ,  1.722522  ,  3.070334  ,  7.884721  ,\n",
       "        10.284009  ,  7.2380214 ,  7.335047  ],\n",
       "       [ 4.3728085 ,  5.602894  ,  1.8552831 ,  1.7971206 ,  0.        ,\n",
       "         0.2657849 ,  5.6966434 ,  6.7778325 ],\n",
       "       [ 6.0724707 ,  4.630322  ,  1.4873651 ,  4.2717443 ,  0.        ,\n",
       "         0.5081205 ,  4.7816696 ,  5.672634  ],\n",
       "       [ 4.3728085 ,  5.602894  ,  1.8552831 ,  1.7971206 ,  0.        ,\n",
       "         0.2657849 ,  5.6966434 ,  6.7778325 ],\n",
       "       [ 4.3728085 ,  5.602894  ,  1.8552831 ,  1.7971206 ,  0.        ,\n",
       "         0.2657849 ,  5.6966434 ,  6.7778325 ],\n",
       "       [ 6.0724707 ,  4.630322  ,  1.4873651 ,  4.2717443 ,  0.        ,\n",
       "         0.5081205 ,  4.7816696 ,  5.672634  ],\n",
       "       [ 4.3728085 ,  5.602894  ,  1.8552831 ,  1.7971206 ,  0.        ,\n",
       "         0.2657849 ,  5.6966434 ,  6.7778325 ],\n",
       "       [ 6.0724707 ,  4.630322  ,  1.4873651 ,  4.2717443 ,  0.        ,\n",
       "         0.5081205 ,  4.7816696 ,  5.672634  ]], dtype=float32)"
      ]
     },
     "execution_count": 48,
     "metadata": {},
     "output_type": "execute_result"
    }
   ],
   "source": [
    "np.reshape(out,[14,8])\n",
    "# out"
   ]
  },
  {
   "cell_type": "code",
   "execution_count": null,
   "metadata": {},
   "outputs": [],
   "source": []
  }
 ],
 "metadata": {
  "kernelspec": {
   "display_name": "Python 3",
   "language": "python",
   "name": "python3"
  },
  "language_info": {
   "codemirror_mode": {
    "name": "ipython",
    "version": 3
   },
   "file_extension": ".py",
   "mimetype": "text/x-python",
   "name": "python",
   "nbconvert_exporter": "python",
   "pygments_lexer": "ipython3",
   "version": "3.8.3"
  }
 },
 "nbformat": 4,
 "nbformat_minor": 4
}
