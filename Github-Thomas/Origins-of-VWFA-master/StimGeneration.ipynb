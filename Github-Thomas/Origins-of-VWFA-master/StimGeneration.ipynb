{
 "cells": [
  {
   "cell_type": "code",
   "execution_count": 1,
   "metadata": {},
   "outputs": [],
   "source": [
    "%run ds2.py\n",
    "import numpy as np\n",
    "from PIL import Image, ImageDraw, ImageFont, ImageOps\n"
   ]
  },
  {
   "cell_type": "code",
   "execution_count": 7,
   "metadata": {
    "code_folding": [
     0
    ]
   },
   "outputs": [],
   "source": [
    "def genspacing(savepath='', text = 'text', spacing = 0, index=1, mirror=False, invert=False, fontname='Arial', W = 500, H = 500, size=24, upper=0, show=None):\n",
    "    if upper:\n",
    "        text = text.upper()\n",
    "    if invert:\n",
    "        text = text[::-1]\n",
    "    img = Image.new(\"RGB\", (W,H), color = (255, 255, 255))\n",
    "    fnt = ImageFont.truetype(fontname+'.ttf', size)\n",
    "    draw = ImageDraw.Draw(img)\n",
    "    \n",
    "    if spacing == 0:\n",
    "        w, h = fnt.getsize(text)\n",
    "        draw.text(( (W-w)/2,  (H-h)/2), text, font=fnt, fill='black')\n",
    "\n",
    "    else:\n",
    "        \n",
    "        total_text_width, h = draw.textsize(text, font=fnt)\n",
    "        width_difference = total_text_width*spacing\n",
    "        gap_width = int(width_difference / (len(text) - 1))\n",
    "        xpos = (W - total_text_width*(1+spacing))/2\n",
    "\n",
    "\n",
    "        for letter in text:\n",
    "            draw.text((xpos,(H-h)/2),letter, (0,0,0), font=fnt)\n",
    "            letter_width, letter_height = draw.textsize(letter, font=fnt)\n",
    "            xpos += letter_width + gap_width\n",
    "\n",
    "    \n",
    "    img.save(savepath+text+str(index).zfill(2)+'.jpg')\n",
    "\n",
    "    \n"
   ]
  },
  {
   "cell_type": "code",
   "execution_count": null,
   "metadata": {
    "code_folding": [
     0
    ]
   },
   "outputs": [],
   "source": [
    "def genrotation(savepath='', text = 'text', rotation = 0, index=1, mirror=False, invert=False, fontname='Arial', W = 500, H = 500, size=24, xshift=0, yshift=0, upper=0, show=None):\n",
    "    if upper:\n",
    "        text = text.upper()\n",
    "    if invert:\n",
    "        text = text[::-1]\n",
    "        \n",
    "    img = Image.new(\"RGB\", (W,H), color = (255, 255, 255))\n",
    "    fnt = ImageFont.truetype(fontname+'.ttf', size)\n",
    "    w, h = fnt.getsize(text)\n",
    "\n",
    "    txt=Image.new('L', (W,H))\n",
    "    draw = ImageDraw.Draw(txt)\n",
    "    draw.text((xshift + (W-w)/2, yshift + (H-h)/2), text, font=fnt, fill= 255)\n",
    "    \n",
    "    xx = txt.rotate(rotation, expand=1)\n",
    "    img.paste(ImageOps.colorize(xx,  (0,0,0), (0,0,0)), mask =xx)\n",
    "\n",
    "        \n",
    "    img.save(savepath+text+str(index)+'.jpg')\n",
    "\n"
   ]
  },
  {
   "cell_type": "code",
   "execution_count": 2,
   "metadata": {
    "code_folding": [
     0
    ]
   },
   "outputs": [],
   "source": [
    "def gen2(savepath='', text = 'text', index=1, mirror=False, invert=False, fontname='Arial', W = 500, H = 500, size=24, xshift=0, yshift=0, upper=0, show=None):\n",
    "    if upper:\n",
    "        text = text.upper()\n",
    "    if invert:\n",
    "        text = text[::-1]\n",
    "    img = Image.new(\"RGB\", (W,H), color = (255, 255, 255))\n",
    "    #fnt = ImageFont.truetype('/Library/Fonts/'+fontname+'.ttf', size) #size in pixels\n",
    "    fnt = ImageFont.truetype(fontname+'.ttf', size)\n",
    "    draw = ImageDraw.Draw(img)\n",
    "    w, h = fnt.getsize(text)\n",
    "    draw.text((xshift + (W-w)/2, yshift + (H-h)/2), text, font=fnt, fill='black')\n",
    "\n",
    "    if mirror:\n",
    "        img = img.transpose(Image.FLIP_LEFT_RIGHT)\n",
    "    if savepath != '':\n",
    "        img.save(savepath+text+str(index)+'.jpg')\n",
    "    if show:\n",
    "        img.save('plots/'+text+str(index)+'.jpg')\n",
    "        img.show()\n",
    "    if savepath == '':\n",
    "        print('I was here')\n",
    "        img.show()\n",
    "        return img\n"
   ]
  },
  {
   "cell_type": "code",
   "execution_count": null,
   "metadata": {
    "code_folding": []
   },
   "outputs": [],
   "source": [
    "# generating stimulus with random variations\n",
    "def CreateMiniWordSet(path_out='wordsets_200cat_100ex/',num_train=100, num_val=0):\n",
    "    #define words, sizes, fonts\n",
    "#     words = words4yo()\n",
    "    #random.shuffle(words)\n",
    "    #wordlist =  ['dimanche', 'lundi', 'mots', 'samedi', 'semaine']\n",
    "    words = np.load('words4yo.npy')\n",
    "    wordlist = words[:200]\n",
    "    sizes = [40, 50, 60, 70, 80]\n",
    "    fonts = ['arial','tahoma']\n",
    "    xshift = [-50, -40, -30, -20, -10, 0, 10, 20, 30, 40, 50]\n",
    "    yshift = [-30, -15, 0, 15, 30]\n",
    "    \n",
    "    #create train and val folders \n",
    "    for m in ['train', 'val']:\n",
    "        for f in wordlist:\n",
    "            target_path = path_out+m+'/'+f\n",
    "            os.makedirs(target_path)\n",
    "    \n",
    "    #for each word, create num_train + num_val exemplars, then split randomly into train and val.\n",
    "    for w in tqdm(wordlist):\n",
    "        gc.collect()\n",
    "        print (w,)\n",
    "        for n in range(num_train + num_val):\n",
    "            if n < num_train:\n",
    "                path = path_out+'train/'+w+'/'\n",
    "            else:\n",
    "                path = path_out+'val/'+w+'/'\n",
    "            \n",
    "            f = random.choice(fonts)\n",
    "            s = random.choice(sizes)\n",
    "            u = random.choice([0,1])\n",
    "            x = random.choice(xshift)\n",
    "            y = random.choice(yshift)\n",
    "            gen2(savepath=path, text=w, index=n, fontname=f, size=s, xshift=x, yshift=y, upper=u)\n",
    "\n",
    "    return 'done'\n"
   ]
  },
  {
   "cell_type": "code",
   "execution_count": null,
   "metadata": {
    "code_folding": [
     0
    ]
   },
   "outputs": [],
   "source": [
    "# Word stimuli of different length\n",
    "def CreateMiniWordSet(path_out='wordsets_1000cat_8ex/',num_train=100):\n",
    "    from scipy.io import loadmat\n",
    "    \n",
    "    words = np.load('words4yo.npy')\n",
    "    wordlist = words[np.linspace(1,len(words)-1,1000,dtype='int')]\n",
    "    \n",
    "   \n",
    "    sizes = [40, 80]\n",
    "    fonts = ['arial']\n",
    "    xshift = [-30, 30]\n",
    "    yshift = [-15, 15]\n",
    "    \n",
    "    #create train and val folders \n",
    "    for m in ['train']:\n",
    "        for f in wordlist:\n",
    "            target_path = path_out+m+'/'+f\n",
    "            os.makedirs(target_path)\n",
    "    \n",
    "    #for each word, create num_train + num_val exemplars, then split randomly into train and val.\n",
    "    for w in tqdm(wordlist):\n",
    "        gc.collect()\n",
    "        print (w,)\n",
    "        path = path_out+'train/'+w+'/'\n",
    "        n = 0\n",
    "        for f in fonts:\n",
    "            for s in sizes:\n",
    "                for x in xshift:\n",
    "                    for y in yshift:\n",
    "                        n = n+1\n",
    "                        gen2(savepath=path, text=w, index=n, fontname=f, size=s, xshift=x, yshift=y, upper=1)\n",
    "\n",
    "    return 'done'\n"
   ]
  },
  {
   "cell_type": "code",
   "execution_count": null,
   "metadata": {
    "code_folding": [
     0
    ]
   },
   "outputs": [],
   "source": [
    "# Example stimuli to study bigram vs letter model\n",
    "def CreateExpWords(path_out='stimuli/bigramtest/',num_train=100):\n",
    "    from scipy.io import loadmat\n",
    "    \n",
    "    wordlist = ['ER','RE','EX','XE','RX','XR','XX', \n",
    "                'XXXXXERX','XXXXXREX','XXXXXEXX','XXXXXXEX','XXXXXRXX','XXXXXXRX','XXXXXXXX']\n",
    "    \n",
    "   \n",
    "    sizes = [40, 80]\n",
    "    fonts = ['arial']\n",
    "    xshift = [-30, 30]\n",
    "    yshift = [-15, 15]\n",
    "    \n",
    "    #create train and val folders \n",
    "    for m in ['train']:\n",
    "        for f in wordlist:\n",
    "            target_path = path_out+m+'/'+f\n",
    "            os.makedirs(target_path)\n",
    "    \n",
    "    #for each word, create num_train + num_val exemplars, then split randomly into train and val.\n",
    "    for w in tqdm(wordlist):\n",
    "        gc.collect()\n",
    "        print (w,)\n",
    "        path = path_out+'train/'+w+'/'\n",
    "        n = 0\n",
    "        for f in fonts:\n",
    "            for s in sizes:\n",
    "                for x in xshift:\n",
    "                    for y in yshift:\n",
    "                        n = n+1\n",
    "                        gen2(savepath=path, text=w, index=n, fontname=f, size=s, xshift=x, yshift=y, upper=1)\n",
    "\n",
    "    return 'done'\n",
    "\n",
    "CreateExpWords()"
   ]
  },
  {
   "cell_type": "code",
   "execution_count": null,
   "metadata": {
    "code_folding": [
     0
    ]
   },
   "outputs": [],
   "source": [
    "# Bilingual stimuli\n",
    "def CreateMiniWordSet(path_out='stimuli/wordsets_bilingual/',num_train=100):\n",
    "    from scipy.io import loadmat\n",
    "    \n",
    "    annots = loadmat('../others/EngFrStim.mat')\n",
    "    wordlist = np.concatenate(annots['stim'][0])\n",
    "\n",
    "    sizes = [40, 80]\n",
    "    fonts = ['arial']\n",
    "    xshift = [-30, 30]\n",
    "    yshift = [-15, 15]\n",
    "    \n",
    "    #create train and val folders \n",
    "    n = 0\n",
    "    for m in ['train']:\n",
    "        for f in wordlist:\n",
    "            target_path = path_out+m+'/'+str(n).zfill(3)+'_'+f\n",
    "            os.makedirs(target_path)\n",
    "            n = n+1\n",
    "\n",
    "    \n",
    "    #for each word, create num_train + num_val exemplars, then split randomly into train and val.\n",
    "    n = 0\n",
    "    for w in tqdm(wordlist):\n",
    "        gc.collect()\n",
    "        print (w,)\n",
    "        path = path_out+'train/'+str(n).zfill(3)+'_'+w+'/'\n",
    "        n = n+1\n",
    "#         for f in fonts:\n",
    "#             for s in sizes:\n",
    "#                 for x in xshift:\n",
    "#                     for y in yshift:\n",
    "#                         n = n+1\n",
    "#                         gen2(savepath=path, text=w, index=n, fontname=f, size=s, xshift=x, yshift=y, upper=1)\n",
    "\n",
    "        gen2(savepath=path, text=w, index=1, fontname=fonts[0], size=40, xshift=0, yshift=0, upper=1)\n",
    "\n",
    "    return 'done'\n"
   ]
  },
  {
   "cell_type": "code",
   "execution_count": null,
   "metadata": {
    "code_folding": [
     0
    ]
   },
   "outputs": [],
   "source": [
    "# Load words from text file - Vinckier stimuli\n",
    "import glob, os\n",
    "import numpy as np\n",
    "os.walk(\"../../StimulusProperties/\")\n",
    "wordlist = []; nstimpercat = 50\n",
    "\n",
    "for file in glob.glob(\"../../StimulusProperties/*.txt\"):\n",
    "    if not file[-6:-4] == 'NV':\n",
    "        file1 = open(file,\"r\") \n",
    "        x = (file1.read()).split('\\n')\n",
    "        wordlist = np.concatenate((wordlist, x[:nstimpercat]))\n",
    "\n",
    "size=60; xshift=0; yshift=0; W = 500; H = 500\n",
    "for i in range(len(wordlist)):\n",
    "    img = Image.new(\"RGB\", (W,H), color = (255, 255, 255))\n",
    "    if i < nstimpercat:\n",
    "        fontname = 'ff6'\n",
    "    else:\n",
    "        fontname = 'deffvmonospaced3'\n",
    "    text = wordlist[i]    \n",
    "    fnt = ImageFont.truetype(fontname+'.ttf', size)\n",
    "    draw = ImageDraw.Draw(img)\n",
    "    w, h = fnt.getsize(text)\n",
    "    draw.text((xshift + (W-w)/2, yshift + (H-h)/2), text, font=fnt, fill='black')\n",
    "\n",
    "    img.save('stimuli/vinckier50/train/allstim/'+str(i).zfill(4) +'_'+text+'.jpg')\n"
   ]
  },
  {
   "cell_type": "code",
   "execution_count": null,
   "metadata": {
    "code_folding": []
   },
   "outputs": [],
   "source": [
    "# Jumbled word list\n",
    "# Example stimuli to study bigram vs letter model\n",
    "def CreateExpWords(path_out='stimuli/jumbledWords/',num_train=100):\n",
    "    \n",
    "    words = np.load('sorted_wordlist.npy')\n",
    "    wordlen = [len(x) for x in words]\n",
    "    word6 = words[np.where(np.array(wordlen) ==6)]\n",
    "\n",
    "    wordlist = word6\n",
    "    # Letter transposition\n",
    "    for pos in range(5):\n",
    "        for i in word6:\n",
    "            temp = list(i);\n",
    "            temp[pos] = i[pos+1]; temp[pos+1] = i[pos]\n",
    "            wordlist = np.append(wordlist,''.join(temp))  \n",
    "        \n",
    "    # Letter substitution\n",
    "    import string\n",
    "    st = string.ascii_letters\n",
    "    for pos in range(5):\n",
    "        for i in word6:\n",
    "            temp = list(i);\n",
    "            temp[pos] =  st[np.random.randint(26)] ; temp[pos+1] =  st[np.random.randint(26)]\n",
    "            wordlist = np.append(wordlist,''.join(temp))  \n",
    "            \n",
    "    \n",
    "    sizes = [60]\n",
    "    fonts = ['arial']\n",
    "    xshift = [0]\n",
    "    yshift = [0]\n",
    "    \n",
    "    #create train and val folders \n",
    "    n = 0\n",
    "    for m in ['train']:\n",
    "        for f in wordlist:\n",
    "            target_path = path_out+m+'/'+str(n).zfill(4)+'_'+f\n",
    "            os.makedirs(target_path)\n",
    "            n = n+1\n",
    "    \n",
    "    #for each word, create num_train + num_val exemplars, then split randomly into train and val.\n",
    "    n = 0\n",
    "    for w in tqdm(wordlist):\n",
    "        gc.collect()\n",
    "        print (w,)\n",
    "        path = path_out+'train/'+str(n).zfill(4)+'_'+w+'/'\n",
    "#         for f in fonts:\n",
    "#             for s in sizes:\n",
    "#                 for x in xshift:\n",
    "#                     for y in yshift:\n",
    "        gen2(savepath=path, text=w, index=n, fontname=fonts[0], size=40, xshift=0, yshift=0, upper=1)\n",
    "        n = n+1\n",
    "\n",
    "\n",
    "    return 'done'\n",
    "\n",
    "CreateExpWords()"
   ]
  },
  {
   "cell_type": "code",
   "execution_count": null,
   "metadata": {
    "code_folding": [
     0
    ]
   },
   "outputs": [],
   "source": [
    "# Rotated word list\n",
    "def CreateExpWords(path_out='stimuli/rotationstimuli/',num_train=100):\n",
    "    \n",
    "    words = np.load('sorted_wordlist.npy')\n",
    "    wordlen = [len(x) for x in words]\n",
    "    word6 = words[np.where(np.array(wordlen) ==6)]\n",
    "\n",
    "    wordlist = word6      \n",
    "           \n",
    "    \n",
    "    sizes = [60]\n",
    "    fonts = ['arial']\n",
    "    xshift = [0]\n",
    "    yshift = [0]\n",
    "    \n",
    "    rotation = np.arange(0,100,10)\n",
    "    #create train and val folders \n",
    "    n = 0\n",
    "    for m in ['train']:\n",
    "        for f in wordlist:\n",
    "            target_path = path_out+m+'/'+str(n).zfill(4)+'_'+f\n",
    "            os.makedirs(target_path)\n",
    "            n = n+1\n",
    "    \n",
    "    #for each word, create num_train + num_val exemplars, then split randomly into train and val.\n",
    "    n = 0\n",
    "    for w in tqdm(wordlist):\n",
    "        indx = 0\n",
    "        for r in rotation:\n",
    "            gc.collect()\n",
    "            print (w,r)\n",
    "            path = path_out+'train/'+str(n).zfill(4)+'_'+w+'/'\n",
    "            genrotation(savepath=path, text=w,rotation=r, index=indx, fontname=fonts[0], size=40, xshift=0, yshift=0, upper=1)\n",
    "            indx = indx + 1\n",
    "        n = n+1\n",
    "\n",
    "\n",
    "    return 'done'\n",
    "\n",
    "CreateExpWords()"
   ]
  },
  {
   "cell_type": "code",
   "execution_count": 9,
   "metadata": {
    "code_folding": [
     0
    ]
   },
   "outputs": [
    {
     "name": "stderr",
     "output_type": "stream",
     "text": [
      "\r",
      "  0%|                                                                                          | 0/248 [00:00<?, ?it/s]"
     ]
    },
    {
     "name": "stdout",
     "output_type": "stream",
     "text": [
      "adroit 0.0\n",
      "adroit 0.25\n",
      "adroit 0.5\n",
      "adroit 0.75\n",
      "adroit 1.0\n",
      "adroit 1.25\n"
     ]
    },
    {
     "name": "stderr",
     "output_type": "stream",
     "text": [
      "\r",
      "  0%|▎                                                                                 | 1/248 [00:00<01:26,  2.86it/s]"
     ]
    },
    {
     "name": "stdout",
     "output_type": "stream",
     "text": [
      "adroit 1.5\n",
      "adroit 1.75\n",
      "adroit 2.0\n",
      "adroit 2.25\n",
      "adulte 0.0\n",
      "adulte 0.25\n",
      "adulte 0.5\n",
      "adulte 0.75\n",
      "adulte 1.0\n",
      "adulte 1.25\n",
      "adulte 1.5\n",
      "adulte 1.75\n",
      "adulte 2.0\n"
     ]
    },
    {
     "name": "stderr",
     "output_type": "stream",
     "text": [
      "\r",
      "  1%|▋                                                                                 | 2/248 [00:00<01:26,  2.86it/s]"
     ]
    },
    {
     "name": "stdout",
     "output_type": "stream",
     "text": [
      "adulte 2.25\n",
      "agiter 0.0\n",
      "agiter 0.25\n",
      "agiter 0.5\n",
      "agiter 0.75\n",
      "agiter 1.0\n",
      "agiter 1.25\n",
      "agiter 1.5\n",
      "agiter 1.75\n",
      "agiter 2.0\n",
      "agiter 2.25\n"
     ]
    },
    {
     "name": "stderr",
     "output_type": "stream",
     "text": [
      "\r",
      "  1%|▉                                                                                 | 3/248 [00:01<01:28,  2.76it/s]"
     ]
    },
    {
     "name": "stdout",
     "output_type": "stream",
     "text": [
      "agneau 0.0\n",
      "agneau 0.25\n",
      "agneau 0.5\n",
      "agneau 0.75\n",
      "agneau 1.0\n",
      "agneau 1.25\n",
      "agneau 1.5\n",
      "agneau 1.75\n",
      "agneau 2.0\n",
      "agneau 2.25\n"
     ]
    },
    {
     "name": "stderr",
     "output_type": "stream",
     "text": [
      "\r",
      "  2%|█▎                                                                                | 4/248 [00:01<01:35,  2.55it/s]"
     ]
    },
    {
     "name": "stdout",
     "output_type": "stream",
     "text": [
      "amener 0.0\n",
      "amener 0.25\n",
      "amener 0.5\n",
      "amener 0.75\n",
      "amener 1.0\n"
     ]
    },
    {
     "name": "stderr",
     "output_type": "stream",
     "text": [
      "\r",
      "  2%|█▋                                                                                | 5/248 [00:01<01:33,  2.60it/s]"
     ]
    },
    {
     "name": "stdout",
     "output_type": "stream",
     "text": [
      "amener 1.25\n",
      "amener 1.5\n",
      "amener 1.75\n",
      "amener 2.0\n",
      "amener 2.25\n",
      "ananas 0.0\n",
      "ananas 0.25\n",
      "ananas 0.5\n",
      "ananas 0.75\n",
      "ananas 1.0\n",
      "ananas 1.25\n",
      "ananas 1.5\n",
      "ananas 1.75\n"
     ]
    },
    {
     "name": "stderr",
     "output_type": "stream",
     "text": [
      "\r",
      "  2%|█▉                                                                                | 6/248 [00:02<01:30,  2.67it/s]"
     ]
    },
    {
     "name": "stdout",
     "output_type": "stream",
     "text": [
      "ananas 2.0\n",
      "ananas 2.25\n",
      "animal 0.0\n",
      "animal 0.25\n",
      "animal 0.5\n",
      "animal 0.75\n"
     ]
    },
    {
     "name": "stderr",
     "output_type": "stream",
     "text": [
      "\r",
      "  3%|██▎                                                                               | 7/248 [00:02<01:28,  2.72it/s]"
     ]
    },
    {
     "name": "stdout",
     "output_type": "stream",
     "text": [
      "animal 1.0\n",
      "animal 1.25\n",
      "animal 1.5\n",
      "animal 1.75\n",
      "animal 2.0\n",
      "animal 2.25\n",
      "anorak 0.0\n",
      "anorak 0.25\n",
      "anorak 0.5\n",
      "anorak 0.75\n",
      "anorak 1.0\n",
      "anorak 1.25\n",
      "anorak 1.5"
     ]
    },
    {
     "name": "stderr",
     "output_type": "stream",
     "text": [
      "\r",
      "  3%|██▋                                                                               | 8/248 [00:02<01:26,  2.76it/s]"
     ]
    },
    {
     "name": "stdout",
     "output_type": "stream",
     "text": [
      "\n",
      "anorak 1.75\n",
      "anorak 2.0\n",
      "anorak 2.25\n",
      "argent 0.0\n",
      "argent 0.25\n",
      "argent 0.5\n",
      "argent 0.75\n",
      "argent 1.0\n",
      "argent 1.25\n",
      "argent 1.5\n",
      "argent 1.75\n"
     ]
    },
    {
     "name": "stderr",
     "output_type": "stream",
     "text": [
      "\r",
      "  4%|██▉                                                                               | 9/248 [00:03<01:27,  2.72it/s]"
     ]
    },
    {
     "name": "stdout",
     "output_type": "stream",
     "text": [
      "argent 2.0\n",
      "argent 2.25\n",
      "autant 0.0\n",
      "autant 0.25\n",
      "autant 0.5\n",
      "autant 0.75\n",
      "autant 1.0\n",
      "autant 1.25\n",
      "autant 1.5\n",
      "autant"
     ]
    },
    {
     "name": "stderr",
     "output_type": "stream",
     "text": [
      "\r",
      "  4%|███▎                                                                             | 10/248 [00:03<01:31,  2.61it/s]"
     ]
    },
    {
     "name": "stdout",
     "output_type": "stream",
     "text": [
      " 1.75\n",
      "autant 2.0\n",
      "autant 2.25\n",
      "autour 0.0\n",
      "autour 0.25\n",
      "autour 0.5\n",
      "autour 0.75\n",
      "autour 1.0\n",
      "autour 1.25\n",
      "autour 1.5\n",
      "autour"
     ]
    },
    {
     "name": "stderr",
     "output_type": "stream",
     "text": [
      "\r",
      "  4%|███▌                                                                             | 11/248 [00:04<01:31,  2.60it/s]"
     ]
    },
    {
     "name": "stdout",
     "output_type": "stream",
     "text": [
      " 1.75\n",
      "autour 2.0\n",
      "autour 2.25\n",
      "avaler 0.0\n",
      "avaler 0.25\n",
      "avaler 0.5\n",
      "avaler 0.75\n",
      "avaler 1.0\n",
      "avaler 1.25\n",
      "avaler"
     ]
    },
    {
     "name": "stderr",
     "output_type": "stream",
     "text": [
      "\r",
      "  5%|███▉                                                                             | 12/248 [00:04<01:33,  2.52it/s]"
     ]
    },
    {
     "name": "stdout",
     "output_type": "stream",
     "text": [
      " 1.5\n",
      "avaler 1.75\n",
      "avaler 2.0\n",
      "avaler 2.25\n",
      "avance 0.0\n",
      "avance 0.25\n",
      "avance 0.5\n",
      "avance 0.75\n",
      "avance 1.0\n",
      "avance 1.25\n",
      "avance "
     ]
    },
    {
     "name": "stderr",
     "output_type": "stream",
     "text": [
      "\r",
      "  5%|████▏                                                                            | 13/248 [00:04<01:30,  2.59it/s]"
     ]
    },
    {
     "name": "stdout",
     "output_type": "stream",
     "text": [
      "1.5\n",
      "avance 1.75\n",
      "avance 2.0\n",
      "avance 2.25\n",
      "bagage 0.0\n",
      "bagage 0.25\n",
      "bagage 0.5\n",
      "bagage 0.75\n",
      "bagage 1.0\n",
      "bagage 1.25\n",
      "bagage 1.5\n",
      "bagage 1.75\n",
      "bagage 2.0\n"
     ]
    },
    {
     "name": "stderr",
     "output_type": "stream",
     "text": [
      "\r",
      "  6%|████▌                                                                            | 14/248 [00:05<01:29,  2.61it/s]"
     ]
    },
    {
     "name": "stdout",
     "output_type": "stream",
     "text": [
      "bagage 2.25\n",
      "baiser 0.0\n",
      "baiser 0.25\n",
      "baiser 0.5\n",
      "baiser 0.75\n",
      "baiser 1.0\n",
      "baiser 1.25\n",
      "baiser"
     ]
    },
    {
     "name": "stderr",
     "output_type": "stream",
     "text": [
      "\r",
      "  6%|████▉                                                                            | 15/248 [00:05<01:45,  2.20it/s]"
     ]
    },
    {
     "name": "stdout",
     "output_type": "stream",
     "text": [
      " 1.5\n",
      "baiser 1.75\n",
      "baiser 2.0\n",
      "baiser 2.25\n",
      "banane 0.0\n",
      "banane 0.25\n",
      "banane 0.5\n",
      "banane 0.75\n",
      "banane 1.0\n",
      "banane 1.25\n",
      "banane 1.5\n"
     ]
    },
    {
     "name": "stderr",
     "output_type": "stream",
     "text": [
      "\r",
      "  6%|█████▏                                                                           | 16/248 [00:06<02:07,  1.82it/s]"
     ]
    },
    {
     "name": "stdout",
     "output_type": "stream",
     "text": [
      "banane 1.75\n",
      "banane 2.0\n",
      "banane 2.25\n",
      "barrer 0.0\n",
      "barrer 0.25\n",
      "barrer 0.5\n",
      "barrer 0.75\n",
      "barrer 1.0\n",
      "barrer 1.25\n",
      "barrer 1.5\n"
     ]
    },
    {
     "name": "stderr",
     "output_type": "stream",
     "text": [
      "\r",
      "  7%|█████▌                                                                           | 17/248 [00:07<01:53,  2.03it/s]"
     ]
    },
    {
     "name": "stdout",
     "output_type": "stream",
     "text": [
      "barrer 1.75\n",
      "barrer 2.0\n",
      "barrer 2.25\n",
      "bassin 0.0\n",
      "bassin 0.25\n",
      "bassin 0.5\n",
      "bassin 0.75\n",
      "bassin 1.0\n",
      "bassin 1.25\n",
      "bassin 1.5\n",
      "bassin"
     ]
    },
    {
     "name": "stderr",
     "output_type": "stream",
     "text": [
      "\r",
      "  7%|█████▉                                                                           | 18/248 [00:07<01:47,  2.14it/s]"
     ]
    },
    {
     "name": "stdout",
     "output_type": "stream",
     "text": [
      " 1.75\n",
      "bassin 2.0\n",
      "bassin 2.25\n",
      "bateau 0.0\n",
      "bateau 0.25\n",
      "bateau 0.5\n",
      "bateau 0.75\n",
      "bateau 1.0\n",
      "bateau 1.25\n",
      "bateau 1.5\n",
      "bateau 1.75\n",
      "bateau 2.0\n"
     ]
    },
    {
     "name": "stderr",
     "output_type": "stream",
     "text": [
      "\r",
      "  8%|██████▏                                                                          | 19/248 [00:07<01:42,  2.24it/s]"
     ]
    },
    {
     "name": "stdout",
     "output_type": "stream",
     "text": [
      "bateau 2.25\n",
      "battre 0.0\n",
      "battre 0.25\n",
      "battre 0.5\n",
      "battre 0.75\n",
      "battre 1.0\n",
      "battre 1.25\n",
      "battre 1.5\n",
      "battre 1.75\n",
      "battre 2.0"
     ]
    },
    {
     "name": "stderr",
     "output_type": "stream",
     "text": [
      "\r",
      "  8%|██████▌                                                                          | 20/248 [00:08<01:42,  2.23it/s]"
     ]
    },
    {
     "name": "stdout",
     "output_type": "stream",
     "text": [
      "\n",
      "battre 2.25\n",
      "bavoir 0.0\n",
      "bavoir 0.25\n",
      "bavoir 0.5\n",
      "bavoir 0.75\n",
      "bavoir 1.0\n",
      "bavoir 1.25\n",
      "bavoir 1.5\n",
      "bavoir 1.75\n",
      "bavoir"
     ]
    },
    {
     "name": "stderr",
     "output_type": "stream",
     "text": [
      "\r",
      "  8%|██████▊                                                                          | 21/248 [00:08<01:38,  2.31it/s]"
     ]
    },
    {
     "name": "stdout",
     "output_type": "stream",
     "text": [
      " 2.0\n",
      "bavoir 2.25\n",
      "bercer 0.0\n",
      "bercer 0.25\n",
      "bercer 0.5\n",
      "bercer 0.75\n",
      "bercer 1.0\n",
      "bercer 1.25\n",
      "bercer 1.5\n",
      "bercer 1.75\n",
      "bercer "
     ]
    },
    {
     "name": "stderr",
     "output_type": "stream",
     "text": [
      "\r",
      "  9%|███████▏                                                                         | 22/248 [00:09<01:36,  2.35it/s]"
     ]
    },
    {
     "name": "stdout",
     "output_type": "stream",
     "text": [
      "2.0\n",
      "bercer 2.25\n",
      "beurre 0.0\n",
      "beurre 0.25\n",
      "beurre 0.5\n",
      "beurre 0.75\n",
      "beurre 1.0\n",
      "beurre 1.25\n",
      "beurre 1.5\n",
      "beurre 1.75\n",
      "beurre "
     ]
    },
    {
     "name": "stderr",
     "output_type": "stream",
     "text": [
      "\r",
      "  9%|███████▌                                                                         | 23/248 [00:09<01:33,  2.40it/s]"
     ]
    },
    {
     "name": "stdout",
     "output_type": "stream",
     "text": [
      "2.0\n",
      "beurre 2.25\n",
      "billet 0.0\n",
      "billet 0.25\n",
      "billet 0.5\n",
      "billet 0.75\n",
      "billet 1.0\n",
      "billet 1.25\n",
      "billet 1.5\n",
      "billet 1.75\n",
      "billet 2.0\n",
      "billet 2.25\n"
     ]
    },
    {
     "name": "stderr",
     "output_type": "stream",
     "text": [
      "\r",
      " 10%|███████▊                                                                         | 24/248 [00:09<01:30,  2.48it/s]"
     ]
    },
    {
     "name": "stdout",
     "output_type": "stream",
     "text": [
      "bonbon 0.0\n",
      "bonbon 0.25\n",
      "bonbon 0.5\n",
      "bonbon 0.75\n",
      "bonbon 1.0\n"
     ]
    },
    {
     "name": "stderr",
     "output_type": "stream",
     "text": [
      "\r",
      " 10%|████████▏                                                                        | 25/248 [00:10<01:28,  2.51it/s]"
     ]
    },
    {
     "name": "stdout",
     "output_type": "stream",
     "text": [
      "bonbon 1.25\n",
      "bonbon 1.5\n",
      "bonbon 1.75\n",
      "bonbon 2.0\n",
      "bonbon 2.25\n",
      "bondir 0.0\n",
      "bondir 0.25\n",
      "bondir 0.5\n",
      "bondir 0.75\n",
      "bondir 1.0\n",
      "bondir 1.25\n",
      "bondir 1.5\n",
      "bondir "
     ]
    },
    {
     "name": "stderr",
     "output_type": "stream",
     "text": [
      "\r",
      " 10%|████████▍                                                                        | 26/248 [00:10<01:25,  2.61it/s]"
     ]
    },
    {
     "name": "stdout",
     "output_type": "stream",
     "text": [
      "1.75\n",
      "bondir 2.0\n",
      "bondir 2.25\n",
      "bonnet 0.0\n",
      "bonnet 0.25\n",
      "bonnet 0.5\n",
      "bonnet 0.75\n",
      "bonnet 1.0\n",
      "bonnet 1.25\n",
      "bonnet 1.5\n",
      "bonnet 1.75\n",
      "bonnet"
     ]
    },
    {
     "name": "stderr",
     "output_type": "stream",
     "text": [
      "\r",
      " 11%|████████▊                                                                        | 27/248 [00:11<01:23,  2.64it/s]"
     ]
    },
    {
     "name": "stdout",
     "output_type": "stream",
     "text": [
      " 2.0\n",
      "bonnet 2.25\n",
      "bosser 0.0\n",
      "bosser 0.25\n",
      "bosser 0.5\n",
      "bosser 0.75\n",
      "bosser 1.0\n",
      "bosser 1.25\n",
      "bosser 1.5\n",
      "bosser 1.75\n",
      "bosser 2.0\n",
      "bosser"
     ]
    },
    {
     "name": "stderr",
     "output_type": "stream",
     "text": [
      "\r",
      " 11%|█████████▏                                                                       | 28/248 [00:11<01:23,  2.63it/s]"
     ]
    },
    {
     "name": "stdout",
     "output_type": "stream",
     "text": [
      " 2.25\n",
      "bottes 0.0\n",
      "bottes 0.25\n",
      "bottes 0.5\n",
      "bottes 0.75\n",
      "bottes 1.0\n",
      "bottes 1.25\n",
      "bottes 1.5\n",
      "bottes 1.75\n",
      "bottes 2.0\n",
      "bottes 2.25\n"
     ]
    },
    {
     "name": "stderr",
     "output_type": "stream",
     "text": [
      "\r",
      " 12%|█████████▍                                                                       | 29/248 [00:11<01:21,  2.68it/s]"
     ]
    },
    {
     "name": "stdout",
     "output_type": "stream",
     "text": [
      "bouche 0.0\n",
      "bouche 0.25\n",
      "bouche 0.5\n",
      "bouche 0.75\n",
      "bouche 1.0\n",
      "bouche 1.25\n",
      "bouche 1.5\n",
      "bouche 1.75\n"
     ]
    },
    {
     "name": "stderr",
     "output_type": "stream",
     "text": [
      "\r",
      " 12%|█████████▊                                                                       | 30/248 [00:12<01:28,  2.47it/s]"
     ]
    },
    {
     "name": "stdout",
     "output_type": "stream",
     "text": [
      "bouche 2.0\n",
      "bouche 2.25\n",
      "bouger 0.0\n",
      "bouger 0.25\n",
      "bouger 0.5\n",
      "bouger 0.75\n",
      "bouger 1.0\n",
      "bouger 1.25\n",
      "bouger 1.5\n",
      "bouger 1.75\n",
      "bouger "
     ]
    },
    {
     "name": "stderr",
     "output_type": "stream",
     "text": [
      "\r",
      " 12%|██████████▏                                                                      | 31/248 [00:12<01:25,  2.53it/s]"
     ]
    },
    {
     "name": "stdout",
     "output_type": "stream",
     "text": [
      "2.0\n",
      "bouger 2.25\n",
      "bouton 0.0\n",
      "bouton 0.25\n",
      "bouton 0.5\n",
      "bouton 0.75\n",
      "bouton 1.0\n",
      "bouton 1.25\n",
      "bouton 1.5\n",
      "bouton 1.75\n",
      "bouton 2.0\n",
      "bouton 2.25\n"
     ]
    },
    {
     "name": "stderr",
     "output_type": "stream",
     "text": [
      "\r",
      " 13%|██████████▍                                                                      | 32/248 [00:12<01:22,  2.62it/s]"
     ]
    },
    {
     "name": "stdout",
     "output_type": "stream",
     "text": [
      "brosse 0.0\n",
      "brosse 0.25\n",
      "brosse 0.5\n",
      "brosse 0.75\n",
      "brosse 1.0\n",
      "brosse "
     ]
    },
    {
     "name": "stderr",
     "output_type": "stream",
     "text": [
      "\r",
      " 13%|██████████▊                                                                      | 33/248 [00:13<01:19,  2.69it/s]"
     ]
    },
    {
     "name": "stdout",
     "output_type": "stream",
     "text": [
      "1.25\n",
      "brosse 1.5\n",
      "brosse 1.75\n",
      "brosse 2.0\n",
      "brosse 2.25\n",
      "bureau 0.0\n",
      "bureau 0.25\n",
      "bureau 0.5\n",
      "bureau 0.75\n",
      "bureau 1.0\n",
      "bureau 1.25\n"
     ]
    },
    {
     "name": "stderr",
     "output_type": "stream",
     "text": [
      "\r",
      " 14%|███████████                                                                      | 34/248 [00:13<01:19,  2.70it/s]"
     ]
    },
    {
     "name": "stdout",
     "output_type": "stream",
     "text": [
      "bureau 1.5\n",
      "bureau 1.75\n",
      "bureau 2.0\n",
      "bureau 2.25\n",
      "cabane 0.0\n",
      "cabane 0.25\n",
      "cabane 0.5\n",
      "cabane 0.75\n",
      "cabane 1.0\n",
      "cabane 1.25\n",
      "cabane 1.5\n",
      "cabane 1.75\n"
     ]
    },
    {
     "name": "stderr",
     "output_type": "stream",
     "text": [
      "\r",
      " 14%|███████████▍                                                                     | 35/248 [00:14<01:18,  2.73it/s]"
     ]
    },
    {
     "name": "stdout",
     "output_type": "stream",
     "text": [
      "cabane 2.0\n",
      "cabane 2.25\n",
      "cacher 0.0\n",
      "cacher 0.25\n",
      "cacher 0.5\n",
      "cacher 0.75\n",
      "cacher 1.0\n",
      "cacher 1.25\n",
      "cacher 1.5\n",
      "cacher 1.75\n",
      "cacher"
     ]
    },
    {
     "name": "stderr",
     "output_type": "stream",
     "text": [
      "\r",
      " 15%|███████████▊                                                                     | 36/248 [00:14<01:18,  2.69it/s]"
     ]
    },
    {
     "name": "stdout",
     "output_type": "stream",
     "text": [
      " 2.0\n",
      "cacher 2.25\n",
      "cadeau 0.0\n",
      "cadeau 0.25\n",
      "cadeau 0.5\n",
      "cadeau 0.75\n",
      "cadeau 1.0\n",
      "cadeau 1.25\n",
      "cadeau 1.5\n",
      "cadeau 1.75\n",
      "cadeau 2.0\n"
     ]
    },
    {
     "name": "stderr",
     "output_type": "stream",
     "text": [
      "\r",
      " 15%|████████████                                                                     | 37/248 [00:14<01:19,  2.67it/s]"
     ]
    },
    {
     "name": "stdout",
     "output_type": "stream",
     "text": [
      "cadeau 2.25\n",
      "cahier 0.0\n",
      "cahier 0.25\n",
      "cahier 0.5\n",
      "cahier 0.75\n",
      "cahier "
     ]
    },
    {
     "name": "stderr",
     "output_type": "stream",
     "text": [
      "\r",
      " 15%|████████████▍                                                                    | 38/248 [00:15<01:17,  2.72it/s]"
     ]
    },
    {
     "name": "stdout",
     "output_type": "stream",
     "text": [
      "1.0\n",
      "cahier 1.25\n",
      "cahier 1.5\n",
      "cahier 1.75\n",
      "cahier 2.0\n",
      "cahier 2.25\n",
      "caisse 0.0\n",
      "caisse 0.25\n",
      "caisse 0.5\n",
      "caisse 0.75\n",
      "caisse 1.0\n",
      "caisse 1.25\n",
      "caisse"
     ]
    },
    {
     "name": "stderr",
     "output_type": "stream",
     "text": [
      "\r",
      " 16%|████████████▋                                                                    | 39/248 [00:15<01:15,  2.76it/s]"
     ]
    },
    {
     "name": "stdout",
     "output_type": "stream",
     "text": [
      " 1.5\n",
      "caisse 1.75\n",
      "caisse 2.0\n",
      "caisse 2.25\n",
      "camion 0.0\n",
      "camion 0.25\n",
      "camion 0.5\n",
      "camion 0.75\n",
      "camion 1.0\n",
      "camion 1.25\n",
      "camion 1.5\n",
      "camion 1.75\n",
      "camion 2.0\n"
     ]
    },
    {
     "name": "stderr",
     "output_type": "stream",
     "text": [
      "\r",
      " 16%|█████████████                                                                    | 40/248 [00:15<01:13,  2.81it/s]"
     ]
    },
    {
     "name": "stdout",
     "output_type": "stream",
     "text": [
      "camion 2.25\n",
      "camper 0.0\n",
      "camper 0.25\n",
      "camper 0.5\n",
      "camper 0.75\n",
      "camper 1.0\n"
     ]
    },
    {
     "name": "stderr",
     "output_type": "stream",
     "text": [
      "\r",
      " 17%|█████████████▍                                                                   | 41/248 [00:16<01:13,  2.83it/s]"
     ]
    },
    {
     "name": "stdout",
     "output_type": "stream",
     "text": [
      "camper 1.25\n",
      "camper 1.5\n",
      "camper 1.75\n",
      "camper 2.0\n",
      "camper 2.25\n",
      "canard 0.0\n",
      "canard 0.25\n",
      "canard 0.5\n",
      "canard 0.75\n",
      "canard 1.0\n",
      "canard 1.25\n",
      "canard 1.5\n",
      "canard"
     ]
    },
    {
     "name": "stderr",
     "output_type": "stream",
     "text": [
      "\r",
      " 17%|█████████████▋                                                                   | 42/248 [00:16<01:12,  2.86it/s]"
     ]
    },
    {
     "name": "stdout",
     "output_type": "stream",
     "text": [
      " 1.75\n",
      "canard 2.0\n",
      "canard 2.25\n",
      "carnet 0.0\n",
      "carnet 0.25\n",
      "carnet 0.5\n",
      "carnet 0.75\n",
      "carnet 1.0\n",
      "carnet 1.25\n",
      "carnet 1.5\n",
      "carnet 1.75\n",
      "carnet 2.0\n"
     ]
    },
    {
     "name": "stderr",
     "output_type": "stream",
     "text": [
      "\r",
      " 17%|██████████████                                                                   | 43/248 [00:16<01:11,  2.86it/s]"
     ]
    },
    {
     "name": "stdout",
     "output_type": "stream",
     "text": [
      "carnet 2.25\n",
      "carton 0.0\n",
      "carton 0.25\n",
      "carton 0.5\n",
      "carton 0.75\n",
      "carton 1.0\n",
      "carton "
     ]
    },
    {
     "name": "stderr",
     "output_type": "stream",
     "text": [
      "\r",
      " 18%|██████████████▎                                                                  | 44/248 [00:17<01:10,  2.88it/s]"
     ]
    },
    {
     "name": "stdout",
     "output_type": "stream",
     "text": [
      "1.25\n",
      "carton 1.5\n",
      "carton 1.75\n",
      "carton 2.0\n",
      "carton 2.25\n",
      "casier 0.0\n",
      "casier 0.25\n",
      "casier 0.5\n",
      "casier 0.75\n",
      "casier 1.0\n",
      "casier 1.25\n",
      "casier 1.5\n"
     ]
    },
    {
     "name": "stderr",
     "output_type": "stream",
     "text": [
      "\r",
      " 18%|██████████████▋                                                                  | 45/248 [00:17<01:09,  2.90it/s]"
     ]
    },
    {
     "name": "stdout",
     "output_type": "stream",
     "text": [
      "casier 1.75\n",
      "casier 2.0\n",
      "casier 2.25\n",
      "casque 0.0\n",
      "casque 0.25\n",
      "casque 0.5\n",
      "casque 0.75\n",
      "casque 1.0\n",
      "casque 1.25\n",
      "casque 1.5\n",
      "casque 1.75\n",
      "casque 2.0\n",
      "casque 2.25\n"
     ]
    },
    {
     "name": "stderr",
     "output_type": "stream",
     "text": [
      "\r",
      " 19%|███████████████                                                                  | 46/248 [00:17<01:09,  2.89it/s]"
     ]
    },
    {
     "name": "stdout",
     "output_type": "stream",
     "text": [
      "casser 0.0\n",
      "casser 0.25\n",
      "casser 0.5\n",
      "casser 0.75\n",
      "casser 1.0\n",
      "casser 1.25\n"
     ]
    },
    {
     "name": "stderr",
     "output_type": "stream",
     "text": [
      "\r",
      " 19%|███████████████▎                                                                 | 47/248 [00:18<01:11,  2.83it/s]"
     ]
    },
    {
     "name": "stdout",
     "output_type": "stream",
     "text": [
      "casser 1.5\n",
      "casser 1.75\n",
      "casser 2.0\n",
      "casser 2.25\n",
      "cerise 0.0\n",
      "cerise 0.25\n",
      "cerise 0.5\n",
      "cerise 0.75\n",
      "cerise 1.0\n",
      "cerise 1.25\n",
      "cerise 1.5\n",
      "cerise 1.75\n"
     ]
    },
    {
     "name": "stderr",
     "output_type": "stream",
     "text": [
      "\r",
      " 19%|███████████████▋                                                                 | 48/248 [00:18<01:09,  2.86it/s]"
     ]
    },
    {
     "name": "stdout",
     "output_type": "stream",
     "text": [
      "cerise 2.0\n",
      "cerise 2.25\n",
      "chaise 0.0\n",
      "chaise 0.25\n",
      "chaise 0.5\n",
      "chaise 0.75\n",
      "chaise 1.0\n",
      "chaise 1.25\n",
      "chaise 1.5\n",
      "chaise 1.75\n",
      "chaise 2.0\n",
      "chaise 2.25\n"
     ]
    },
    {
     "name": "stderr",
     "output_type": "stream",
     "text": [
      "\r",
      " 20%|████████████████                                                                 | 49/248 [00:18<01:09,  2.86it/s]"
     ]
    },
    {
     "name": "stdout",
     "output_type": "stream",
     "text": [
      "chemin 0.0\n",
      "chemin 0.25\n",
      "chemin 0.5\n",
      "chemin 0.75\n",
      "chemin 1.0\n",
      "chemin 1.25\n",
      "chemin "
     ]
    },
    {
     "name": "stderr",
     "output_type": "stream",
     "text": [
      "\r",
      " 20%|████████████████▎                                                                | 50/248 [00:19<01:08,  2.91it/s]"
     ]
    },
    {
     "name": "stdout",
     "output_type": "stream",
     "text": [
      "1.5\n",
      "chemin 1.75\n",
      "chemin 2.0\n",
      "chemin 2.25\n",
      "cheval 0.0\n",
      "cheval 0.25\n",
      "cheval 0.5\n",
      "cheval 0.75\n",
      "cheval 1.0\n",
      "cheval 1.25\n",
      "cheval 1.5\n",
      "cheval 1.75\n",
      "cheval "
     ]
    },
    {
     "name": "stderr",
     "output_type": "stream",
     "text": [
      "\r",
      " 21%|████████████████▋                                                                | 51/248 [00:19<01:07,  2.92it/s]"
     ]
    },
    {
     "name": "stdout",
     "output_type": "stream",
     "text": [
      "2.0\n",
      "cheval 2.25\n",
      "cirque 0.0\n",
      "cirque 0.25\n",
      "cirque 0.5\n",
      "cirque 0.75\n",
      "cirque 1.0\n",
      "cirque 1.25\n",
      "cirque 1.5\n",
      "cirque 1.75\n",
      "cirque 2.0\n",
      "cirque 2.25\n"
     ]
    },
    {
     "name": "stderr",
     "output_type": "stream",
     "text": [
      "\r",
      " 21%|████████████████▉                                                                | 52/248 [00:19<01:07,  2.91it/s]"
     ]
    },
    {
     "name": "stdout",
     "output_type": "stream",
     "text": [
      "citron 0.0\n",
      "citron 0.25\n",
      "citron 0.5\n",
      "citron 0.75\n",
      "citron 1.0\n",
      "citron 1.25\n",
      "citron"
     ]
    },
    {
     "name": "stderr",
     "output_type": "stream",
     "text": [
      "\r",
      " 21%|█████████████████▎                                                               | 53/248 [00:20<01:07,  2.91it/s]"
     ]
    },
    {
     "name": "stdout",
     "output_type": "stream",
     "text": [
      " 1.5\n",
      "citron 1.75\n",
      "citron 2.0\n",
      "citron 2.25\n",
      "classe 0.0\n",
      "classe 0.25\n",
      "classe 0.5\n",
      "classe 0.75\n",
      "classe 1.0\n",
      "classe 1.25\n",
      "classe 1.5\n",
      "classe 1.75\n",
      "classe 2.0\n"
     ]
    },
    {
     "name": "stderr",
     "output_type": "stream",
     "text": [
      "\r",
      " 22%|█████████████████▋                                                               | 54/248 [00:20<01:06,  2.91it/s]"
     ]
    },
    {
     "name": "stdout",
     "output_type": "stream",
     "text": [
      "classe 2.25\n",
      "cloche 0.0\n",
      "cloche 0.25\n",
      "cloche 0.5\n",
      "cloche 0.75\n",
      "cloche 1.0\n",
      "cloche "
     ]
    },
    {
     "name": "stderr",
     "output_type": "stream",
     "text": [
      "\r",
      " 22%|█████████████████▉                                                               | 55/248 [00:21<01:05,  2.93it/s]"
     ]
    },
    {
     "name": "stdout",
     "output_type": "stream",
     "text": [
      "1.25\n",
      "cloche 1.5\n",
      "cloche 1.75\n",
      "cloche 2.0\n",
      "cloche 2.25\n",
      "cochon 0.0\n",
      "cochon 0.25\n",
      "cochon 0.5\n",
      "cochon 0.75\n",
      "cochon 1.0\n",
      "cochon 1.25\n",
      "cochon 1.5\n",
      "cochon 1.75\n"
     ]
    },
    {
     "name": "stderr",
     "output_type": "stream",
     "text": [
      "\r",
      " 23%|██████████████████▎                                                              | 56/248 [00:21<01:05,  2.93it/s]"
     ]
    },
    {
     "name": "stdout",
     "output_type": "stream",
     "text": [
      "cochon 2.0\n",
      "cochon 2.25\n",
      "coffre 0.0\n",
      "coffre 0.25\n",
      "coffre 0.5\n",
      "coffre 0.75\n",
      "coffre "
     ]
    },
    {
     "name": "stderr",
     "output_type": "stream",
     "text": [
      "\r",
      " 23%|██████████████████▌                                                              | 57/248 [00:21<01:04,  2.94it/s]"
     ]
    },
    {
     "name": "stdout",
     "output_type": "stream",
     "text": [
      "1.0\n",
      "coffre 1.25\n",
      "coffre 1.5\n",
      "coffre 1.75\n",
      "coffre 2.0\n",
      "coffre 2.25\n",
      "cogner 0.0\n",
      "cogner 0.25\n",
      "cogner 0.5\n",
      "cogner 0.75\n",
      "cogner 1.0\n",
      "cogner 1.25\n",
      "cogner"
     ]
    },
    {
     "name": "stderr",
     "output_type": "stream",
     "text": [
      "\r",
      " 23%|██████████████████▉                                                              | 58/248 [00:22<01:04,  2.93it/s]"
     ]
    },
    {
     "name": "stdout",
     "output_type": "stream",
     "text": [
      " 1.5\n",
      "cogner 1.75\n",
      "cogner 2.0\n",
      "cogner 2.25\n",
      "coller 0.0\n",
      "coller 0.25\n",
      "coller 0.5\n",
      "coller 0.75\n",
      "coller 1.0\n",
      "coller 1.25\n",
      "coller 1.5\n",
      "coller 1.75\n"
     ]
    },
    {
     "name": "stderr",
     "output_type": "stream",
     "text": [
      "\r",
      " 24%|███████████████████▎                                                             | 59/248 [00:22<01:04,  2.94it/s]"
     ]
    },
    {
     "name": "stdout",
     "output_type": "stream",
     "text": [
      "coller 2.0\n",
      "coller 2.25\n",
      "contre 0.0\n",
      "contre 0.25\n",
      "contre 0.5\n",
      "contre 0.75\n",
      "contre 1.0\n"
     ]
    },
    {
     "name": "stderr",
     "output_type": "stream",
     "text": [
      "\r",
      " 24%|███████████████████▌                                                             | 60/248 [00:22<01:03,  2.94it/s]"
     ]
    },
    {
     "name": "stdout",
     "output_type": "stream",
     "text": [
      "contre 1.25\n",
      "contre 1.5\n",
      "contre 1.75\n",
      "contre 2.0\n",
      "contre 2.25\n",
      "copain 0.0\n",
      "copain 0.25\n",
      "copain 0.5\n",
      "copain 0.75\n",
      "copain 1.0\n",
      "copain 1.25\n",
      "copain 1.5\n",
      "copain 1.75\n",
      "copain "
     ]
    },
    {
     "name": "stderr",
     "output_type": "stream",
     "text": [
      "\r",
      " 25%|███████████████████▉                                                             | 61/248 [00:23<01:03,  2.94it/s]"
     ]
    },
    {
     "name": "stdout",
     "output_type": "stream",
     "text": [
      "2.0\n",
      "copain 2.25\n",
      "copier 0.0\n",
      "copier 0.25\n",
      "copier 0.5\n",
      "copier 0.75\n",
      "copier"
     ]
    },
    {
     "name": "stderr",
     "output_type": "stream",
     "text": [
      "\r",
      " 25%|████████████████████▎                                                            | 62/248 [00:23<01:03,  2.94it/s]"
     ]
    },
    {
     "name": "stdout",
     "output_type": "stream",
     "text": [
      " 1.0\n",
      "copier 1.25\n",
      "copier 1.5\n",
      "copier 1.75\n",
      "copier 2.0\n",
      "copier 2.25\n",
      "coquet 0.0\n",
      "coquet 0.25\n",
      "coquet 0.5\n",
      "coquet 0.75\n",
      "coquet 1.0\n",
      "coquet 1.25\n",
      "coquet 1.5\n"
     ]
    },
    {
     "name": "stderr",
     "output_type": "stream",
     "text": [
      "\r",
      " 25%|████████████████████▌                                                            | 63/248 [00:23<01:02,  2.94it/s]"
     ]
    },
    {
     "name": "stdout",
     "output_type": "stream",
     "text": [
      "coquet 1.75\n",
      "coquet 2.0\n",
      "coquet 2.25\n",
      "coquin 0.0\n",
      "coquin 0.25\n",
      "coquin 0.5\n",
      "coquin 0.75\n",
      "coquin 1.0\n",
      "coquin 1.25\n",
      "coquin 1.5\n",
      "coquin 1.75\n",
      "coquin 2.0\n",
      "coquin 2.25\n"
     ]
    },
    {
     "name": "stderr",
     "output_type": "stream",
     "text": [
      "\r",
      " 26%|████████████████████▉                                                            | 64/248 [00:24<01:03,  2.91it/s]"
     ]
    },
    {
     "name": "stdout",
     "output_type": "stream",
     "text": [
      "coudre 0.0\n",
      "coudre 0.25\n",
      "coudre 0.5\n",
      "coudre 0.75\n",
      "coudre 1.0\n",
      "coudre 1.25\n",
      "coudre 1.5\n"
     ]
    },
    {
     "name": "stderr",
     "output_type": "stream",
     "text": [
      "\r",
      " 26%|█████████████████████▏                                                           | 65/248 [00:24<01:02,  2.95it/s]"
     ]
    },
    {
     "name": "stdout",
     "output_type": "stream",
     "text": [
      "coudre 1.75\n",
      "coudre 2.0\n",
      "coudre 2.25\n",
      "couper 0.0\n",
      "couper 0.25\n",
      "couper 0.5\n",
      "couper 0.75\n",
      "couper 1.0\n",
      "couper 1.25\n",
      "couper 1.5\n",
      "couper 1.75\n",
      "couper 2.0\n",
      "couper 2.25\n"
     ]
    },
    {
     "name": "stderr",
     "output_type": "stream",
     "text": [
      "\r",
      " 27%|█████████████████████▌                                                           | 66/248 [00:24<01:01,  2.94it/s]"
     ]
    },
    {
     "name": "stdout",
     "output_type": "stream",
     "text": [
      "courir 0.0\n",
      "courir 0.25\n",
      "courir 0.5\n",
      "courir 0.75\n",
      "courir 1.0\n",
      "courir 1.25\n"
     ]
    },
    {
     "name": "stderr",
     "output_type": "stream",
     "text": [
      "\r",
      " 27%|█████████████████████▉                                                           | 67/248 [00:25<01:02,  2.90it/s]"
     ]
    },
    {
     "name": "stdout",
     "output_type": "stream",
     "text": [
      "courir 1.5\n",
      "courir 1.75\n",
      "courir 2.0\n",
      "courir 2.25\n",
      "course 0.0\n",
      "course 0.25\n",
      "course 0.5\n",
      "course 0.75\n",
      "course 1.0\n",
      "course 1.25\n",
      "course 1.5\n",
      "course 1.75\n",
      "course 2.0\n"
     ]
    },
    {
     "name": "stderr",
     "output_type": "stream",
     "text": [
      "\r",
      " 27%|██████████████████████▏                                                          | 68/248 [00:25<01:01,  2.91it/s]"
     ]
    },
    {
     "name": "stdout",
     "output_type": "stream",
     "text": [
      "course 2.25\n",
      "cousin 0.0\n",
      "cousin 0.25\n",
      "cousin 0.5\n",
      "cousin 0.75\n",
      "cousin 1.0\n"
     ]
    },
    {
     "name": "stderr",
     "output_type": "stream",
     "text": [
      "\r",
      " 28%|██████████████████████▌                                                          | 69/248 [00:25<01:01,  2.92it/s]"
     ]
    },
    {
     "name": "stdout",
     "output_type": "stream",
     "text": [
      "cousin 1.25\n",
      "cousin 1.5\n",
      "cousin 1.75\n",
      "cousin 2.0\n",
      "cousin 2.25\n",
      "couver 0.0\n",
      "couver 0.25\n",
      "couver 0.5\n",
      "couver 0.75\n",
      "couver 1.0\n",
      "couver 1.25\n",
      "couver 1.5\n",
      "couver 1.75\n"
     ]
    },
    {
     "name": "stderr",
     "output_type": "stream",
     "text": [
      "\r",
      " 28%|██████████████████████▊                                                          | 70/248 [00:26<01:00,  2.93it/s]"
     ]
    },
    {
     "name": "stdout",
     "output_type": "stream",
     "text": [
      "couver 2.0\n",
      "couver 2.25\n",
      "crayon 0.0\n",
      "crayon 0.25\n",
      "crayon 0.5\n",
      "crayon 0.75\n",
      "crayon "
     ]
    },
    {
     "name": "stderr",
     "output_type": "stream",
     "text": [
      "\r",
      " 29%|███████████████████████▏                                                         | 71/248 [00:26<01:00,  2.93it/s]"
     ]
    },
    {
     "name": "stdout",
     "output_type": "stream",
     "text": [
      "1.0\n",
      "crayon 1.25\n",
      "crayon 1.5\n",
      "crayon 1.75\n",
      "crayon 2.0\n",
      "crayon 2.25\n",
      "cuisse 0.0\n",
      "cuisse 0.25\n",
      "cuisse 0.5\n",
      "cuisse 0.75\n",
      "cuisse 1.0\n",
      "cuisse 1.25\n",
      "cuisse "
     ]
    },
    {
     "name": "stderr",
     "output_type": "stream",
     "text": [
      "\r",
      " 29%|███████████████████████▌                                                         | 72/248 [00:26<01:00,  2.92it/s]"
     ]
    },
    {
     "name": "stdout",
     "output_type": "stream",
     "text": [
      "1.5\n",
      "cuisse 1.75\n",
      "cuisse 2.0\n",
      "cuisse 2.25\n",
      "danger 0.0\n",
      "danger 0.25\n",
      "danger 0.5\n",
      "danger 0.75\n",
      "danger 1.0\n",
      "danger 1.25\n",
      "danger 1.5\n",
      "danger 1.75\n",
      "danger "
     ]
    },
    {
     "name": "stderr",
     "output_type": "stream",
     "text": [
      "\r",
      " 29%|███████████████████████▊                                                         | 73/248 [00:27<01:00,  2.90it/s]"
     ]
    },
    {
     "name": "stdout",
     "output_type": "stream",
     "text": [
      "2.0\n",
      "danger 2.25\n",
      "danser 0.0\n",
      "danser 0.25\n",
      "danser 0.5\n",
      "danser 0.75\n",
      "danser "
     ]
    },
    {
     "name": "stderr",
     "output_type": "stream",
     "text": [
      "\r",
      " 30%|████████████████████████▏                                                        | 74/248 [00:27<00:59,  2.93it/s]"
     ]
    },
    {
     "name": "stdout",
     "output_type": "stream",
     "text": [
      "1.0\n",
      "danser 1.25\n",
      "danser 1.5\n",
      "danser 1.75\n",
      "danser 2.0\n",
      "danser 2.25\n",
      "debout 0.0\n",
      "debout 0.25\n",
      "debout 0.5\n",
      "debout 0.75\n",
      "debout 1.0\n",
      "debout 1.25\n",
      "debout 1.5\n"
     ]
    },
    {
     "name": "stderr",
     "output_type": "stream",
     "text": [
      "\r",
      " 30%|████████████████████████▍                                                        | 75/248 [00:27<00:59,  2.93it/s]"
     ]
    },
    {
     "name": "stdout",
     "output_type": "stream",
     "text": [
      "debout 1.75\n",
      "debout 2.0\n",
      "debout 2.25\n",
      "dedans 0.0\n",
      "dedans 0.25\n",
      "dedans 0.5\n",
      "dedans 0.75\n"
     ]
    },
    {
     "name": "stderr",
     "output_type": "stream",
     "text": [
      "\r",
      " 31%|████████████████████████▊                                                        | 76/248 [00:28<00:59,  2.91it/s]"
     ]
    },
    {
     "name": "stdout",
     "output_type": "stream",
     "text": [
      "dedans 1.0\n",
      "dedans 1.25\n",
      "dedans 1.5\n",
      "dedans 1.75\n",
      "dedans 2.0\n",
      "dedans 2.25\n",
      "dehors 0.0\n",
      "dehors 0.25\n",
      "dehors 0.5\n",
      "dehors 0.75\n",
      "dehors 1.0\n",
      "dehors 1.25\n",
      "dehors 1.5\n"
     ]
    },
    {
     "name": "stderr",
     "output_type": "stream",
     "text": [
      "\r",
      " 31%|█████████████████████████▏                                                       | 77/248 [00:28<00:58,  2.92it/s]"
     ]
    },
    {
     "name": "stdout",
     "output_type": "stream",
     "text": [
      "dehors 1.75\n",
      "dehors 2.0\n",
      "dehors 2.25\n",
      "demain 0.0\n",
      "demain 0.25\n",
      "demain 0.5\n",
      "demain 0.75\n",
      "demain 1.0\n",
      "demain 1.25\n",
      "demain 1.5\n",
      "demain 1.75\n",
      "demain 2.0\n",
      "demain 2.25\n"
     ]
    },
    {
     "name": "stderr",
     "output_type": "stream",
     "text": [
      "\r",
      " 31%|█████████████████████████▍                                                       | 78/248 [00:28<00:58,  2.92it/s]"
     ]
    },
    {
     "name": "stdout",
     "output_type": "stream",
     "text": [
      "dessin 0.0\n",
      "dessin 0.25\n",
      "dessin 0.5\n",
      "dessin 0.75\n",
      "dessin 1.0\n",
      "dessin 1.25\n",
      "dessin 1.5\n"
     ]
    },
    {
     "name": "stderr",
     "output_type": "stream",
     "text": [
      "\r",
      " 32%|█████████████████████████▊                                                       | 79/248 [00:29<00:57,  2.92it/s]"
     ]
    },
    {
     "name": "stdout",
     "output_type": "stream",
     "text": [
      "dessin 1.75\n",
      "dessin 2.0\n",
      "dessin 2.25\n",
      "devant 0.0\n",
      "devant 0.25\n",
      "devant 0.5\n",
      "devant 0.75\n",
      "devant 1.0\n",
      "devant 1.25\n",
      "devant 1.5\n",
      "devant 1.75\n",
      "devant 2.0\n"
     ]
    },
    {
     "name": "stderr",
     "output_type": "stream",
     "text": [
      "\r",
      " 32%|██████████████████████████▏                                                      | 80/248 [00:29<00:57,  2.94it/s]"
     ]
    },
    {
     "name": "stdout",
     "output_type": "stream",
     "text": [
      "devant 2.25\n",
      "dindon 0.0\n",
      "dindon 0.25\n",
      "dindon 0.5\n",
      "dindon 0.75\n",
      "dindon 1.0\n"
     ]
    },
    {
     "name": "stderr",
     "output_type": "stream",
     "text": [
      "\r",
      " 33%|██████████████████████████▍                                                      | 81/248 [00:29<00:56,  2.96it/s]"
     ]
    },
    {
     "name": "stdout",
     "output_type": "stream",
     "text": [
      "dindon 1.25\n",
      "dindon 1.5\n",
      "dindon 1.75\n",
      "dindon 2.0\n",
      "dindon 2.25\n",
      "doigts 0.0\n",
      "doigts 0.25\n",
      "doigts 0.5\n",
      "doigts 0.75\n",
      "doigts 1.0\n",
      "doigts 1.25\n",
      "doigts 1.5\n"
     ]
    },
    {
     "name": "stderr",
     "output_type": "stream",
     "text": [
      "\r",
      " 33%|██████████████████████████▊                                                      | 82/248 [00:30<00:56,  2.93it/s]"
     ]
    },
    {
     "name": "stdout",
     "output_type": "stream",
     "text": [
      "doigts 1.75\n",
      "doigts 2.0\n",
      "doigts 2.25\n",
      "domino 0.0\n",
      "domino 0.25\n",
      "domino 0.5\n",
      "domino 0.75\n",
      "domino 1.0\n",
      "domino 1.25\n",
      "domino 1.5\n",
      "domino 1.75\n",
      "domino 2.0\n",
      "domino 2.25\n"
     ]
    },
    {
     "name": "stderr",
     "output_type": "stream",
     "text": [
      "\r",
      " 33%|███████████████████████████                                                      | 83/248 [00:30<00:56,  2.92it/s]"
     ]
    },
    {
     "name": "stdout",
     "output_type": "stream",
     "text": [
      "donner 0.0\n",
      "donner 0.25\n",
      "donner 0.5\n",
      "donner 0.75\n",
      "donner 1.0\n",
      "donner 1.25\n",
      "donner"
     ]
    },
    {
     "name": "stderr",
     "output_type": "stream",
     "text": [
      "\r",
      " 34%|███████████████████████████▍                                                     | 84/248 [00:30<00:55,  2.94it/s]"
     ]
    },
    {
     "name": "stdout",
     "output_type": "stream",
     "text": [
      " 1.5\n",
      "donner 1.75\n",
      "donner 2.0\n",
      "donner 2.25\n",
      "dormir 0.0\n",
      "dormir 0.25\n",
      "dormir 0.5\n",
      "dormir 0.75\n",
      "dormir 1.0\n",
      "dormir 1.25\n",
      "dormir 1.5\n",
      "dormir 1.75\n",
      "dormir 2.0\n"
     ]
    },
    {
     "name": "stderr",
     "output_type": "stream",
     "text": [
      "\r",
      " 34%|███████████████████████████▊                                                     | 85/248 [00:31<00:55,  2.92it/s]"
     ]
    },
    {
     "name": "stdout",
     "output_type": "stream",
     "text": [
      "dormir 2.25\n",
      "douche 0.0\n",
      "douche 0.25\n",
      "douche 0.5\n",
      "douche 0.75\n",
      "douche 1.0\n",
      "douche "
     ]
    },
    {
     "name": "stderr",
     "output_type": "stream",
     "text": [
      "\r",
      " 35%|████████████████████████████                                                     | 86/248 [00:31<00:55,  2.94it/s]"
     ]
    },
    {
     "name": "stdout",
     "output_type": "stream",
     "text": [
      "1.25\n",
      "douche 1.5\n",
      "douche 1.75\n",
      "douche 2.0\n",
      "douche 2.25\n",
      "droite 0.0\n",
      "droite 0.25\n",
      "droite 0.5\n",
      "droite 0.75\n",
      "droite 1.0\n",
      "droite 1.25\n",
      "droite"
     ]
    },
    {
     "name": "stderr",
     "output_type": "stream",
     "text": [
      "\r",
      " 35%|████████████████████████████▍                                                    | 87/248 [00:31<00:56,  2.87it/s]"
     ]
    },
    {
     "name": "stdout",
     "output_type": "stream",
     "text": [
      " 1.5\n",
      "droite 1.75\n",
      "droite 2.0\n",
      "droite 2.25\n",
      "effort 0.0\n",
      "effort 0.25\n",
      "effort 0.5\n",
      "effort 0.75\n",
      "effort 1.0\n",
      "effort 1.25\n",
      "effort 1.5\n",
      "effort 1.75\n",
      "effort 2.0\n"
     ]
    },
    {
     "name": "stderr",
     "output_type": "stream",
     "text": [
      "\r",
      " 35%|████████████████████████████▋                                                    | 88/248 [00:32<00:55,  2.89it/s]"
     ]
    },
    {
     "name": "stdout",
     "output_type": "stream",
     "text": [
      "effort 2.25\n",
      "encore 0.0\n",
      "encore 0.25\n",
      "encore 0.5\n",
      "encore 0.75\n",
      "encore "
     ]
    },
    {
     "name": "stderr",
     "output_type": "stream",
     "text": [
      "\r",
      " 36%|█████████████████████████████                                                    | 89/248 [00:32<00:55,  2.88it/s]"
     ]
    },
    {
     "name": "stdout",
     "output_type": "stream",
     "text": [
      "1.0\n",
      "encore 1.25\n",
      "encore 1.5\n",
      "encore 1.75\n",
      "encore 2.0\n",
      "encore 2.25\n",
      "endive 0.0\n",
      "endive 0.25\n",
      "endive 0.5\n",
      "endive 0.75\n",
      "endive 1.0\n",
      "endive 1.25\n",
      "endive 1.5\n",
      "endive 1.75\n"
     ]
    },
    {
     "name": "stderr",
     "output_type": "stream",
     "text": [
      "\r",
      " 36%|█████████████████████████████▍                                                   | 90/248 [00:32<00:54,  2.92it/s]"
     ]
    },
    {
     "name": "stdout",
     "output_type": "stream",
     "text": [
      "endive 2.0\n",
      "endive 2.25\n",
      "enfant 0.0\n",
      "enfant 0.25\n",
      "enfant 0.5\n",
      "enfant 0.75\n",
      "enfant 1.0\n"
     ]
    },
    {
     "name": "stderr",
     "output_type": "stream",
     "text": [
      "\r",
      " 37%|█████████████████████████████▋                                                   | 91/248 [00:33<00:54,  2.90it/s]"
     ]
    },
    {
     "name": "stdout",
     "output_type": "stream",
     "text": [
      "enfant 1.25\n",
      "enfant 1.5\n",
      "enfant 1.75\n",
      "enfant 2.0\n",
      "enfant 2.25\n",
      "entier 0.0\n",
      "entier 0.25\n",
      "entier 0.5\n",
      "entier 0.75\n",
      "entier 1.0\n",
      "entier 1.25\n",
      "entier 1.5\n",
      "entier "
     ]
    },
    {
     "name": "stderr",
     "output_type": "stream",
     "text": [
      "\r",
      " 37%|██████████████████████████████                                                   | 92/248 [00:33<00:53,  2.94it/s]"
     ]
    },
    {
     "name": "stdout",
     "output_type": "stream",
     "text": [
      "1.75\n",
      "entier 2.0\n",
      "entier 2.25\n",
      "entrer 0.0\n",
      "entrer 0.25\n",
      "entrer 0.5\n",
      "entrer 0.75\n",
      "entrer 1.0\n",
      "entrer 1.25\n",
      "entrer 1.5\n",
      "entrer 1.75\n",
      "entrer "
     ]
    },
    {
     "name": "stderr",
     "output_type": "stream",
     "text": [
      "\r",
      " 38%|██████████████████████████████▍                                                  | 93/248 [00:34<00:53,  2.89it/s]"
     ]
    },
    {
     "name": "stdout",
     "output_type": "stream",
     "text": [
      "2.0\n",
      "entrer 2.25\n",
      "facile 0.0\n",
      "facile 0.25\n",
      "facile 0.5\n",
      "facile 0.75\n",
      "facile "
     ]
    },
    {
     "name": "stderr",
     "output_type": "stream",
     "text": [
      "\r",
      " 38%|██████████████████████████████▋                                                  | 94/248 [00:34<00:52,  2.91it/s]"
     ]
    },
    {
     "name": "stdout",
     "output_type": "stream",
     "text": [
      "1.0\n",
      "facile 1.25\n",
      "facile 1.5\n",
      "facile 1.75\n",
      "facile 2.0\n",
      "facile 2.25\n",
      "farine 0.0\n",
      "farine 0.25\n",
      "farine 0.5\n",
      "farine 0.75\n",
      "farine 1.0\n",
      "farine 1.25\n",
      "farine 1.5\n"
     ]
    },
    {
     "name": "stderr",
     "output_type": "stream",
     "text": [
      "\r",
      " 38%|███████████████████████████████                                                  | 95/248 [00:34<00:52,  2.92it/s]"
     ]
    },
    {
     "name": "stdout",
     "output_type": "stream",
     "text": [
      "farine 1.75\n",
      "farine 2.0\n",
      "farine 2.25\n",
      "fermer 0.0\n",
      "fermer 0.25\n",
      "fermer 0.5\n",
      "fermer 0.75\n",
      "fermer 1.0\n",
      "fermer 1.25\n",
      "fermer 1.5\n",
      "fermer 1.75\n",
      "fermer 2.0\n",
      "fermer 2.25\n"
     ]
    },
    {
     "name": "stderr",
     "output_type": "stream",
     "text": [
      "\r",
      " 39%|███████████████████████████████▎                                                 | 96/248 [00:35<00:52,  2.90it/s]"
     ]
    },
    {
     "name": "stdout",
     "output_type": "stream",
     "text": [
      "feutre 0.0\n",
      "feutre 0.25\n",
      "feutre 0.5\n",
      "feutre 0.75\n",
      "feutre 1.0\n",
      "feutre 1.25\n"
     ]
    },
    {
     "name": "stderr",
     "output_type": "stream",
     "text": [
      "\r",
      " 39%|███████████████████████████████▋                                                 | 97/248 [00:35<00:51,  2.91it/s]"
     ]
    },
    {
     "name": "stdout",
     "output_type": "stream",
     "text": [
      "feutre 1.5\n",
      "feutre 1.75\n",
      "feutre 2.0\n",
      "feutre 2.25\n",
      "flaque 0.0\n",
      "flaque 0.25\n",
      "flaque 0.5\n",
      "flaque 0.75\n",
      "flaque 1.0\n",
      "flaque 1.25\n",
      "flaque 1.5\n",
      "flaque 1.75\n"
     ]
    },
    {
     "name": "stderr",
     "output_type": "stream",
     "text": [
      "\r",
      " 40%|████████████████████████████████                                                 | 98/248 [00:35<00:52,  2.87it/s]"
     ]
    },
    {
     "name": "stdout",
     "output_type": "stream",
     "text": [
      "flaque 2.0\n",
      "flaque 2.25\n",
      "flocon 0.0\n",
      "flocon 0.25\n",
      "flocon 0.5\n",
      "flocon 0.75\n",
      "flocon 1.0"
     ]
    },
    {
     "name": "stderr",
     "output_type": "stream",
     "text": [
      "\r",
      " 40%|████████████████████████████████▎                                                | 99/248 [00:36<00:51,  2.87it/s]"
     ]
    },
    {
     "name": "stdout",
     "output_type": "stream",
     "text": [
      "\n",
      "flocon 1.25\n",
      "flocon 1.5\n",
      "flocon 1.75\n",
      "flocon 2.0\n",
      "flocon 2.25\n",
      "fourmi 0.0\n",
      "fourmi 0.25\n",
      "fourmi 0.5\n",
      "fourmi 0.75\n",
      "fourmi 1.0\n",
      "fourmi 1.25\n"
     ]
    },
    {
     "name": "stderr",
     "output_type": "stream",
     "text": [
      "\r",
      " 40%|████████████████████████████████▎                                               | 100/248 [00:36<00:51,  2.89it/s]"
     ]
    },
    {
     "name": "stdout",
     "output_type": "stream",
     "text": [
      "fourmi 1.5\n",
      "fourmi 1.75\n",
      "fourmi 2.0\n",
      "fourmi 2.25\n",
      "fraise 0.0\n",
      "fraise 0.25\n",
      "fraise 0.5\n",
      "fraise 0.75\n",
      "fraise 1.0\n",
      "fraise 1.25\n",
      "fraise 1.5\n",
      "fraise "
     ]
    },
    {
     "name": "stderr",
     "output_type": "stream",
     "text": [
      "\r",
      " 41%|████████████████████████████████▌                                               | 101/248 [00:36<00:50,  2.90it/s]"
     ]
    },
    {
     "name": "stdout",
     "output_type": "stream",
     "text": [
      "1.75\n",
      "fraise 2.0\n",
      "fraise 2.25\n",
      "frange 0.0\n",
      "frange 0.25\n",
      "frange 0.5\n",
      "frange 0.75\n"
     ]
    },
    {
     "name": "stderr",
     "output_type": "stream",
     "text": [
      "\r",
      " 41%|████████████████████████████████▉                                               | 102/248 [00:37<00:50,  2.91it/s]"
     ]
    },
    {
     "name": "stdout",
     "output_type": "stream",
     "text": [
      "frange 1.0\n",
      "frange 1.25\n",
      "frange 1.5\n",
      "frange 1.75\n",
      "frange 2.0\n",
      "frange 2.25\n",
      "gagner 0.0\n",
      "gagner 0.25\n",
      "gagner 0.5\n",
      "gagner 0.75\n",
      "gagner 1.0\n",
      "gagner 1.25\n",
      "gagner 1.5\n",
      "gagner "
     ]
    },
    {
     "name": "stderr",
     "output_type": "stream",
     "text": [
      "\r",
      " 42%|█████████████████████████████████▏                                              | 103/248 [00:37<00:49,  2.92it/s]"
     ]
    },
    {
     "name": "stdout",
     "output_type": "stream",
     "text": [
      "1.75\n",
      "gagner 2.0\n",
      "gagner 2.25\n",
      "garage 0.0\n",
      "garage 0.25\n",
      "garage 0.5\n",
      "garage 0.75\n",
      "garage 1.0\n",
      "garage 1.25\n",
      "garage 1.5\n",
      "garage 1.75\n",
      "garage 2.0\n"
     ]
    },
    {
     "name": "stderr",
     "output_type": "stream",
     "text": [
      "\r",
      " 42%|█████████████████████████████████▌                                              | 104/248 [00:37<00:49,  2.90it/s]"
     ]
    },
    {
     "name": "stdout",
     "output_type": "stream",
     "text": [
      "garage 2.25\n",
      "gauche 0.0\n",
      "gauche 0.25\n",
      "gauche 0.5\n",
      "gauche 0.75\n",
      "gauche 1.0\n",
      "gauche "
     ]
    },
    {
     "name": "stderr",
     "output_type": "stream",
     "text": [
      "\r",
      " 42%|█████████████████████████████████▊                                              | 105/248 [00:38<00:49,  2.91it/s]"
     ]
    },
    {
     "name": "stdout",
     "output_type": "stream",
     "text": [
      "1.25\n",
      "gauche 1.5\n",
      "gauche 1.75\n",
      "gauche 2.0\n",
      "gauche 2.25\n",
      "gentil 0.0\n",
      "gentil 0.25\n",
      "gentil 0.5\n",
      "gentil 0.75\n",
      "gentil 1.0\n",
      "gentil 1.25\n",
      "gentil 1.5\n",
      "gentil 1.75\n"
     ]
    },
    {
     "name": "stderr",
     "output_type": "stream",
     "text": [
      "\r",
      " 43%|██████████████████████████████████▏                                             | 106/248 [00:38<00:48,  2.92it/s]"
     ]
    },
    {
     "name": "stdout",
     "output_type": "stream",
     "text": [
      "gentil 2.0\n",
      "gentil 2.25\n",
      "goutte 0.0\n",
      "goutte 0.25\n",
      "goutte 0.5\n",
      "goutte 0.75\n",
      "goutte 1.0\n",
      "goutte 1.25\n",
      "goutte 1.5\n",
      "goutte 1.75\n",
      "goutte 2.0\n",
      "goutte 2.25\n"
     ]
    },
    {
     "name": "stderr",
     "output_type": "stream",
     "text": [
      "\r",
      " 43%|██████████████████████████████████▌                                             | 107/248 [00:38<00:48,  2.93it/s]"
     ]
    },
    {
     "name": "stdout",
     "output_type": "stream",
     "text": [
      "graine 0.0\n",
      "graine 0.25\n",
      "graine 0.5\n",
      "graine 0.75\n",
      "graine 1.0\n",
      "graine 1.25\n",
      "graine 1.5\n"
     ]
    },
    {
     "name": "stderr",
     "output_type": "stream",
     "text": [
      "\r",
      " 44%|██████████████████████████████████▊                                             | 108/248 [00:39<00:47,  2.96it/s]"
     ]
    },
    {
     "name": "stdout",
     "output_type": "stream",
     "text": [
      "graine 1.75\n",
      "graine 2.0\n",
      "graine 2.25\n",
      "griffe 0.0\n",
      "griffe 0.25\n",
      "griffe 0.5\n",
      "griffe 0.75\n",
      "griffe 1.0\n",
      "griffe 1.25\n",
      "griffe 1.5\n",
      "griffe 1.75\n",
      "griffe 2.0\n",
      "griffe 2.25\n"
     ]
    },
    {
     "name": "stderr",
     "output_type": "stream",
     "text": [
      "\r",
      " 44%|███████████████████████████████████▏                                            | 109/248 [00:39<00:47,  2.93it/s]"
     ]
    },
    {
     "name": "stdout",
     "output_type": "stream",
     "text": [
      "hanche 0.0\n",
      "hanche 0.25\n",
      "hanche 0.5\n",
      "hanche 0.75\n",
      "hanche 1.0\n",
      "hanche 1.25\n"
     ]
    },
    {
     "name": "stderr",
     "output_type": "stream",
     "text": [
      "\r",
      " 44%|███████████████████████████████████▍                                            | 110/248 [00:39<00:47,  2.93it/s]"
     ]
    },
    {
     "name": "stdout",
     "output_type": "stream",
     "text": [
      "hanche 1.5\n",
      "hanche 1.75\n",
      "hanche 2.0\n",
      "hanche 2.25\n",
      "humide 0.0\n",
      "humide 0.25\n",
      "humide 0.5\n",
      "humide 0.75\n",
      "humide 1.0\n",
      "humide 1.25\n",
      "humide 1.5\n",
      "humide 1.75\n"
     ]
    },
    {
     "name": "stderr",
     "output_type": "stream",
     "text": [
      "\r",
      " 45%|███████████████████████████████████▊                                            | 111/248 [00:40<00:47,  2.91it/s]"
     ]
    },
    {
     "name": "stdout",
     "output_type": "stream",
     "text": [
      "humide 2.0\n",
      "humide 2.25\n",
      "hurler 0.0\n",
      "hurler 0.25\n",
      "hurler 0.5\n",
      "hurler 0.75\n",
      "hurler "
     ]
    },
    {
     "name": "stderr",
     "output_type": "stream",
     "text": [
      "\r",
      " 45%|████████████████████████████████████▏                                           | 112/248 [00:40<00:46,  2.92it/s]"
     ]
    },
    {
     "name": "stdout",
     "output_type": "stream",
     "text": [
      "1.0\n",
      "hurler 1.25\n",
      "hurler 1.5\n",
      "hurler 1.75\n",
      "hurler 2.0\n",
      "hurler 2.25\n",
      "imiter 0.0\n",
      "imiter 0.25\n",
      "imiter 0.5\n",
      "imiter 0.75\n",
      "imiter 1.0\n",
      "imiter 1.25\n",
      "imiter 1.5\n",
      "imiter "
     ]
    },
    {
     "name": "stderr",
     "output_type": "stream",
     "text": [
      "\r",
      " 46%|████████████████████████████████████▍                                           | 113/248 [00:40<00:46,  2.91it/s]"
     ]
    },
    {
     "name": "stdout",
     "output_type": "stream",
     "text": [
      "1.75\n",
      "imiter 2.0\n",
      "imiter 2.25\n",
      "intrus 0.0\n",
      "intrus 0.25\n",
      "intrus 0.5\n",
      "intrus 0.75\n",
      "intrus 1.0\n",
      "intrus 1.25\n",
      "intrus 1.5\n",
      "intrus 1.75\n",
      "intrus"
     ]
    },
    {
     "name": "stderr",
     "output_type": "stream",
     "text": [
      "\r",
      " 46%|████████████████████████████████████▊                                           | 114/248 [00:41<00:46,  2.91it/s]"
     ]
    },
    {
     "name": "stdout",
     "output_type": "stream",
     "text": [
      " 2.0\n",
      "intrus 2.25\n",
      "jaloux 0.0\n",
      "jaloux 0.25\n",
      "jaloux 0.5\n",
      "jaloux 0.75\n",
      "jaloux 1.0\n"
     ]
    },
    {
     "name": "stderr",
     "output_type": "stream",
     "text": [
      "\r",
      " 46%|█████████████████████████████████████                                           | 115/248 [00:41<00:45,  2.91it/s]"
     ]
    },
    {
     "name": "stdout",
     "output_type": "stream",
     "text": [
      "jaloux 1.25\n",
      "jaloux 1.5\n",
      "jaloux 1.75\n",
      "jaloux 2.0\n",
      "jaloux 2.25\n",
      "jamais 0.0\n",
      "jamais 0.25\n",
      "jamais 0.5\n",
      "jamais 0.75\n",
      "jamais 1.0\n",
      "jamais 1.25\n",
      "jamais 1.5\n",
      "jamais "
     ]
    },
    {
     "name": "stderr",
     "output_type": "stream",
     "text": [
      "\r",
      " 47%|█████████████████████████████████████▍                                          | 116/248 [00:41<00:45,  2.90it/s]"
     ]
    },
    {
     "name": "stdout",
     "output_type": "stream",
     "text": [
      "1.75\n",
      "jamais 2.0\n",
      "jamais 2.25\n",
      "jambes 0.0\n",
      "jambes 0.25\n",
      "jambes 0.5\n",
      "jambes 0.75\n",
      "jambes 1.0\n",
      "jambes 1.25\n",
      "jambes 1.5\n",
      "jambes 1.75\n",
      "jambes 2.0\n"
     ]
    },
    {
     "name": "stderr",
     "output_type": "stream",
     "text": [
      "\r",
      " 47%|█████████████████████████████████████▋                                          | 117/248 [00:42<00:45,  2.86it/s]"
     ]
    },
    {
     "name": "stdout",
     "output_type": "stream",
     "text": [
      "jambes 2.25\n",
      "jambon 0.0\n",
      "jambon 0.25\n",
      "jambon 0.5\n",
      "jambon 0.75\n",
      "jambon 1.0\n",
      "jambon 1.25\n"
     ]
    },
    {
     "name": "stderr",
     "output_type": "stream",
     "text": [
      "\r",
      " 48%|██████████████████████████████████████                                          | 118/248 [00:42<00:45,  2.89it/s]"
     ]
    },
    {
     "name": "stdout",
     "output_type": "stream",
     "text": [
      "jambon 1.5\n",
      "jambon 1.75\n",
      "jambon 2.0\n",
      "jambon 2.25\n",
      "jardin 0.0\n",
      "jardin 0.25\n",
      "jardin 0.5\n",
      "jardin 0.75\n",
      "jardin 1.0\n",
      "jardin 1.25\n",
      "jardin 1.5\n",
      "jardin 1.75\n"
     ]
    },
    {
     "name": "stderr",
     "output_type": "stream",
     "text": [
      "\r",
      " 48%|██████████████████████████████████████▍                                         | 119/248 [00:42<00:44,  2.88it/s]"
     ]
    },
    {
     "name": "stdout",
     "output_type": "stream",
     "text": [
      "jardin 2.0\n",
      "jardin 2.25\n",
      "joyeux 0.0\n",
      "joyeux 0.25\n",
      "joyeux 0.5\n",
      "joyeux 0.75\n",
      "joyeux 1.0\n"
     ]
    },
    {
     "name": "stderr",
     "output_type": "stream",
     "text": [
      "\r",
      " 48%|██████████████████████████████████████▋                                         | 120/248 [00:43<00:44,  2.90it/s]"
     ]
    },
    {
     "name": "stdout",
     "output_type": "stream",
     "text": [
      "joyeux 1.25\n",
      "joyeux 1.5\n",
      "joyeux 1.75\n",
      "joyeux 2.0\n",
      "joyeux 2.25\n",
      "jumeau 0.0\n",
      "jumeau 0.25\n",
      "jumeau 0.5\n",
      "jumeau 0.75\n",
      "jumeau 1.0\n",
      "jumeau 1.25\n",
      "jumeau 1.5\n"
     ]
    },
    {
     "name": "stderr",
     "output_type": "stream",
     "text": [
      "\r",
      " 49%|███████████████████████████████████████                                         | 121/248 [00:43<00:43,  2.91it/s]"
     ]
    },
    {
     "name": "stdout",
     "output_type": "stream",
     "text": [
      "jumeau 1.75\n",
      "jumeau 2.0\n",
      "jumeau 2.25\n",
      "laisse 0.0\n",
      "laisse 0.25\n",
      "laisse 0.5\n",
      "laisse 0.75\n",
      "laisse 1.0\n",
      "laisse 1.25\n",
      "laisse 1.5\n",
      "laisse 1.75\n",
      "laisse 2.0\n"
     ]
    },
    {
     "name": "stderr",
     "output_type": "stream",
     "text": [
      "\r",
      " 49%|███████████████████████████████████████▎                                        | 122/248 [00:43<00:43,  2.92it/s]"
     ]
    },
    {
     "name": "stdout",
     "output_type": "stream",
     "text": [
      "laisse 2.25\n",
      "lancer 0.0\n",
      "lancer 0.25\n",
      "lancer 0.5\n",
      "lancer 0.75\n",
      "lancer 1.0\n",
      "lancer 1.25\n"
     ]
    },
    {
     "name": "stderr",
     "output_type": "stream",
     "text": [
      "\r",
      " 50%|███████████████████████████████████████▋                                        | 123/248 [00:44<00:42,  2.91it/s]"
     ]
    },
    {
     "name": "stdout",
     "output_type": "stream",
     "text": [
      "lancer 1.5\n",
      "lancer 1.75\n",
      "lancer 2.0\n",
      "lancer 2.25\n",
      "langue 0.0\n",
      "langue 0.25\n",
      "langue 0.5\n",
      "langue 0.75\n",
      "langue 1.0\n",
      "langue 1.25\n",
      "langue 1.5\n",
      "langue 1.75\n",
      "langue 2.0\n"
     ]
    },
    {
     "name": "stderr",
     "output_type": "stream",
     "text": [
      "\r",
      " 50%|████████████████████████████████████████                                        | 124/248 [00:44<00:42,  2.93it/s]"
     ]
    },
    {
     "name": "stdout",
     "output_type": "stream",
     "text": [
      "langue 2.25\n",
      "lavabo 0.0\n",
      "lavabo 0.25\n",
      "lavabo 0.5\n",
      "lavabo 0.75\n",
      "lavabo 1.0\n",
      "lavabo "
     ]
    },
    {
     "name": "stderr",
     "output_type": "stream",
     "text": [
      "\r",
      " 50%|████████████████████████████████████████▎                                       | 125/248 [00:44<00:41,  2.94it/s]"
     ]
    },
    {
     "name": "stdout",
     "output_type": "stream",
     "text": [
      "1.25\n",
      "lavabo 1.5\n",
      "lavabo 1.75\n",
      "lavabo 2.0\n",
      "lavabo 2.25\n",
      "lettre 0.0\n",
      "lettre 0.25\n",
      "lettre 0.5\n",
      "lettre 0.75\n",
      "lettre 1.0\n",
      "lettre 1.25\n",
      "lettre 1.5\n",
      "lettre 1.75\n",
      "lettre "
     ]
    },
    {
     "name": "stderr",
     "output_type": "stream",
     "text": [
      "\r",
      " 51%|████████████████████████████████████████▋                                       | 126/248 [00:45<00:41,  2.94it/s]"
     ]
    },
    {
     "name": "stdout",
     "output_type": "stream",
     "text": [
      "2.0\n",
      "lettre 2.25\n",
      "louche 0.0\n",
      "louche 0.25\n",
      "louche 0.5\n",
      "louche 0.75\n",
      "louche 1.0\n",
      "louche 1.25\n",
      "louche 1.5\n",
      "louche 1.75\n",
      "louche 2.0\n",
      "louche 2.25\n"
     ]
    },
    {
     "name": "stderr",
     "output_type": "stream",
     "text": [
      "\r",
      " 51%|████████████████████████████████████████▉                                       | 127/248 [00:45<00:41,  2.94it/s]"
     ]
    },
    {
     "name": "stdout",
     "output_type": "stream",
     "text": [
      "madame 0.0\n",
      "madame 0.25\n",
      "madame 0.5\n",
      "madame 0.75\n",
      "madame 1.0\n",
      "madame 1.25\n",
      "madame "
     ]
    },
    {
     "name": "stderr",
     "output_type": "stream",
     "text": [
      "\r",
      " 52%|█████████████████████████████████████████▎                                      | 128/248 [00:46<00:41,  2.93it/s]"
     ]
    },
    {
     "name": "stdout",
     "output_type": "stream",
     "text": [
      "1.5\n",
      "madame 1.75\n",
      "madame 2.0\n",
      "madame 2.25\n",
      "maigre 0.0\n",
      "maigre 0.25\n",
      "maigre 0.5\n",
      "maigre 0.75\n",
      "maigre 1.0\n",
      "maigre 1.25\n",
      "maigre 1.5\n",
      "maigre 1.75\n",
      "maigre "
     ]
    },
    {
     "name": "stderr",
     "output_type": "stream",
     "text": [
      "\r",
      " 52%|█████████████████████████████████████████▌                                      | 129/248 [00:46<00:40,  2.92it/s]"
     ]
    },
    {
     "name": "stdout",
     "output_type": "stream",
     "text": [
      "2.0\n",
      "maigre 2.25\n",
      "maison 0.0\n",
      "maison 0.25\n",
      "maison 0.5\n",
      "maison 0.75\n",
      "maison "
     ]
    },
    {
     "name": "stderr",
     "output_type": "stream",
     "text": [
      "\r",
      " 52%|█████████████████████████████████████████▉                                      | 130/248 [00:46<00:40,  2.93it/s]"
     ]
    },
    {
     "name": "stdout",
     "output_type": "stream",
     "text": [
      "1.0\n",
      "maison 1.25\n",
      "maison 1.5\n",
      "maison 1.75\n",
      "maison 2.0\n",
      "maison 2.25\n",
      "mamans 0.0\n",
      "mamans 0.25\n",
      "mamans 0.5\n",
      "mamans 0.75\n",
      "mamans 1.0\n",
      "mamans 1.25\n"
     ]
    },
    {
     "name": "stderr",
     "output_type": "stream",
     "text": [
      "\r",
      " 53%|██████████████████████████████████████████▎                                     | 131/248 [00:47<00:39,  2.93it/s]"
     ]
    },
    {
     "name": "stdout",
     "output_type": "stream",
     "text": [
      "mamans 1.5\n",
      "mamans 1.75\n",
      "mamans 2.0\n",
      "mamans 2.25\n",
      "manche 0.0\n",
      "manche 0.25\n",
      "manche 0.5\n",
      "manche 0.75\n",
      "manche 1.0\n",
      "manche 1.25\n",
      "manche 1.5\n",
      "manche 1.75\n"
     ]
    },
    {
     "name": "stderr",
     "output_type": "stream",
     "text": [
      "\r",
      " 53%|██████████████████████████████████████████▌                                     | 132/248 [00:47<00:39,  2.91it/s]"
     ]
    },
    {
     "name": "stdout",
     "output_type": "stream",
     "text": [
      "manche 2.0\n",
      "manche 2.25\n",
      "manger 0.0\n",
      "manger 0.25\n",
      "manger 0.5\n",
      "manger 0.75\n",
      "manger 1.0\n",
      "manger 1.25\n",
      "manger 1.5\n",
      "manger 1.75\n",
      "manger 2.0\n",
      "manger 2.25\n"
     ]
    },
    {
     "name": "stderr",
     "output_type": "stream",
     "text": [
      "\r",
      " 54%|██████████████████████████████████████████▉                                     | 133/248 [00:47<00:39,  2.89it/s]"
     ]
    },
    {
     "name": "stdout",
     "output_type": "stream",
     "text": [
      "marche 0.0\n",
      "marche 0.25\n",
      "marche 0.5\n",
      "marche 0.75\n",
      "marche 1.0\n",
      "marche 1.25\n"
     ]
    },
    {
     "name": "stderr",
     "output_type": "stream",
     "text": [
      "\r",
      " 54%|███████████████████████████████████████████▏                                    | 134/248 [00:48<00:39,  2.91it/s]"
     ]
    },
    {
     "name": "stdout",
     "output_type": "stream",
     "text": [
      "marche 1.5\n",
      "marche 1.75\n",
      "marche 2.0\n",
      "marche 2.25\n",
      "marier 0.0\n",
      "marier 0.25\n",
      "marier 0.5\n",
      "marier 0.75\n",
      "marier 1.0\n",
      "marier 1.25\n",
      "marier 1.5\n",
      "marier "
     ]
    },
    {
     "name": "stderr",
     "output_type": "stream",
     "text": [
      "\r",
      " 54%|███████████████████████████████████████████▌                                    | 135/248 [00:48<00:39,  2.87it/s]"
     ]
    },
    {
     "name": "stdout",
     "output_type": "stream",
     "text": [
      "1.75\n",
      "marier 2.0\n",
      "marier 2.25\n",
      "marron 0.0\n",
      "marron 0.25\n",
      "marron 0.5\n",
      "marron 0.75\n"
     ]
    },
    {
     "name": "stderr",
     "output_type": "stream",
     "text": [
      "\r",
      " 55%|███████████████████████████████████████████▊                                    | 136/248 [00:48<00:38,  2.89it/s]"
     ]
    },
    {
     "name": "stdout",
     "output_type": "stream",
     "text": [
      "marron 1.0\n",
      "marron 1.25\n",
      "marron 1.5\n",
      "marron 1.75\n",
      "marron 2.0\n",
      "marron 2.25\n",
      "masque 0.0\n",
      "masque 0.25\n",
      "masque 0.5\n",
      "masque 0.75\n",
      "masque 1.0\n",
      "masque 1.25\n",
      "masque "
     ]
    },
    {
     "name": "stderr",
     "output_type": "stream",
     "text": [
      "\r",
      " 55%|████████████████████████████████████████████▏                                   | 137/248 [00:49<00:38,  2.90it/s]"
     ]
    },
    {
     "name": "stdout",
     "output_type": "stream",
     "text": [
      "1.5\n",
      "masque 1.75\n",
      "masque 2.0\n",
      "masque 2.25\n",
      "mettre 0.0\n",
      "mettre 0.25\n",
      "mettre 0.5\n",
      "mettre 0.75\n",
      "mettre 1.0\n",
      "mettre 1.25\n",
      "mettre 1.5\n",
      "mettre 1.75\n",
      "mettre "
     ]
    },
    {
     "name": "stderr",
     "output_type": "stream",
     "text": [
      "\r",
      " 56%|████████████████████████████████████████████▌                                   | 138/248 [00:49<00:38,  2.89it/s]"
     ]
    },
    {
     "name": "stdout",
     "output_type": "stream",
     "text": [
      "2.0\n",
      "mettre 2.25\n",
      "meuble 0.0\n",
      "meuble 0.25\n",
      "meuble 0.5\n",
      "meuble 0.75\n",
      "meuble"
     ]
    },
    {
     "name": "stderr",
     "output_type": "stream",
     "text": [
      "\r",
      " 56%|████████████████████████████████████████████▊                                   | 139/248 [00:49<00:37,  2.93it/s]"
     ]
    },
    {
     "name": "stdout",
     "output_type": "stream",
     "text": [
      " 1.0\n",
      "meuble 1.25\n",
      "meuble 1.5\n",
      "meuble 1.75\n",
      "meuble 2.0\n",
      "meuble 2.25\n",
      "milieu 0.0\n",
      "milieu 0.25\n",
      "milieu 0.5\n",
      "milieu 0.75\n",
      "milieu 1.0\n",
      "milieu 1.25\n",
      "milieu 1.5\n",
      "milieu "
     ]
    },
    {
     "name": "stderr",
     "output_type": "stream",
     "text": [
      "\r",
      " 56%|█████████████████████████████████████████████▏                                  | 140/248 [00:50<00:36,  2.93it/s]"
     ]
    },
    {
     "name": "stdout",
     "output_type": "stream",
     "text": [
      "1.75\n",
      "milieu 2.0\n",
      "milieu 2.25\n",
      "minuit 0.0\n",
      "minuit 0.25\n",
      "minuit 0.5\n",
      "minuit 0.75\n",
      "minuit 1.0\n",
      "minuit 1.25\n",
      "minuit 1.5\n",
      "minuit 1.75\n",
      "minuit 2.0\n",
      "minuit "
     ]
    },
    {
     "name": "stderr",
     "output_type": "stream",
     "text": [
      "\r",
      " 57%|█████████████████████████████████████████████▍                                  | 141/248 [00:50<00:36,  2.96it/s]"
     ]
    },
    {
     "name": "stdout",
     "output_type": "stream",
     "text": [
      "2.25\n",
      "minute 0.0\n",
      "minute 0.25\n",
      "minute 0.5\n",
      "minute 0.75\n",
      "minute 1.0\n",
      "minute 1.25\n"
     ]
    },
    {
     "name": "stderr",
     "output_type": "stream",
     "text": [
      "\r",
      " 57%|█████████████████████████████████████████████▊                                  | 142/248 [00:50<00:36,  2.93it/s]"
     ]
    },
    {
     "name": "stdout",
     "output_type": "stream",
     "text": [
      "minute 1.5\n",
      "minute 1.75\n",
      "minute 2.0\n",
      "minute 2.25\n",
      "monter 0.0\n",
      "monter 0.25\n",
      "monter 0.5\n",
      "monter 0.75\n",
      "monter 1.0\n",
      "monter 1.25\n",
      "monter 1.5\n",
      "monter 1.75\n"
     ]
    },
    {
     "name": "stderr",
     "output_type": "stream",
     "text": [
      "\r",
      " 58%|██████████████████████████████████████████████▏                                 | 143/248 [00:51<00:35,  2.93it/s]"
     ]
    },
    {
     "name": "stdout",
     "output_type": "stream",
     "text": [
      "monter 2.0\n",
      "monter 2.25\n",
      "mordre 0.0\n",
      "mordre 0.25\n",
      "mordre 0.5\n",
      "mordre 0.75\n",
      "mordre 1.0\n",
      "mordre 1.25\n",
      "mordre 1.5\n",
      "mordre 1.75\n",
      "mordre 2.0\n",
      "mordre 2.25\n"
     ]
    },
    {
     "name": "stderr",
     "output_type": "stream",
     "text": [
      "\r",
      " 58%|██████████████████████████████████████████████▍                                 | 144/248 [00:51<00:35,  2.93it/s]"
     ]
    },
    {
     "name": "stdout",
     "output_type": "stream",
     "text": [
      "moteur 0.0\n",
      "moteur 0.25\n",
      "moteur 0.5\n",
      "moteur 0.75\n",
      "moteur 1.0\n",
      "moteur "
     ]
    },
    {
     "name": "stderr",
     "output_type": "stream",
     "text": [
      "\r",
      " 58%|██████████████████████████████████████████████▊                                 | 145/248 [00:51<00:35,  2.94it/s]"
     ]
    },
    {
     "name": "stdout",
     "output_type": "stream",
     "text": [
      "1.25\n",
      "moteur 1.5\n",
      "moteur 1.75\n",
      "moteur 2.0\n",
      "moteur 2.25\n",
      "mouche 0.0\n",
      "mouche 0.25\n",
      "mouche 0.5\n",
      "mouche 0.75\n",
      "mouche 1.0\n",
      "mouche 1.25\n",
      "mouche 1.5\n",
      "mouche 1.75\n",
      "mouche"
     ]
    },
    {
     "name": "stderr",
     "output_type": "stream",
     "text": [
      "\r",
      " 59%|███████████████████████████████████████████████                                 | 146/248 [00:52<00:34,  2.94it/s]"
     ]
    },
    {
     "name": "stdout",
     "output_type": "stream",
     "text": [
      " 2.0\n",
      "mouche 2.25\n",
      "moufle 0.0\n",
      "moufle 0.25\n",
      "moufle 0.5\n",
      "moufle 0.75\n",
      "moufle 1.0\n",
      "moufle 1.25\n",
      "moufle 1.5\n",
      "moufle 1.75\n",
      "moufle 2.0\n",
      "moufle 2.25\n"
     ]
    },
    {
     "name": "stderr",
     "output_type": "stream",
     "text": [
      "\r",
      " 59%|███████████████████████████████████████████████▍                                | 147/248 [00:52<00:34,  2.89it/s]"
     ]
    },
    {
     "name": "stdout",
     "output_type": "stream",
     "text": [
      "moulin 0.0\n",
      "moulin 0.25\n",
      "moulin 0.5\n",
      "moulin 0.75\n",
      "moulin 1.0\n",
      "moulin 1.25\n",
      "moulin 1.5\n"
     ]
    },
    {
     "name": "stderr",
     "output_type": "stream",
     "text": [
      "\r",
      " 60%|███████████████████████████████████████████████▋                                | 148/248 [00:52<00:34,  2.93it/s]"
     ]
    },
    {
     "name": "stdout",
     "output_type": "stream",
     "text": [
      "moulin 1.75\n",
      "moulin 2.0\n",
      "moulin 2.25\n",
      "mourir 0.0\n",
      "mourir 0.25\n",
      "mourir 0.5\n",
      "mourir 0.75\n"
     ]
    },
    {
     "name": "stderr",
     "output_type": "stream",
     "text": [
      "\r",
      " 60%|████████████████████████████████████████████████                                | 149/248 [00:53<00:34,  2.91it/s]"
     ]
    },
    {
     "name": "stdout",
     "output_type": "stream",
     "text": [
      "mourir 1.0\n",
      "mourir 1.25\n",
      "mourir 1.5\n",
      "mourir 1.75\n",
      "mourir 2.0\n",
      "mourir 2.25\n",
      "mousse 0.0\n",
      "mousse 0.25\n",
      "mousse 0.5\n",
      "mousse 0.75\n",
      "mousse 1.0\n",
      "mousse 1.25\n",
      "mousse 1.5\n"
     ]
    },
    {
     "name": "stderr",
     "output_type": "stream",
     "text": [
      "\r",
      " 60%|████████████████████████████████████████████████▍                               | 150/248 [00:53<00:33,  2.92it/s]"
     ]
    },
    {
     "name": "stdout",
     "output_type": "stream",
     "text": [
      "mousse 1.75\n",
      "mousse 2.0\n",
      "mousse 2.25\n",
      "muguet 0.0\n",
      "muguet 0.25\n",
      "muguet 0.5\n",
      "muguet 0.75\n"
     ]
    },
    {
     "name": "stderr",
     "output_type": "stream",
     "text": [
      "\r",
      " 61%|████████████████████████████████████████████████▋                               | 151/248 [00:53<00:33,  2.92it/s]"
     ]
    },
    {
     "name": "stdout",
     "output_type": "stream",
     "text": [
      "muguet 1.0\n",
      "muguet 1.25\n",
      "muguet 1.5\n",
      "muguet 1.75\n",
      "muguet 2.0\n",
      "muguet 2.25\n",
      "muscle 0.0\n",
      "muscle 0.25\n",
      "muscle 0.5\n",
      "muscle 0.75\n",
      "muscle 1.0\n",
      "muscle 1.25\n",
      "muscle "
     ]
    },
    {
     "name": "stderr",
     "output_type": "stream",
     "text": [
      "\r",
      " 61%|█████████████████████████████████████████████████                               | 152/248 [00:54<00:32,  2.93it/s]"
     ]
    },
    {
     "name": "stdout",
     "output_type": "stream",
     "text": [
      "1.5\n",
      "muscle 1.75\n",
      "muscle 2.0\n",
      "muscle 2.25\n",
      "navire 0.0\n",
      "navire 0.25\n",
      "navire 0.5\n",
      "navire 0.75\n",
      "navire 1.0\n",
      "navire 1.25\n",
      "navire 1.5\n",
      "navire 1.75\n"
     ]
    },
    {
     "name": "stderr",
     "output_type": "stream",
     "text": [
      "\r",
      " 62%|█████████████████████████████████████████████████▎                              | 153/248 [00:54<00:32,  2.93it/s]"
     ]
    },
    {
     "name": "stdout",
     "output_type": "stream",
     "text": [
      "navire 2.0\n",
      "navire 2.25\n",
      "neiger 0.0\n",
      "neiger 0.25\n",
      "neiger 0.5\n",
      "neiger 0.75\n"
     ]
    },
    {
     "name": "stderr",
     "output_type": "stream",
     "text": [
      "\r",
      " 62%|█████████████████████████████████████████████████▋                              | 154/248 [00:54<00:32,  2.92it/s]"
     ]
    },
    {
     "name": "stdout",
     "output_type": "stream",
     "text": [
      "neiger 1.0\n",
      "neiger 1.25\n",
      "neiger 1.5\n",
      "neiger 1.75\n",
      "neiger 2.0\n",
      "neiger 2.25\n",
      "nombre 0.0\n",
      "nombre 0.25\n",
      "nombre 0.5\n",
      "nombre 0.75\n",
      "nombre 1.0\n",
      "nombre 1.25\n"
     ]
    },
    {
     "name": "stderr",
     "output_type": "stream",
     "text": [
      "\r",
      " 62%|██████████████████████████████████████████████████                              | 155/248 [00:55<00:31,  2.94it/s]"
     ]
    },
    {
     "name": "stdout",
     "output_type": "stream",
     "text": [
      "nombre 1.5\n",
      "nombre 1.75\n",
      "nombre 2.0\n",
      "nombre 2.25\n",
      "oignon 0.0\n",
      "oignon 0.25\n",
      "oignon 0.5\n",
      "oignon 0.75\n",
      "oignon 1.0\n",
      "oignon 1.25\n",
      "oignon 1.5\n",
      "oignon "
     ]
    },
    {
     "name": "stderr",
     "output_type": "stream",
     "text": [
      "\r",
      " 63%|██████████████████████████████████████████████████▎                             | 156/248 [00:55<00:31,  2.91it/s]"
     ]
    },
    {
     "name": "stdout",
     "output_type": "stream",
     "text": [
      "1.75\n",
      "oignon 2.0\n",
      "oignon 2.25\n",
      "orange 0.0\n",
      "orange 0.25\n",
      "orange 0.5\n",
      "orange 0.75\n",
      "orange 1.0\n",
      "orange 1.25\n",
      "orange 1.5\n",
      "orange 1.75\n",
      "orange 2.0\n",
      "orange "
     ]
    },
    {
     "name": "stderr",
     "output_type": "stream",
     "text": [
      "\r",
      " 63%|██████████████████████████████████████████████████▋                             | 157/248 [00:55<00:31,  2.92it/s]"
     ]
    },
    {
     "name": "stdout",
     "output_type": "stream",
     "text": [
      "2.25\n",
      "paille 0.0\n",
      "paille 0.25\n",
      "paille 0.5\n",
      "paille 0.75\n",
      "paille 1.0\n",
      "paille "
     ]
    },
    {
     "name": "stderr",
     "output_type": "stream",
     "text": [
      "\r",
      " 64%|██████████████████████████████████████████████████▉                             | 158/248 [00:56<00:30,  2.93it/s]"
     ]
    },
    {
     "name": "stdout",
     "output_type": "stream",
     "text": [
      "1.25\n",
      "paille 1.5\n",
      "paille 1.75\n",
      "paille 2.0\n",
      "paille 2.25\n",
      "panier 0.0\n",
      "panier 0.25\n",
      "panier 0.5\n",
      "panier 0.75\n",
      "panier 1.0\n",
      "panier 1.25\n",
      "panier 1.5\n",
      "panier 1.75\n",
      "panier "
     ]
    },
    {
     "name": "stderr",
     "output_type": "stream",
     "text": [
      "\r",
      " 64%|███████████████████████████████████████████████████▎                            | 159/248 [00:56<00:30,  2.93it/s]"
     ]
    },
    {
     "name": "stdout",
     "output_type": "stream",
     "text": [
      "2.0\n",
      "panier 2.25\n",
      "paquet 0.0\n",
      "paquet 0.25\n",
      "paquet 0.5\n",
      "paquet 0.75\n",
      "paquet 1.0\n"
     ]
    },
    {
     "name": "stderr",
     "output_type": "stream",
     "text": [
      "\r",
      " 65%|███████████████████████████████████████████████████▌                            | 160/248 [00:56<00:29,  2.94it/s]"
     ]
    },
    {
     "name": "stdout",
     "output_type": "stream",
     "text": [
      "paquet 1.25\n",
      "paquet 1.5\n",
      "paquet 1.75\n",
      "paquet 2.0\n",
      "paquet 2.25\n",
      "pardon 0.0\n",
      "pardon 0.25\n",
      "pardon 0.5\n",
      "pardon 0.75\n",
      "pardon 1.0\n",
      "pardon 1.25\n",
      "pardon 1.5\n"
     ]
    },
    {
     "name": "stderr",
     "output_type": "stream",
     "text": [
      "\r",
      " 65%|███████████████████████████████████████████████████▉                            | 161/248 [00:57<00:29,  2.94it/s]"
     ]
    },
    {
     "name": "stdout",
     "output_type": "stream",
     "text": [
      "pardon 1.75\n",
      "pardon 2.0\n",
      "pardon 2.25\n",
      "parent 0.0\n",
      "parent 0.25\n",
      "parent 0.5\n",
      "parent 0.75\n"
     ]
    },
    {
     "name": "stderr",
     "output_type": "stream",
     "text": [
      "\r",
      " 65%|████████████████████████████████████████████████████▎                           | 162/248 [00:57<00:29,  2.94it/s]"
     ]
    },
    {
     "name": "stdout",
     "output_type": "stream",
     "text": [
      "parent 1.0\n",
      "parent 1.25\n",
      "parent 1.5\n",
      "parent 1.75\n",
      "parent 2.0\n",
      "parent 2.25\n",
      "parler 0.0\n",
      "parler 0.25\n",
      "parler 0.5\n",
      "parler 0.75\n",
      "parler 1.0\n",
      "parler 1.25\n",
      "parler 1.5\n",
      "parler 1.75\n"
     ]
    },
    {
     "name": "stderr",
     "output_type": "stream",
     "text": [
      "\r",
      " 66%|████████████████████████████████████████████████████▌                           | 163/248 [00:58<00:29,  2.91it/s]"
     ]
    },
    {
     "name": "stdout",
     "output_type": "stream",
     "text": [
      "parler 2.0\n",
      "parler 2.25\n",
      "partie 0.0\n",
      "partie 0.25\n",
      "partie 0.5\n",
      "partie 0.75\n"
     ]
    },
    {
     "name": "stderr",
     "output_type": "stream",
     "text": [
      "\r",
      " 66%|████████████████████████████████████████████████████▉                           | 164/248 [00:58<00:28,  2.92it/s]"
     ]
    },
    {
     "name": "stdout",
     "output_type": "stream",
     "text": [
      "partie 1.0\n",
      "partie 1.25\n",
      "partie 1.5\n",
      "partie 1.75\n",
      "partie 2.0\n",
      "partie 2.25\n",
      "passer 0.0\n",
      "passer 0.25\n",
      "passer 0.5\n",
      "passer 0.75\n",
      "passer 1.0\n",
      "passer 1.25\n"
     ]
    },
    {
     "name": "stderr",
     "output_type": "stream",
     "text": [
      "\r",
      " 67%|█████████████████████████████████████████████████████▏                          | 165/248 [00:58<00:28,  2.93it/s]"
     ]
    },
    {
     "name": "stdout",
     "output_type": "stream",
     "text": [
      "passer 1.5\n",
      "passer 1.75\n",
      "passer 2.0\n",
      "passer 2.25\n",
      "penser 0.0\n",
      "penser 0.25\n",
      "penser 0.5\n",
      "penser 0.75\n",
      "penser 1.0\n",
      "penser 1.25\n",
      "penser 1.5\n",
      "penser 1.75\n",
      "penser 2.0\n"
     ]
    },
    {
     "name": "stderr",
     "output_type": "stream",
     "text": [
      "\r",
      " 67%|█████████████████████████████████████████████████████▌                          | 166/248 [00:59<00:28,  2.91it/s]"
     ]
    },
    {
     "name": "stdout",
     "output_type": "stream",
     "text": [
      "penser 2.25\n",
      "percer 0.0\n",
      "percer 0.25\n",
      "percer 0.5\n",
      "percer 0.75\n",
      "percer 1.0\n",
      "percer "
     ]
    },
    {
     "name": "stderr",
     "output_type": "stream",
     "text": [
      "\r",
      " 67%|█████████████████████████████████████████████████████▊                          | 167/248 [00:59<00:27,  2.92it/s]"
     ]
    },
    {
     "name": "stdout",
     "output_type": "stream",
     "text": [
      "1.25\n",
      "percer 1.5\n",
      "percer 1.75\n",
      "percer 2.0\n",
      "percer 2.25\n",
      "perdre 0.0\n",
      "perdre 0.25\n",
      "perdre 0.5\n",
      "perdre 0.75\n",
      "perdre 1.0\n",
      "perdre 1.25\n",
      "perdre 1.5\n"
     ]
    },
    {
     "name": "stderr",
     "output_type": "stream",
     "text": [
      "\r",
      " 68%|██████████████████████████████████████████████████████▏                         | 168/248 [00:59<00:27,  2.87it/s]"
     ]
    },
    {
     "name": "stdout",
     "output_type": "stream",
     "text": [
      "perdre 1.75\n",
      "perdre 2.0\n",
      "perdre 2.25\n",
      "persil 0.0\n",
      "persil 0.25\n",
      "persil 0.5\n",
      "persil 0.75\n",
      "persil 1.0\n",
      "persil 1.25\n",
      "persil 1.5\n",
      "persil 1.75\n",
      "persil 2.0\n"
     ]
    },
    {
     "name": "stderr",
     "output_type": "stream",
     "text": [
      "\r",
      " 68%|██████████████████████████████████████████████████████▌                         | 169/248 [01:00<00:27,  2.89it/s]"
     ]
    },
    {
     "name": "stdout",
     "output_type": "stream",
     "text": [
      "persil 2.25\n",
      "phoque 0.0\n",
      "phoque 0.25\n",
      "phoque 0.5\n",
      "phoque 0.75\n",
      "phoque 1.0\n"
     ]
    },
    {
     "name": "stderr",
     "output_type": "stream",
     "text": [
      "\r",
      " 69%|██████████████████████████████████████████████████████▊                         | 170/248 [01:00<00:26,  2.91it/s]"
     ]
    },
    {
     "name": "stdout",
     "output_type": "stream",
     "text": [
      "phoque 1.25\n",
      "phoque 1.5\n",
      "phoque 1.75\n",
      "phoque 2.0\n",
      "phoque 2.25\n",
      "pigeon 0.0\n",
      "pigeon 0.25\n",
      "pigeon 0.5\n",
      "pigeon 0.75\n",
      "pigeon 1.0\n",
      "pigeon 1.25\n",
      "pigeon 1.5\n",
      "pigeon 1.75\n",
      "pigeon "
     ]
    },
    {
     "name": "stderr",
     "output_type": "stream",
     "text": [
      "\r",
      " 69%|███████████████████████████████████████████████████████▏                        | 171/248 [01:00<00:26,  2.92it/s]"
     ]
    },
    {
     "name": "stdout",
     "output_type": "stream",
     "text": [
      "2.0\n",
      "pigeon 2.25\n",
      "pilote 0.0\n",
      "pilote 0.25\n",
      "pilote 0.5\n",
      "pilote 0.75\n",
      "pilote 1.0\n",
      "pilote 1.25\n",
      "pilote 1.5\n",
      "pilote 1.75\n",
      "pilote 2.0\n",
      "pilote 2.25\n"
     ]
    },
    {
     "name": "stderr",
     "output_type": "stream",
     "text": [
      "\r",
      " 69%|███████████████████████████████████████████████████████▍                        | 172/248 [01:01<00:25,  2.92it/s]"
     ]
    },
    {
     "name": "stdout",
     "output_type": "stream",
     "text": [
      "pincer 0.0\n",
      "pincer 0.25\n",
      "pincer 0.5\n",
      "pincer 0.75\n",
      "pincer 1.0\n",
      "pincer 1.25\n"
     ]
    },
    {
     "name": "stderr",
     "output_type": "stream",
     "text": [
      "\r",
      " 70%|███████████████████████████████████████████████████████▊                        | 173/248 [01:01<00:25,  2.93it/s]"
     ]
    },
    {
     "name": "stdout",
     "output_type": "stream",
     "text": [
      "pincer 1.5\n",
      "pincer 1.75\n",
      "pincer 2.0\n",
      "pincer 2.25\n",
      "piquer 0.0\n",
      "piquer 0.25\n",
      "piquer 0.5\n",
      "piquer 0.75\n",
      "piquer 1.0\n",
      "piquer 1.25\n",
      "piquer 1.5\n",
      "piquer"
     ]
    },
    {
     "name": "stderr",
     "output_type": "stream",
     "text": [
      "\r",
      " 70%|████████████████████████████████████████████████████████▏                       | 174/248 [01:01<00:25,  2.91it/s]"
     ]
    },
    {
     "name": "stdout",
     "output_type": "stream",
     "text": [
      " 1.75\n",
      "piquer 2.0\n",
      "piquer 2.25\n",
      "plaire 0.0\n",
      "plaire 0.25\n",
      "plaire 0.5\n",
      "plaire 0.75\n",
      "plaire 1.0\n",
      "plaire 1.25\n",
      "plaire 1.5\n",
      "plaire 1.75\n",
      "plaire 2.0\n",
      "plaire"
     ]
    },
    {
     "name": "stderr",
     "output_type": "stream",
     "text": [
      "\r",
      " 71%|████████████████████████████████████████████████████████▍                       | 175/248 [01:02<00:25,  2.92it/s]"
     ]
    },
    {
     "name": "stdout",
     "output_type": "stream",
     "text": [
      " 2.25\n",
      "pliage 0.0\n",
      "pliage 0.25\n",
      "pliage 0.5\n",
      "pliage 0.75\n",
      "pliage 1.0\n",
      "pliage 1.25\n"
     ]
    },
    {
     "name": "stderr",
     "output_type": "stream",
     "text": [
      "\r",
      " 71%|████████████████████████████████████████████████████████▊                       | 176/248 [01:02<00:24,  2.93it/s]"
     ]
    },
    {
     "name": "stdout",
     "output_type": "stream",
     "text": [
      "pliage 1.5\n",
      "pliage 1.75\n",
      "pliage 2.0\n",
      "pliage 2.25\n",
      "pointe 0.0\n",
      "pointe 0.25\n",
      "pointe 0.5\n",
      "pointe 0.75\n",
      "pointe 1.0\n",
      "pointe 1.25\n",
      "pointe 1.5\n",
      "pointe 1.75\n",
      "pointe 2.0\n"
     ]
    },
    {
     "name": "stderr",
     "output_type": "stream",
     "text": [
      "\r",
      " 71%|█████████████████████████████████████████████████████████                       | 177/248 [01:02<00:24,  2.90it/s]"
     ]
    },
    {
     "name": "stdout",
     "output_type": "stream",
     "text": [
      "pointe 2.25\n",
      "pointu 0.0\n",
      "pointu 0.25\n",
      "pointu 0.5\n",
      "pointu 0.75\n",
      "pointu 1.0\n",
      "pointu "
     ]
    },
    {
     "name": "stderr",
     "output_type": "stream",
     "text": [
      "\r",
      " 72%|█████████████████████████████████████████████████████████▍                      | 178/248 [01:03<00:24,  2.92it/s]"
     ]
    },
    {
     "name": "stdout",
     "output_type": "stream",
     "text": [
      "1.25\n",
      "pointu 1.5\n",
      "pointu 1.75\n",
      "pointu 2.0\n",
      "pointu 2.25\n",
      "police 0.0\n",
      "police 0.25\n",
      "police 0.5\n",
      "police 0.75\n",
      "police 1.0\n",
      "police 1.25\n",
      "police 1.5\n",
      "police 1.75\n"
     ]
    },
    {
     "name": "stderr",
     "output_type": "stream",
     "text": [
      "\r",
      " 72%|█████████████████████████████████████████████████████████▋                      | 179/248 [01:03<00:23,  2.92it/s]"
     ]
    },
    {
     "name": "stdout",
     "output_type": "stream",
     "text": [
      "police 2.0\n",
      "police 2.25\n",
      "porter 0.0\n",
      "porter 0.25\n",
      "porter 0.5\n",
      "porter 0.75\n",
      "porter"
     ]
    },
    {
     "name": "stderr",
     "output_type": "stream",
     "text": [
      "\r",
      " 73%|██████████████████████████████████████████████████████████                      | 180/248 [01:03<00:23,  2.90it/s]"
     ]
    },
    {
     "name": "stdout",
     "output_type": "stream",
     "text": [
      " 1.0\n",
      "porter 1.25\n",
      "porter 1.5\n",
      "porter 1.75\n",
      "porter 2.0\n",
      "porter 2.25\n",
      "poster 0.0\n",
      "poster 0.25\n",
      "poster 0.5\n",
      "poster 0.75\n",
      "poster 1.0\n",
      "poster 1.25\n"
     ]
    },
    {
     "name": "stderr",
     "output_type": "stream",
     "text": [
      "\r",
      " 73%|██████████████████████████████████████████████████████████▍                     | 181/248 [01:04<00:23,  2.89it/s]"
     ]
    },
    {
     "name": "stdout",
     "output_type": "stream",
     "text": [
      "poster 1.5\n",
      "poster 1.75\n",
      "poster 2.0\n",
      "poster 2.25\n",
      "poulet 0.0\n",
      "poulet 0.25\n",
      "poulet 0.5\n",
      "poulet 0.75\n",
      "poulet 1.0\n",
      "poulet 1.25\n",
      "poulet 1.5\n"
     ]
    },
    {
     "name": "stderr",
     "output_type": "stream",
     "text": [
      "\r",
      " 73%|██████████████████████████████████████████████████████████▋                     | 182/248 [01:04<00:23,  2.81it/s]"
     ]
    },
    {
     "name": "stdout",
     "output_type": "stream",
     "text": [
      "poulet 1.75\n",
      "poulet 2.0\n",
      "poulet 2.25\n",
      "prises 0.0\n",
      "prises 0.25\n",
      "prises 0.5\n",
      "prises 0.75\n",
      "prises 1.0\n",
      "prises 1.25\n",
      "prises 1.5\n",
      "prises 1.75\n",
      "prises 2.0\n",
      "prises "
     ]
    },
    {
     "name": "stderr",
     "output_type": "stream",
     "text": [
      "\r",
      " 74%|███████████████████████████████████████████████████████████                     | 183/248 [01:04<00:23,  2.82it/s]"
     ]
    },
    {
     "name": "stdout",
     "output_type": "stream",
     "text": [
      "2.25\n",
      "priver 0.0\n",
      "priver 0.25\n",
      "priver 0.5\n",
      "priver 0.75\n",
      "priver 1.0\n"
     ]
    },
    {
     "name": "stderr",
     "output_type": "stream",
     "text": [
      "\r",
      " 74%|███████████████████████████████████████████████████████████▎                    | 184/248 [01:05<00:22,  2.86it/s]"
     ]
    },
    {
     "name": "stdout",
     "output_type": "stream",
     "text": [
      "priver 1.25\n",
      "priver 1.5\n",
      "priver 1.75\n",
      "priver 2.0\n",
      "priver 2.25\n",
      "propre 0.0\n",
      "propre 0.25\n",
      "propre 0.5\n",
      "propre 0.75\n",
      "propre 1.0\n",
      "propre 1.25\n",
      "propre "
     ]
    },
    {
     "name": "stderr",
     "output_type": "stream",
     "text": [
      "\r",
      " 75%|███████████████████████████████████████████████████████████▋                    | 185/248 [01:05<00:21,  2.87it/s]"
     ]
    },
    {
     "name": "stdout",
     "output_type": "stream",
     "text": [
      "1.5\n",
      "propre 1.75\n",
      "propre 2.0\n",
      "propre 2.25\n",
      "puzzle 0.0\n",
      "puzzle 0.25\n",
      "puzzle 0.5\n",
      "puzzle 0.75\n",
      "puzzle 1.0\n",
      "puzzle 1.25\n",
      "puzzle 1.5\n",
      "puzzle 1.75\n",
      "puzzle 2.0\n",
      "puzzle "
     ]
    },
    {
     "name": "stderr",
     "output_type": "stream",
     "text": [
      "\r",
      " 75%|████████████████████████████████████████████████████████████                    | 186/248 [01:05<00:21,  2.88it/s]"
     ]
    },
    {
     "name": "stdout",
     "output_type": "stream",
     "text": [
      "2.25\n",
      "pyjama 0.0\n",
      "pyjama 0.25\n",
      "pyjama 0.5\n",
      "pyjama 0.75\n",
      "pyjama 1.0\n"
     ]
    },
    {
     "name": "stderr",
     "output_type": "stream",
     "text": [
      "\r",
      " 75%|████████████████████████████████████████████████████████████▎                   | 187/248 [01:06<00:21,  2.90it/s]"
     ]
    },
    {
     "name": "stdout",
     "output_type": "stream",
     "text": [
      "pyjama 1.25\n",
      "pyjama 1.5\n",
      "pyjama 1.75\n",
      "pyjama 2.0\n",
      "pyjama 2.25\n",
      "quatre 0.0\n",
      "quatre 0.25\n",
      "quatre 0.5\n",
      "quatre 0.75\n",
      "quatre 1.0\n",
      "quatre 1.25\n",
      "quatre 1.5\n"
     ]
    },
    {
     "name": "stderr",
     "output_type": "stream",
     "text": [
      "\r",
      " 76%|████████████████████████████████████████████████████████████▋                   | 188/248 [01:06<00:20,  2.91it/s]"
     ]
    },
    {
     "name": "stdout",
     "output_type": "stream",
     "text": [
      "quatre 1.75\n",
      "quatre 2.0\n",
      "quatre 2.25\n",
      "raisin 0.0\n",
      "raisin 0.25\n",
      "raisin 0.5\n",
      "raisin 0.75\n",
      "raisin 1.0\n",
      "raisin 1.25\n",
      "raisin 1.5\n",
      "raisin 1.75\n",
      "raisin 2.0\n",
      "raisin "
     ]
    },
    {
     "name": "stderr",
     "output_type": "stream",
     "text": [
      "\r",
      " 76%|████████████████████████████████████████████████████████████▉                   | 189/248 [01:06<00:20,  2.92it/s]"
     ]
    },
    {
     "name": "stdout",
     "output_type": "stream",
     "text": [
      "2.25\n",
      "ramper 0.0\n",
      "ramper 0.25\n",
      "ramper 0.5\n",
      "ramper 0.75\n",
      "ramper 1.0\n",
      "ramper "
     ]
    },
    {
     "name": "stderr",
     "output_type": "stream",
     "text": [
      "\r",
      " 77%|█████████████████████████████████████████████████████████████▎                  | 190/248 [01:07<00:19,  2.90it/s]"
     ]
    },
    {
     "name": "stdout",
     "output_type": "stream",
     "text": [
      "1.25\n",
      "ramper 1.5\n",
      "ramper 1.75\n",
      "ramper 2.0\n",
      "ramper 2.25\n",
      "ranger 0.0\n",
      "ranger 0.25\n",
      "ranger 0.5\n",
      "ranger 0.75\n",
      "ranger 1.0\n",
      "ranger 1.25\n",
      "ranger 1.5\n",
      "ranger "
     ]
    },
    {
     "name": "stderr",
     "output_type": "stream",
     "text": [
      "\r",
      " 77%|█████████████████████████████████████████████████████████████▌                  | 191/248 [01:07<00:19,  2.89it/s]"
     ]
    },
    {
     "name": "stdout",
     "output_type": "stream",
     "text": [
      "1.75\n",
      "ranger 2.0\n",
      "ranger 2.25\n",
      "rapide 0.0\n",
      "rapide 0.25\n",
      "rapide 0.5\n",
      "rapide 0.75\n",
      "rapide 1.0\n",
      "rapide 1.25\n",
      "rapide 1.5\n",
      "rapide 1.75\n",
      "rapide 2.0\n"
     ]
    },
    {
     "name": "stderr",
     "output_type": "stream",
     "text": [
      "\r",
      " 77%|█████████████████████████████████████████████████████████████▉                  | 192/248 [01:08<00:19,  2.90it/s]"
     ]
    },
    {
     "name": "stdout",
     "output_type": "stream",
     "text": [
      "rapide 2.25\n",
      "rasoir 0.0\n",
      "rasoir 0.25\n",
      "rasoir 0.5\n",
      "rasoir 0.75\n",
      "rasoir 1.0\n"
     ]
    },
    {
     "name": "stderr",
     "output_type": "stream",
     "text": [
      "\r",
      " 78%|██████████████████████████████████████████████████████████████▎                 | 193/248 [01:08<00:19,  2.88it/s]"
     ]
    },
    {
     "name": "stdout",
     "output_type": "stream",
     "text": [
      "rasoir 1.25\n",
      "rasoir 1.5\n",
      "rasoir 1.75\n",
      "rasoir 2.0\n",
      "rasoir 2.25\n",
      "rayure 0.0\n",
      "rayure 0.25\n",
      "rayure 0.5\n",
      "rayure 0.75\n",
      "rayure 1.0\n",
      "rayure 1.25\n",
      "rayure 1.5\n"
     ]
    },
    {
     "name": "stderr",
     "output_type": "stream",
     "text": [
      "\r",
      " 78%|██████████████████████████████████████████████████████████████▌                 | 194/248 [01:08<00:18,  2.90it/s]"
     ]
    },
    {
     "name": "stdout",
     "output_type": "stream",
     "text": [
      "rayure 1.75\n",
      "rayure 2.0\n",
      "rayure 2.25\n",
      "regard 0.0\n",
      "regard 0.25\n",
      "regard 0.5\n",
      "regard 0.75\n",
      "regard 1.0\n",
      "regard 1.25\n",
      "regard 1.5\n",
      "regard 1.75\n",
      "regard 2.0\n",
      "regard 2.25\n"
     ]
    },
    {
     "name": "stderr",
     "output_type": "stream",
     "text": [
      "\r",
      " 79%|██████████████████████████████████████████████████████████████▉                 | 195/248 [01:09<00:18,  2.89it/s]"
     ]
    },
    {
     "name": "stdout",
     "output_type": "stream",
     "text": [
      "remuer 0.0\n",
      "remuer 0.25\n",
      "remuer 0.5\n",
      "remuer 0.75\n",
      "remuer 1.0\n",
      "remuer 1.25\n",
      "remuer "
     ]
    },
    {
     "name": "stderr",
     "output_type": "stream",
     "text": [
      "\r",
      " 79%|███████████████████████████████████████████████████████████████▏                | 196/248 [01:09<00:18,  2.87it/s]"
     ]
    },
    {
     "name": "stdout",
     "output_type": "stream",
     "text": [
      "1.5\n",
      "remuer 1.75\n",
      "remuer 2.0\n",
      "remuer 2.25\n",
      "renard 0.0\n",
      "renard 0.25\n",
      "renard 0.5\n",
      "renard 0.75\n",
      "renard 1.0\n",
      "renard 1.25\n",
      "renard 1.5\n",
      "renard 1.75\n"
     ]
    },
    {
     "name": "stderr",
     "output_type": "stream",
     "text": [
      "\r",
      " 79%|███████████████████████████████████████████████████████████████▌                | 197/248 [01:09<00:17,  2.86it/s]"
     ]
    },
    {
     "name": "stdout",
     "output_type": "stream",
     "text": [
      "renard 2.0\n",
      "renard 2.25\n",
      "rendre 0.0\n",
      "rendre 0.25\n",
      "rendre 0.5\n",
      "rendre 0.75\n",
      "rendre 1.0\n",
      "rendre 1.25\n",
      "rendre 1.5\n",
      "rendre 1.75\n",
      "rendre 2.0\n",
      "rendre 2.25\n"
     ]
    },
    {
     "name": "stderr",
     "output_type": "stream",
     "text": [
      "\r",
      " 80%|███████████████████████████████████████████████████████████████▊                | 198/248 [01:10<00:17,  2.83it/s]"
     ]
    },
    {
     "name": "stdout",
     "output_type": "stream",
     "text": [
      "retard 0.0\n",
      "retard 0.25\n",
      "retard 0.5\n",
      "retard 0.75\n",
      "retard 1.0\n",
      "retard 1.25\n",
      "retard 1.5\n"
     ]
    },
    {
     "name": "stderr",
     "output_type": "stream",
     "text": [
      "\r",
      " 80%|████████████████████████████████████████████████████████████████▏               | 199/248 [01:10<00:17,  2.86it/s]"
     ]
    },
    {
     "name": "stdout",
     "output_type": "stream",
     "text": [
      "retard 1.75\n",
      "retard 2.0\n",
      "retard 2.25\n",
      "retour 0.0\n",
      "retour 0.25\n",
      "retour 0.5\n",
      "retour 0.75\n",
      "retour 1.0\n",
      "retour 1.25\n",
      "retour 1.5\n",
      "retour 1.75\n",
      "retour 2.0\n"
     ]
    },
    {
     "name": "stderr",
     "output_type": "stream",
     "text": [
      "\r",
      " 81%|████████████████████████████████████████████████████████████████▌               | 200/248 [01:10<00:16,  2.89it/s]"
     ]
    },
    {
     "name": "stdout",
     "output_type": "stream",
     "text": [
      "retour 2.25\n",
      "revoir 0.0\n",
      "revoir 0.25\n",
      "revoir 0.5\n",
      "revoir 0.75\n",
      "revoir 1.0\n",
      "revoir 1.25\n"
     ]
    },
    {
     "name": "stderr",
     "output_type": "stream",
     "text": [
      "\r",
      " 81%|████████████████████████████████████████████████████████████████▊               | 201/248 [01:11<00:16,  2.90it/s]"
     ]
    },
    {
     "name": "stdout",
     "output_type": "stream",
     "text": [
      "revoir 1.5\n",
      "revoir 1.75\n",
      "revoir 2.0\n",
      "revoir 2.25\n",
      "rideau 0.0\n",
      "rideau 0.25\n",
      "rideau 0.5\n",
      "rideau 0.75\n",
      "rideau 1.0\n",
      "rideau 1.25\n",
      "rideau 1.5\n",
      "rideau 1.75\n"
     ]
    },
    {
     "name": "stderr",
     "output_type": "stream",
     "text": [
      "\r",
      " 81%|█████████████████████████████████████████████████████████████████▏              | 202/248 [01:11<00:15,  2.91it/s]"
     ]
    },
    {
     "name": "stdout",
     "output_type": "stream",
     "text": [
      "rideau 2.0\n",
      "rideau 2.25\n",
      "ronger 0.0\n",
      "ronger 0.25\n",
      "ronger 0.5\n",
      "ronger 0.75\n",
      "ronger 1.0\n",
      "ronger 1.25\n",
      "ronger 1.5\n",
      "ronger 1.75\n",
      "ronger 2.0\n",
      "ronger 2.25\n"
     ]
    },
    {
     "name": "stderr",
     "output_type": "stream",
     "text": [
      "\r",
      " 82%|█████████████████████████████████████████████████████████████████▍              | 203/248 [01:11<00:15,  2.90it/s]"
     ]
    },
    {
     "name": "stdout",
     "output_type": "stream",
     "text": [
      "rouler 0.0\n",
      "rouler 0.25\n",
      "rouler 0.5\n",
      "rouler 0.75\n",
      "rouler 1.0\n",
      "rouler 1.25\n",
      "rouler "
     ]
    },
    {
     "name": "stderr",
     "output_type": "stream",
     "text": [
      "\r",
      " 82%|█████████████████████████████████████████████████████████████████▊              | 204/248 [01:12<00:15,  2.90it/s]"
     ]
    },
    {
     "name": "stdout",
     "output_type": "stream",
     "text": [
      "1.5\n",
      "rouler 1.75\n",
      "rouler 2.0\n",
      "rouler 2.25\n",
      "saison 0.0\n",
      "saison 0.25\n",
      "saison 0.5\n",
      "saison 0.75\n",
      "saison 1.0\n",
      "saison 1.25\n",
      "saison 1.5\n",
      "saison 1.75\n"
     ]
    },
    {
     "name": "stderr",
     "output_type": "stream",
     "text": [
      "\r",
      " 83%|██████████████████████████████████████████████████████████████████▏             | 205/248 [01:12<00:14,  2.92it/s]"
     ]
    },
    {
     "name": "stdout",
     "output_type": "stream",
     "text": [
      "saison 2.0\n",
      "saison 2.25\n",
      "salade 0.0\n",
      "salade 0.25\n",
      "salade 0.5\n",
      "salade 0.75\n"
     ]
    },
    {
     "name": "stderr",
     "output_type": "stream",
     "text": [
      "\r",
      " 83%|██████████████████████████████████████████████████████████████████▍             | 206/248 [01:12<00:14,  2.92it/s]"
     ]
    },
    {
     "name": "stdout",
     "output_type": "stream",
     "text": [
      "salade 1.0\n",
      "salade 1.25\n",
      "salade 1.5\n",
      "salade 1.75\n",
      "salade 2.0\n",
      "salade 2.25\n",
      "saluer 0.0\n",
      "saluer 0.25\n",
      "saluer 0.5\n",
      "saluer 0.75\n",
      "saluer 1.0\n",
      "saluer 1.25\n",
      "saluer"
     ]
    },
    {
     "name": "stderr",
     "output_type": "stream",
     "text": [
      "\r",
      " 83%|██████████████████████████████████████████████████████████████████▊             | 207/248 [01:13<00:14,  2.91it/s]"
     ]
    },
    {
     "name": "stdout",
     "output_type": "stream",
     "text": [
      " 1.5\n",
      "saluer 1.75\n",
      "saluer 2.0\n",
      "saluer 2.25\n",
      "samedi 0.0\n",
      "samedi 0.25\n",
      "samedi 0.5\n",
      "samedi 0.75\n",
      "samedi 1.0\n",
      "samedi 1.25\n",
      "samedi 1.5\n",
      "samedi 1.75\n",
      "samedi 2.0\n",
      "samedi "
     ]
    },
    {
     "name": "stderr",
     "output_type": "stream",
     "text": [
      "\r",
      " 84%|███████████████████████████████████████████████████████████████████             | 208/248 [01:13<00:13,  2.92it/s]"
     ]
    },
    {
     "name": "stdout",
     "output_type": "stream",
     "text": [
      "2.25\n",
      "sauter 0.0\n",
      "sauter 0.25\n",
      "sauter 0.5\n",
      "sauter 0.75\n",
      "sauter 1.0\n"
     ]
    },
    {
     "name": "stderr",
     "output_type": "stream",
     "text": [
      "\r",
      " 84%|███████████████████████████████████████████████████████████████████▍            | 209/248 [01:13<00:13,  2.93it/s]"
     ]
    },
    {
     "name": "stdout",
     "output_type": "stream",
     "text": [
      "sauter 1.25\n",
      "sauter 1.5\n",
      "sauter 1.75\n",
      "sauter 2.0\n",
      "sauter 2.25\n",
      "sauver 0.0\n",
      "sauver 0.25\n",
      "sauver 0.5\n",
      "sauver 0.75\n",
      "sauver 1.0\n",
      "sauver 1.25\n",
      "sauver 1.5\n"
     ]
    },
    {
     "name": "stderr",
     "output_type": "stream",
     "text": [
      "\r",
      " 85%|███████████████████████████████████████████████████████████████████▋            | 210/248 [01:14<00:13,  2.90it/s]"
     ]
    },
    {
     "name": "stdout",
     "output_type": "stream",
     "text": [
      "sauver 1.75\n",
      "sauver 2.0\n",
      "sauver 2.25\n",
      "savoir 0.0\n",
      "savoir 0.25\n",
      "savoir 0.5\n",
      "savoir 0.75\n",
      "savoir 1.0\n",
      "savoir 1.25\n",
      "savoir 1.5\n",
      "savoir 1.75\n",
      "savoir 2.0\n",
      "savoir 2.25\n"
     ]
    },
    {
     "name": "stderr",
     "output_type": "stream",
     "text": [
      "\r",
      " 85%|████████████████████████████████████████████████████████████████████            | 211/248 [01:14<00:12,  2.91it/s]"
     ]
    },
    {
     "name": "stdout",
     "output_type": "stream",
     "text": [
      "sentir 0.0\n",
      "sentir 0.25\n",
      "sentir 0.5\n",
      "sentir 0.75\n",
      "sentir 1.0\n",
      "sentir 1.25\n",
      "sentir "
     ]
    },
    {
     "name": "stderr",
     "output_type": "stream",
     "text": [
      "\r",
      " 85%|████████████████████████████████████████████████████████████████████▍           | 212/248 [01:14<00:12,  2.85it/s]"
     ]
    },
    {
     "name": "stdout",
     "output_type": "stream",
     "text": [
      "1.5\n",
      "sentir 1.75\n",
      "sentir 2.0\n",
      "sentir 2.25\n",
      "serrer 0.0\n",
      "serrer 0.25\n",
      "serrer 0.5\n",
      "serrer 0.75\n",
      "serrer 1.0\n",
      "serrer 1.25\n",
      "serrer 1.5\n",
      "serrer 1.75\n"
     ]
    },
    {
     "name": "stderr",
     "output_type": "stream",
     "text": [
      "\r",
      " 86%|████████████████████████████████████████████████████████████████████▋           | 213/248 [01:15<00:12,  2.88it/s]"
     ]
    },
    {
     "name": "stdout",
     "output_type": "stream",
     "text": [
      "serrer 2.0\n",
      "serrer 2.25\n",
      "servir 0.0\n",
      "servir 0.25\n",
      "servir 0.5\n",
      "servir 0.75\n",
      "servir 1.0\n"
     ]
    },
    {
     "name": "stderr",
     "output_type": "stream",
     "text": [
      "\r",
      " 86%|█████████████████████████████████████████████████████████████████████           | 214/248 [01:15<00:11,  2.87it/s]"
     ]
    },
    {
     "name": "stdout",
     "output_type": "stream",
     "text": [
      "servir 1.25\n",
      "servir 1.5\n",
      "servir 1.75\n",
      "servir 2.0\n",
      "servir 2.25\n",
      "sieste 0.0\n",
      "sieste 0.25\n",
      "sieste 0.5\n",
      "sieste 0.75\n",
      "sieste 1.0\n",
      "sieste 1.25\n",
      "sieste 1.5\n",
      "sieste 1.75\n"
     ]
    },
    {
     "name": "stderr",
     "output_type": "stream",
     "text": [
      "\r",
      " 87%|█████████████████████████████████████████████████████████████████████▎          | 215/248 [01:15<00:11,  2.89it/s]"
     ]
    },
    {
     "name": "stdout",
     "output_type": "stream",
     "text": [
      "sieste 2.0\n",
      "sieste 2.25\n",
      "soldat 0.0\n",
      "soldat 0.25\n",
      "soldat 0.5\n",
      "soldat 0.75\n",
      "soldat "
     ]
    },
    {
     "name": "stderr",
     "output_type": "stream",
     "text": [
      "\r",
      " 87%|█████████████████████████████████████████████████████████████████████▋          | 216/248 [01:16<00:11,  2.91it/s]"
     ]
    },
    {
     "name": "stdout",
     "output_type": "stream",
     "text": [
      "1.0\n",
      "soldat 1.25\n",
      "soldat 1.5\n",
      "soldat 1.75\n",
      "soldat 2.0\n",
      "soldat 2.25\n",
      "soleil 0.0\n",
      "soleil 0.25\n",
      "soleil 0.5\n",
      "soleil 0.75\n",
      "soleil 1.0\n",
      "soleil 1.25\n",
      "soleil 1.5\n"
     ]
    },
    {
     "name": "stderr",
     "output_type": "stream",
     "text": [
      "\r",
      " 88%|██████████████████████████████████████████████████████████████████████          | 217/248 [01:16<00:10,  2.90it/s]"
     ]
    },
    {
     "name": "stdout",
     "output_type": "stream",
     "text": [
      "soleil 1.75\n",
      "soleil 2.0\n",
      "soleil 2.25\n",
      "sombre 0.0\n",
      "sombre 0.25\n",
      "sombre 0.5\n",
      "sombre 0.75\n",
      "sombre 1.0\n",
      "sombre 1.25\n",
      "sombre 1.5\n",
      "sombre 1.75\n",
      "sombre 2.0\n",
      "sombre 2.25\n"
     ]
    },
    {
     "name": "stderr",
     "output_type": "stream",
     "text": [
      "\r",
      " 88%|██████████████████████████████████████████████████████████████████████▎         | 218/248 [01:17<00:10,  2.90it/s]"
     ]
    },
    {
     "name": "stdout",
     "output_type": "stream",
     "text": [
      "sommet 0.0\n",
      "sommet 0.25\n",
      "sommet 0.5\n",
      "sommet 0.75\n",
      "sommet 1.0\n",
      "sommet 1.25\n",
      "sommet "
     ]
    },
    {
     "name": "stderr",
     "output_type": "stream",
     "text": [
      "\r",
      " 88%|██████████████████████████████████████████████████████████████████████▋         | 219/248 [01:17<00:10,  2.89it/s]"
     ]
    },
    {
     "name": "stdout",
     "output_type": "stream",
     "text": [
      "1.5\n",
      "sommet 1.75\n",
      "sommet 2.0\n",
      "sommet 2.25\n",
      "sonner 0.0\n",
      "sonner 0.25\n",
      "sonner 0.5\n",
      "sonner 0.75\n",
      "sonner 1.0\n",
      "sonner 1.25\n",
      "sonner 1.5\n",
      "sonner 1.75\n"
     ]
    },
    {
     "name": "stderr",
     "output_type": "stream",
     "text": [
      "\r",
      " 89%|██████████████████████████████████████████████████████████████████████▉         | 220/248 [01:17<00:09,  2.88it/s]"
     ]
    },
    {
     "name": "stdout",
     "output_type": "stream",
     "text": [
      "sonner 2.0\n",
      "sonner 2.25\n",
      "sortie 0.0\n",
      "sortie 0.25\n",
      "sortie 0.5\n",
      "sortie 0.75\n",
      "sortie 1.0\n",
      "sortie 1.25\n",
      "sortie 1.5\n",
      "sortie 1.75\n",
      "sortie 2.0\n",
      "sortie"
     ]
    },
    {
     "name": "stderr",
     "output_type": "stream",
     "text": [
      "\r",
      " 89%|███████████████████████████████████████████████████████████████████████▎        | 221/248 [01:18<00:09,  2.85it/s]"
     ]
    },
    {
     "name": "stdout",
     "output_type": "stream",
     "text": [
      " 2.25\n",
      "sortir 0.0\n",
      "sortir 0.25\n",
      "sortir 0.5\n",
      "sortir 0.75\n",
      "sortir 1.0\n",
      "sortir "
     ]
    },
    {
     "name": "stderr",
     "output_type": "stream",
     "text": [
      "\r",
      " 90%|███████████████████████████████████████████████████████████████████████▌        | 222/248 [01:18<00:09,  2.87it/s]"
     ]
    },
    {
     "name": "stdout",
     "output_type": "stream",
     "text": [
      "1.25\n",
      "sortir 1.5\n",
      "sortir 1.75\n",
      "sortir 2.0\n",
      "sortir 2.25\n",
      "souple 0.0\n",
      "souple 0.25\n",
      "souple 0.5\n",
      "souple 0.75\n",
      "souple 1.0\n",
      "souple 1.25\n",
      "souple 1.5\n",
      "souple 1.75\n",
      "souple "
     ]
    },
    {
     "name": "stderr",
     "output_type": "stream",
     "text": [
      "\r",
      " 90%|███████████████████████████████████████████████████████████████████████▉        | 223/248 [01:18<00:08,  2.87it/s]"
     ]
    },
    {
     "name": "stdout",
     "output_type": "stream",
     "text": [
      "2.0\n",
      "souple 2.25\n",
      "square 0.0\n",
      "square 0.25\n",
      "square 0.5\n",
      "square 0.75\n"
     ]
    },
    {
     "name": "stderr",
     "output_type": "stream",
     "text": [
      "\r",
      " 90%|████████████████████████████████████████████████████████████████████████▎       | 224/248 [01:19<00:08,  2.89it/s]"
     ]
    },
    {
     "name": "stdout",
     "output_type": "stream",
     "text": [
      "square 1.0\n",
      "square 1.25\n",
      "square 1.5\n",
      "square 1.75\n",
      "square 2.0\n",
      "square 2.25\n",
      "suivre 0.0\n",
      "suivre 0.25\n",
      "suivre 0.5\n",
      "suivre 0.75\n",
      "suivre 1.0\n",
      "suivre 1.25\n",
      "suivre "
     ]
    },
    {
     "name": "stderr",
     "output_type": "stream",
     "text": [
      "\r",
      " 91%|████████████████████████████████████████████████████████████████████████▌       | 225/248 [01:19<00:07,  2.91it/s]"
     ]
    },
    {
     "name": "stdout",
     "output_type": "stream",
     "text": [
      "1.5\n",
      "suivre 1.75\n",
      "suivre 2.0\n",
      "suivre 2.25\n",
      "taille 0.0\n",
      "taille 0.25\n",
      "taille 0.5\n",
      "taille 0.75\n",
      "taille 1.0\n",
      "taille 1.25\n",
      "taille 1.5\n",
      "taille 1.75\n",
      "taille 2.0\n"
     ]
    },
    {
     "name": "stderr",
     "output_type": "stream",
     "text": [
      "\r",
      " 91%|████████████████████████████████████████████████████████████████████████▉       | 226/248 [01:19<00:07,  2.92it/s]"
     ]
    },
    {
     "name": "stdout",
     "output_type": "stream",
     "text": [
      "taille 2.25\n",
      "tampon 0.0\n",
      "tampon 0.25\n",
      "tampon 0.5\n",
      "tampon 0.75\n",
      "tampon 1.0\n",
      "tampon"
     ]
    },
    {
     "name": "stderr",
     "output_type": "stream",
     "text": [
      "\r",
      " 92%|█████████████████████████████████████████████████████████████████████████▏      | 227/248 [01:20<00:07,  2.92it/s]"
     ]
    },
    {
     "name": "stdout",
     "output_type": "stream",
     "text": [
      " 1.25\n",
      "tampon 1.5\n",
      "tampon 1.75\n",
      "tampon 2.0\n",
      "tampon 2.25\n",
      "tendre 0.0\n",
      "tendre 0.25\n",
      "tendre 0.5\n",
      "tendre 0.75\n",
      "tendre 1.0\n",
      "tendre 1.25\n",
      "tendre 1.5\n"
     ]
    },
    {
     "name": "stderr",
     "output_type": "stream",
     "text": [
      "\r",
      " 92%|█████████████████████████████████████████████████████████████████████████▌      | 228/248 [01:20<00:06,  2.93it/s]"
     ]
    },
    {
     "name": "stdout",
     "output_type": "stream",
     "text": [
      "tendre 1.75\n",
      "tendre 2.0\n",
      "tendre 2.25\n",
      "ticket 0.0\n",
      "ticket 0.25\n",
      "ticket 0.5\n",
      "ticket 0.75\n",
      "ticket 1.0\n",
      "ticket 1.25\n",
      "ticket 1.5\n",
      "ticket 1.75\n",
      "ticket 2.0\n",
      "ticket"
     ]
    },
    {
     "name": "stderr",
     "output_type": "stream",
     "text": [
      "\r",
      " 92%|█████████████████████████████████████████████████████████████████████████▊      | 229/248 [01:20<00:06,  2.93it/s]"
     ]
    },
    {
     "name": "stdout",
     "output_type": "stream",
     "text": [
      " 2.25\n",
      "timbre 0.0\n",
      "timbre 0.25\n",
      "timbre 0.5\n",
      "timbre 0.75\n",
      "timbre 1.0\n",
      "timbre 1.25\n"
     ]
    },
    {
     "name": "stderr",
     "output_type": "stream",
     "text": [
      "\r",
      " 93%|██████████████████████████████████████████████████████████████████████████▏     | 230/248 [01:21<00:06,  2.94it/s]"
     ]
    },
    {
     "name": "stdout",
     "output_type": "stream",
     "text": [
      "timbre 1.5\n",
      "timbre 1.75\n",
      "timbre 2.0\n",
      "timbre 2.25\n",
      "tiroir 0.0\n",
      "tiroir 0.25\n",
      "tiroir 0.5\n",
      "tiroir 0.75\n",
      "tiroir 1.0\n",
      "tiroir 1.25\n",
      "tiroir 1.5\n",
      "tiroir 1.75\n",
      "tiroir "
     ]
    },
    {
     "name": "stderr",
     "output_type": "stream",
     "text": [
      "\r",
      " 93%|██████████████████████████████████████████████████████████████████████████▌     | 231/248 [01:21<00:05,  2.95it/s]"
     ]
    },
    {
     "name": "stdout",
     "output_type": "stream",
     "text": [
      "2.0\n",
      "tiroir 2.25\n",
      "tomate 0.0\n",
      "tomate 0.25\n",
      "tomate 0.5\n",
      "tomate 0.75\n"
     ]
    },
    {
     "name": "stderr",
     "output_type": "stream",
     "text": [
      "\r",
      " 94%|██████████████████████████████████████████████████████████████████████████▊     | 232/248 [01:21<00:05,  2.93it/s]"
     ]
    },
    {
     "name": "stdout",
     "output_type": "stream",
     "text": [
      "tomate 1.0\n",
      "tomate 1.25\n",
      "tomate 1.5\n",
      "tomate 1.75\n",
      "tomate 2.0\n",
      "tomate 2.25\n",
      "tomber 0.0\n",
      "tomber 0.25\n",
      "tomber 0.5\n",
      "tomber 0.75\n",
      "tomber 1.0\n",
      "tomber 1.25\n"
     ]
    },
    {
     "name": "stderr",
     "output_type": "stream",
     "text": [
      "\r",
      " 94%|███████████████████████████████████████████████████████████████████████████▏    | 233/248 [01:22<00:05,  2.94it/s]"
     ]
    },
    {
     "name": "stdout",
     "output_type": "stream",
     "text": [
      "tomber 1.5\n",
      "tomber 1.75\n",
      "tomber 2.0\n",
      "tomber 2.25\n",
      "tortue 0.0\n",
      "tortue 0.25\n",
      "tortue 0.5\n",
      "tortue 0.75\n",
      "tortue 1.0\n",
      "tortue 1.25\n",
      "tortue 1.5\n",
      "tortue 1.75\n"
     ]
    },
    {
     "name": "stderr",
     "output_type": "stream",
     "text": [
      "\r",
      " 94%|███████████████████████████████████████████████████████████████████████████▍    | 234/248 [01:22<00:04,  2.94it/s]"
     ]
    },
    {
     "name": "stdout",
     "output_type": "stream",
     "text": [
      "tortue 2.0\n",
      "tortue 2.25\n",
      "triste 0.0\n",
      "triste 0.25\n",
      "triste 0.5\n",
      "triste 0.75\n"
     ]
    },
    {
     "name": "stderr",
     "output_type": "stream",
     "text": [
      "\r",
      " 95%|███████████████████████████████████████████████████████████████████████████▊    | 235/248 [01:22<00:04,  2.94it/s]"
     ]
    },
    {
     "name": "stdout",
     "output_type": "stream",
     "text": [
      "triste 1.0\n",
      "triste 1.25\n",
      "triste 1.5\n",
      "triste 1.75\n",
      "triste 2.0\n",
      "triste 2.25\n",
      "trouer 0.0\n",
      "trouer 0.25\n",
      "trouer 0.5\n",
      "trouer 0.75\n",
      "trouer 1.0\n",
      "trouer 1.25\n",
      "trouer "
     ]
    },
    {
     "name": "stderr",
     "output_type": "stream",
     "text": [
      "\r",
      " 95%|████████████████████████████████████████████████████████████████████████████▏   | 236/248 [01:23<00:04,  2.94it/s]"
     ]
    },
    {
     "name": "stdout",
     "output_type": "stream",
     "text": [
      "1.5\n",
      "trouer 1.75\n",
      "trouer 2.0\n",
      "trouer 2.25\n",
      "tulipe 0.0\n",
      "tulipe 0.25\n",
      "tulipe 0.5\n",
      "tulipe 0.75\n",
      "tulipe 1.0\n",
      "tulipe 1.25\n",
      "tulipe 1.5\n",
      "tulipe 1.75\n",
      "tulipe"
     ]
    },
    {
     "name": "stderr",
     "output_type": "stream",
     "text": [
      "\r",
      " 96%|████████████████████████████████████████████████████████████████████████████▍   | 237/248 [01:23<00:03,  2.94it/s]"
     ]
    },
    {
     "name": "stdout",
     "output_type": "stream",
     "text": [
      " 2.0\n",
      "tulipe 2.25\n",
      "tunnel 0.0\n",
      "tunnel 0.25\n",
      "tunnel 0.5\n",
      "tunnel 0.75\n",
      "tunnel 1.0\n"
     ]
    },
    {
     "name": "stderr",
     "output_type": "stream",
     "text": [
      "\r",
      " 96%|████████████████████████████████████████████████████████████████████████████▊   | 238/248 [01:23<00:03,  2.94it/s]"
     ]
    },
    {
     "name": "stdout",
     "output_type": "stream",
     "text": [
      "tunnel 1.25\n",
      "tunnel 1.5\n",
      "tunnel 1.75\n",
      "tunnel 2.0\n",
      "tunnel 2.25\n",
      "valise 0.0\n",
      "valise 0.25\n",
      "valise 0.5\n",
      "valise 0.75\n",
      "valise 1.0\n",
      "valise 1.25\n",
      "valise 1.5\n"
     ]
    },
    {
     "name": "stderr",
     "output_type": "stream",
     "text": [
      "\r",
      " 96%|█████████████████████████████████████████████████████████████████████████████   | 239/248 [01:24<00:03,  2.94it/s]"
     ]
    },
    {
     "name": "stdout",
     "output_type": "stream",
     "text": [
      "valise 1.75\n",
      "valise 2.0\n",
      "valise 2.25\n",
      "venter 0.0\n",
      "venter 0.25\n",
      "venter 0.5\n",
      "venter 0.75\n"
     ]
    },
    {
     "name": "stderr",
     "output_type": "stream",
     "text": [
      "\r",
      " 97%|█████████████████████████████████████████████████████████████████████████████▍  | 240/248 [01:24<00:02,  2.91it/s]"
     ]
    },
    {
     "name": "stdout",
     "output_type": "stream",
     "text": [
      "venter 1.0\n",
      "venter 1.25\n",
      "venter 1.5\n",
      "venter 1.75\n",
      "venter 2.0\n",
      "venter 2.25\n",
      "ventre 0.0\n",
      "ventre 0.25\n",
      "ventre 0.5\n",
      "ventre 0.75\n",
      "ventre 1.0\n",
      "ventre 1.25\n",
      "ventre 1.5\n"
     ]
    },
    {
     "name": "stderr",
     "output_type": "stream",
     "text": [
      "\r",
      " 97%|█████████████████████████████████████████████████████████████████████████████▋  | 241/248 [01:24<00:02,  2.92it/s]"
     ]
    },
    {
     "name": "stdout",
     "output_type": "stream",
     "text": [
      "ventre 1.75\n",
      "ventre 2.0\n",
      "ventre 2.25\n",
      "verser 0.0\n",
      "verser 0.25\n",
      "verser 0.5\n",
      "verser 0.75\n",
      "verser 1.0\n",
      "verser 1.25\n",
      "verser 1.5\n",
      "verser 1.75\n",
      "verser 2.0\n"
     ]
    },
    {
     "name": "stderr",
     "output_type": "stream",
     "text": [
      "\r",
      " 98%|██████████████████████████████████████████████████████████████████████████████  | 242/248 [01:25<00:02,  2.90it/s]"
     ]
    },
    {
     "name": "stdout",
     "output_type": "stream",
     "text": [
      "verser 2.25\n",
      "viande 0.0\n",
      "viande 0.25\n",
      "viande 0.5\n",
      "viande 0.75\n",
      "viande 1.0\n",
      "viande "
     ]
    },
    {
     "name": "stderr",
     "output_type": "stream",
     "text": [
      "\r",
      " 98%|██████████████████████████████████████████████████████████████████████████████▍ | 243/248 [01:25<00:01,  2.94it/s]"
     ]
    },
    {
     "name": "stdout",
     "output_type": "stream",
     "text": [
      "1.25\n",
      "viande 1.5\n",
      "viande 1.75\n",
      "viande 2.0\n",
      "viande 2.25\n",
      "virage 0.0\n",
      "virage 0.25\n",
      "virage 0.5\n",
      "virage 0.75\n",
      "virage 1.0\n",
      "virage 1.25\n",
      "virage 1.5\n",
      "virage "
     ]
    },
    {
     "name": "stderr",
     "output_type": "stream",
     "text": [
      "\r",
      " 98%|██████████████████████████████████████████████████████████████████████████████▋ | 244/248 [01:25<00:01,  2.88it/s]"
     ]
    },
    {
     "name": "stdout",
     "output_type": "stream",
     "text": [
      "1.75\n",
      "virage 2.0\n",
      "virage 2.25\n",
      "voisin 0.0\n",
      "voisin 0.25\n",
      "voisin 0.5\n",
      "voisin 0.75\n",
      "voisin 1.0\n",
      "voisin 1.25\n",
      "voisin 1.5\n",
      "voisin 1.75\n",
      "voisin 2.0\n"
     ]
    },
    {
     "name": "stderr",
     "output_type": "stream",
     "text": [
      "\r",
      " 99%|███████████████████████████████████████████████████████████████████████████████ | 245/248 [01:26<00:01,  2.83it/s]"
     ]
    },
    {
     "name": "stdout",
     "output_type": "stream",
     "text": [
      "voisin 2.25\n",
      "voyage 0.0\n",
      "voyage 0.25\n",
      "voyage 0.5\n",
      "voyage 0.75\n",
      "voyage 1.0\n",
      "voyage 1.25\n",
      "voyage 1.5\n",
      "voyage 1.75\n",
      "voyage 2.0\n",
      "voyage 2.25\n"
     ]
    },
    {
     "name": "stderr",
     "output_type": "stream",
     "text": [
      "\r",
      " 99%|███████████████████████████████████████████████████████████████████████████████▎| 246/248 [01:26<00:00,  2.74it/s]"
     ]
    },
    {
     "name": "stdout",
     "output_type": "stream",
     "text": [
      "yaourt 0.0\n",
      "yaourt 0.25\n",
      "yaourt 0.5\n",
      "yaourt 0.75\n",
      "yaourt 1.0\n",
      "yaourt 1.25\n",
      "yaourt 1.5\n"
     ]
    },
    {
     "name": "stderr",
     "output_type": "stream",
     "text": [
      "\r",
      "100%|███████████████████████████████████████████████████████████████████████████████▋| 247/248 [01:27<00:00,  2.78it/s]"
     ]
    },
    {
     "name": "stdout",
     "output_type": "stream",
     "text": [
      "yaourt 1.75\n",
      "yaourt 2.0\n",
      "yaourt 2.25\n",
      "zigzag 0.0\n",
      "zigzag 0.25\n",
      "zigzag 0.5\n",
      "zigzag 0.75\n",
      "zigzag 1.0\n",
      "zigzag 1.25\n",
      "zigzag 1.5\n",
      "zigzag 1.75\n",
      "zigzag 2.0\n",
      "zigzag 2.25\n"
     ]
    },
    {
     "name": "stderr",
     "output_type": "stream",
     "text": [
      "100%|████████████████████████████████████████████████████████████████████████████████| 248/248 [01:27<00:00,  2.84it/s]\n"
     ]
    },
    {
     "data": {
      "text/plain": [
       "'done'"
      ]
     },
     "execution_count": 9,
     "metadata": {},
     "output_type": "execute_result"
    }
   ],
   "source": [
    "# Different spacing word list\n",
    "def CreateExpWords(path_out='stimuli/spacingstimuli/',num_train=100):\n",
    "    \n",
    "    words = np.load('sorted_wordlist.npy')\n",
    "    wordlen = [len(x) for x in words]\n",
    "    word6 = words[np.where(np.array(wordlen) ==6)]\n",
    "\n",
    "    wordlist = word6\n",
    "    \n",
    "    fonts = ['arial']\n",
    "    \n",
    "    spacing = np.arange(0,2.5,.25)\n",
    "#     spacing = [0,1]\n",
    "    # create train and val folders \n",
    "    n = 0\n",
    "    for m in ['train']:\n",
    "        for f in wordlist:\n",
    "            target_path = path_out+m+'/'+str(n).zfill(4)+'_'+f\n",
    "            os.makedirs(target_path)\n",
    "            n = n+1\n",
    "    \n",
    "    #for each word, create num_train + num_val exemplars, then split randomly into train and val.\n",
    "    n = 0\n",
    "    for w in tqdm(wordlist):\n",
    "        indx = 0\n",
    "        for s in spacing:\n",
    "            gc.collect()\n",
    "            print (w,s)\n",
    "            path = path_out+'train/'+str(n).zfill(4)+'_'+w+'/'\n",
    "            genspacing(savepath=path, text=w,spacing=s, index=indx, fontname=fonts[0], size=40, upper=1)\n",
    "            indx = indx + 1\n",
    "        n = n+1\n",
    "\n",
    "\n",
    "    return 'done'\n",
    "\n",
    "CreateExpWords()"
   ]
  },
  {
   "cell_type": "code",
   "execution_count": 6,
   "metadata": {},
   "outputs": [
    {
     "name": "stdout",
     "output_type": "stream",
     "text": [
      "adroit\n",
      "adulte\n",
      "agiter\n",
      "agneau\n",
      "amener\n",
      "ananas\n",
      "animal\n",
      "anorak\n",
      "argent\n",
      "autant\n",
      "autour\n",
      "avaler\n",
      "avance\n",
      "bagage\n",
      "baiser\n",
      "banane\n",
      "barrer\n",
      "bassin\n",
      "bateau\n",
      "battre\n",
      "bavoir\n",
      "bercer\n",
      "beurre\n",
      "billet\n",
      "bonbon\n",
      "bondir\n",
      "bonnet\n",
      "bosser\n",
      "bottes\n",
      "bouche\n",
      "bouger\n",
      "bouton\n",
      "brosse\n",
      "bureau\n",
      "cabane\n",
      "cacher\n",
      "cadeau\n",
      "cahier\n",
      "caisse\n",
      "camion\n",
      "camper\n",
      "canard\n",
      "carnet\n",
      "carton\n",
      "casier\n",
      "casque\n",
      "casser\n",
      "cerise\n",
      "chaise\n",
      "chemin\n",
      "cheval\n",
      "cirque\n",
      "citron\n",
      "classe\n",
      "cloche\n",
      "cochon\n",
      "coffre\n",
      "cogner\n",
      "coller\n",
      "contre\n",
      "copain\n",
      "copier\n",
      "coquet\n",
      "coquin\n",
      "coudre\n",
      "couper\n",
      "courir\n",
      "course\n",
      "cousin\n",
      "couver\n",
      "crayon\n",
      "cuisse\n",
      "danger\n",
      "danser\n",
      "debout\n",
      "dedans\n",
      "dehors\n",
      "demain\n",
      "dessin\n",
      "devant\n",
      "dindon\n",
      "doigts\n",
      "domino\n",
      "donner\n",
      "dormir\n",
      "douche\n",
      "droite\n",
      "effort\n",
      "encore\n",
      "endive\n",
      "enfant\n",
      "entier\n",
      "entrer\n",
      "facile\n",
      "farine\n",
      "fermer\n",
      "feutre\n",
      "flaque\n",
      "flocon\n",
      "fourmi\n",
      "fraise\n",
      "frange\n",
      "gagner\n",
      "garage\n",
      "gauche\n",
      "gentil\n",
      "goutte\n",
      "graine\n",
      "griffe\n",
      "hanche\n",
      "humide\n",
      "hurler\n",
      "imiter\n",
      "intrus\n",
      "jaloux\n",
      "jamais\n",
      "jambes\n",
      "jambon\n",
      "jardin\n",
      "joyeux\n",
      "jumeau\n",
      "laisse\n",
      "lancer\n",
      "langue\n",
      "lavabo\n",
      "lettre\n",
      "louche\n",
      "madame\n",
      "maigre\n",
      "maison\n",
      "mamans\n",
      "manche\n",
      "manger\n",
      "marche\n",
      "marier\n",
      "marron\n",
      "masque\n",
      "mettre\n",
      "meuble\n",
      "milieu\n",
      "minuit\n",
      "minute\n",
      "monter\n",
      "mordre\n",
      "moteur\n",
      "mouche\n",
      "moufle\n",
      "moulin\n",
      "mourir\n",
      "mousse\n",
      "muguet\n",
      "muscle\n",
      "navire\n",
      "neiger\n",
      "nombre\n",
      "oignon\n",
      "orange\n",
      "paille\n",
      "panier\n",
      "paquet\n",
      "pardon\n",
      "parent\n",
      "parler\n",
      "partie\n",
      "passer\n",
      "penser\n",
      "percer\n",
      "perdre\n",
      "persil\n",
      "phoque\n",
      "pigeon\n",
      "pilote\n",
      "pincer\n",
      "piquer\n",
      "plaire\n",
      "pliage\n",
      "pointe\n",
      "pointu\n",
      "police\n",
      "porter\n",
      "poster\n",
      "poulet\n",
      "prises\n",
      "priver\n",
      "propre\n",
      "puzzle\n",
      "pyjama\n",
      "quatre\n",
      "raisin\n",
      "ramper\n",
      "ranger\n",
      "rapide\n",
      "rasoir\n",
      "rayure\n",
      "regard\n",
      "remuer\n",
      "renard\n",
      "rendre\n",
      "retard\n",
      "retour\n",
      "revoir\n",
      "rideau\n",
      "ronger\n",
      "rouler\n",
      "saison\n",
      "salade\n",
      "saluer\n",
      "samedi\n",
      "sauter\n",
      "sauver\n",
      "savoir\n",
      "sentir\n",
      "serrer\n",
      "servir\n",
      "sieste\n",
      "soldat\n",
      "soleil\n",
      "sombre\n",
      "sommet\n",
      "sonner\n",
      "sortie\n",
      "sortir\n",
      "souple\n",
      "square\n",
      "suivre\n",
      "taille\n",
      "tampon\n",
      "tendre\n",
      "ticket\n",
      "timbre\n",
      "tiroir\n",
      "tomate\n",
      "tomber\n",
      "tortue\n",
      "triste\n",
      "trouer\n",
      "tulipe\n",
      "tunnel\n",
      "valise\n",
      "venter\n",
      "ventre\n",
      "verser\n",
      "viande\n",
      "virage\n",
      "voisin\n",
      "voyage\n",
      "yaourt\n",
      "zigzag\n",
      "adorit\n",
      "adlute\n",
      "agtier\n",
      "agenau\n",
      "amneer\n",
      "annaas\n",
      "anmial\n",
      "anroak\n",
      "aregnt\n",
      "auatnt\n",
      "auotur\n",
      "avlaer\n",
      "avnace\n",
      "baagge\n",
      "basier\n",
      "baanne\n",
      "barrer\n",
      "bassin\n",
      "baetau\n",
      "battre\n",
      "baovir\n",
      "becrer\n",
      "berure\n",
      "billet\n",
      "bobnon\n",
      "bodnir\n",
      "bonnet\n",
      "bosser\n",
      "bottes\n",
      "bocuhe\n",
      "boguer\n",
      "botuon\n",
      "brsose\n",
      "buerau\n",
      "caabne\n",
      "cahcer\n",
      "caedau\n",
      "caiher\n",
      "casise\n",
      "caimon\n",
      "capmer\n",
      "caanrd\n",
      "canret\n",
      "catron\n",
      "caiser\n",
      "caqsue\n",
      "casser\n",
      "ceirse\n",
      "chiase\n",
      "chmein\n",
      "chveal\n",
      "ciqrue\n",
      "cirton\n",
      "clsase\n",
      "clcohe\n",
      "cohcon\n",
      "coffre\n",
      "conger\n",
      "coller\n",
      "cotnre\n",
      "coapin\n",
      "coiper\n",
      "couqet\n",
      "couqin\n",
      "codure\n",
      "copuer\n",
      "coruir\n",
      "coruse\n",
      "cosuin\n",
      "covuer\n",
      "cryaon\n",
      "cusise\n",
      "dagner\n",
      "dasner\n",
      "deobut\n",
      "deadns\n",
      "deohrs\n",
      "deamin\n",
      "dessin\n",
      "deavnt\n",
      "didnon\n",
      "dogits\n",
      "doimno\n",
      "donner\n",
      "domrir\n",
      "docuhe\n",
      "driote\n",
      "efofrt\n",
      "enocre\n",
      "enidve\n",
      "enafnt\n",
      "eniter\n",
      "enrter\n",
      "faicle\n",
      "fairne\n",
      "femrer\n",
      "feture\n",
      "flqaue\n",
      "flcoon\n",
      "forumi\n",
      "friase\n",
      "frnage\n",
      "ganger\n",
      "gaarge\n",
      "gacuhe\n",
      "getnil\n",
      "gotute\n",
      "griane\n",
      "grfife\n",
      "hacnhe\n",
      "huimde\n",
      "hulrer\n",
      "imtier\n",
      "inrtus\n",
      "jaolux\n",
      "jaamis\n",
      "jabmes\n",
      "jabmon\n",
      "jadrin\n",
      "joeyux\n",
      "juemau\n",
      "lasise\n",
      "lacner\n",
      "lagnue\n",
      "laavbo\n",
      "lettre\n",
      "locuhe\n",
      "maadme\n",
      "magire\n",
      "masion\n",
      "maamns\n",
      "macnhe\n",
      "magner\n",
      "macrhe\n",
      "mairer\n",
      "marron\n",
      "maqsue\n",
      "mettre\n",
      "mebule\n",
      "miileu\n",
      "miunit\n",
      "miunte\n",
      "motner\n",
      "modrre\n",
      "moetur\n",
      "mocuhe\n",
      "mofule\n",
      "moluin\n",
      "moruir\n",
      "mosuse\n",
      "muuget\n",
      "mucsle\n",
      "naivre\n",
      "negier\n",
      "nobmre\n",
      "oingon\n",
      "ornage\n",
      "palile\n",
      "painer\n",
      "pauqet\n",
      "padron\n",
      "paernt\n",
      "palrer\n",
      "patrie\n",
      "passer\n",
      "pesner\n",
      "pecrer\n",
      "pedrre\n",
      "pesril\n",
      "phqoue\n",
      "piegon\n",
      "piolte\n",
      "picner\n",
      "piuqer\n",
      "pliare\n",
      "plaige\n",
      "ponite\n",
      "ponitu\n",
      "poilce\n",
      "potrer\n",
      "potser\n",
      "poluet\n",
      "prsies\n",
      "prvier\n",
      "prpore\n",
      "puzzle\n",
      "pyajma\n",
      "qutare\n",
      "rasiin\n",
      "rapmer\n",
      "ragner\n",
      "raipde\n",
      "raosir\n",
      "rauyre\n",
      "reagrd\n",
      "reumer\n",
      "reanrd\n",
      "rednre\n",
      "reatrd\n",
      "reotur\n",
      "reovir\n",
      "riedau\n",
      "rogner\n",
      "roluer\n",
      "sasion\n",
      "saalde\n",
      "sauler\n",
      "saemdi\n",
      "satuer\n",
      "savuer\n",
      "saovir\n",
      "setnir\n",
      "serrer\n",
      "sevrir\n",
      "sisete\n",
      "sodlat\n",
      "soelil\n",
      "sobmre\n",
      "sommet\n",
      "sonner\n",
      "sotrie\n",
      "sotrir\n",
      "sopule\n",
      "sqaure\n",
      "suvire\n",
      "talile\n",
      "tapmon\n",
      "tednre\n",
      "tikcet\n",
      "tibmre\n",
      "tiorir\n",
      "toamte\n",
      "tobmer\n",
      "totrue\n",
      "trsite\n",
      "truoer\n",
      "tuilpe\n",
      "tunnel\n",
      "vailse\n",
      "vetner\n",
      "vetnre\n",
      "vesrer\n",
      "vinade\n",
      "viarge\n",
      "vosiin\n",
      "voayge\n",
      "yauort\n",
      "zizgag\n",
      "tdroia\n",
      "edulta\n",
      "rgitea\n",
      "ugneaa\n",
      "rmenea\n",
      "snanaa\n",
      "lnimaa\n",
      "knoraa\n",
      "trgena\n",
      "tutana\n",
      "rutoua\n",
      "rvalea\n",
      "evanca\n",
      "eagagb\n",
      "raiseb\n",
      "eananb\n",
      "rarreb\n",
      "nassib\n",
      "uateab\n",
      "eattrb\n",
      "ravoib\n",
      "rerceb\n",
      "eeurrb\n",
      "tilleb\n",
      "nonbob\n",
      "rondib\n",
      "tonneb\n",
      "rosseb\n",
      "sotteb\n",
      "eouchb\n",
      "rougeb\n",
      "noutob\n",
      "erossb\n",
      "uureab\n",
      "eabanc\n",
      "rachec\n",
      "uadeac\n",
      "rahiec\n",
      "eaissc\n",
      "namioc\n",
      "rampec\n",
      "danarc\n",
      "tarnec\n",
      "nartoc\n",
      "rasiec\n",
      "easquc\n",
      "rassec\n",
      "eerisc\n",
      "ehaisc\n",
      "nhemic\n",
      "lhevac\n",
      "eirquc\n",
      "nitroc\n",
      "elassc\n",
      "elochc\n",
      "nochoc\n",
      "eoffrc\n",
      "rognec\n",
      "rollec\n",
      "eontrc\n",
      "nopaic\n",
      "ropiec\n",
      "toquec\n",
      "noquic\n",
      "eoudrc\n",
      "roupec\n",
      "rouric\n",
      "eoursc\n",
      "nousic\n",
      "rouvec\n",
      "nrayoc\n",
      "euissc\n",
      "ranged\n",
      "ransed\n",
      "teboud\n",
      "sedand\n",
      "sehord\n",
      "nemaid\n",
      "nessid\n",
      "tevand\n",
      "nindod\n",
      "soigtd\n",
      "oomind\n",
      "ronned\n",
      "rormid\n",
      "eouchd\n",
      "eroitd\n",
      "tffore\n",
      "encore\n",
      "endive\n",
      "tnfane\n",
      "rntiee\n",
      "rntree\n",
      "eacilf\n",
      "earinf\n",
      "rermef\n",
      "eeutrf\n",
      "elaquf\n",
      "nlocof\n",
      "iourmf\n",
      "eraisf\n",
      "erangf\n",
      "ragneg\n",
      "earagg\n",
      "eauchg\n",
      "lentig\n",
      "eouttg\n",
      "eraing\n",
      "eriffg\n",
      "eanchh\n",
      "eumidh\n",
      "rurleh\n",
      "rmitei\n",
      "sntrui\n",
      "xalouj\n",
      "samaij\n",
      "sambej\n",
      "namboj\n",
      "nardij\n",
      "xoyeuj\n",
      "uumeaj\n",
      "eaissl\n",
      "rancel\n",
      "eangul\n",
      "oavabl\n",
      "eettrl\n",
      "eouchl\n",
      "eadamm\n",
      "eaigrm\n",
      "naisom\n",
      "samanm\n",
      "eanchm\n",
      "rangem\n",
      "earchm\n",
      "rariem\n",
      "narrom\n",
      "easqum\n",
      "eettrm\n",
      "eeublm\n",
      "uiliem\n",
      "tinuim\n",
      "einutm\n",
      "rontem\n",
      "eordrm\n",
      "roteum\n",
      "eouchm\n",
      "eouflm\n",
      "noulim\n",
      "rourim\n",
      "eoussm\n",
      "tuguem\n",
      "eusclm\n",
      "eavirn\n",
      "reigen\n",
      "eombrn\n",
      "nignoo\n",
      "erango\n",
      "eaillp\n",
      "raniep\n",
      "taquep\n",
      "nardop\n",
      "tarenp\n",
      "rarlep\n",
      "eartip\n",
      "rassep\n",
      "rensep\n",
      "rercep\n",
      "eerdrp\n",
      "lersip\n",
      "ehoqup\n",
      "nigeop\n",
      "eilotp\n",
      "rincep\n",
      "riquep\n",
      "elairp\n",
      "eliagp\n",
      "eointp\n",
      "uointp\n",
      "eolicp\n",
      "rortep\n",
      "rostep\n",
      "toulep\n",
      "srisep\n",
      "rrivep\n",
      "eroprp\n",
      "euzzlp\n",
      "ayjamp\n",
      "euatrq\n",
      "naisir\n",
      "ramper\n",
      "ranger\n",
      "eapidr\n",
      "rasoir\n",
      "eayurr\n",
      "degarr\n",
      "remuer\n",
      "denarr\n",
      "eendrr\n",
      "detarr\n",
      "retour\n",
      "revoir\n",
      "uidear\n",
      "ronger\n",
      "rouler\n",
      "naisos\n",
      "ealads\n",
      "ralues\n",
      "iameds\n",
      "rautes\n",
      "rauves\n",
      "ravois\n",
      "rentis\n",
      "rerres\n",
      "rervis\n",
      "eiests\n",
      "toldas\n",
      "loleis\n",
      "eombrs\n",
      "tommes\n",
      "ronnes\n",
      "eortis\n",
      "rortis\n",
      "eoupls\n",
      "equars\n",
      "euivrs\n",
      "eaillt\n",
      "nampot\n",
      "eendrt\n",
      "ticket\n",
      "eimbrt\n",
      "riroit\n",
      "eomatt\n",
      "rombet\n",
      "eortut\n",
      "eristt\n",
      "rrouet\n",
      "eulipt\n",
      "lunnet\n",
      "ealisv\n",
      "rentev\n",
      "eentrv\n",
      "rersev\n",
      "eiandv\n",
      "eiragv\n",
      "noisiv\n",
      "eoyagv\n",
      "taoury\n",
      "gigzaz\n",
      "admait\n",
      "adayte\n",
      "agicer\n",
      "agzkau\n",
      "amfcer\n",
      "anwlas\n",
      "anqfal\n",
      "angyak\n",
      "arvynt\n",
      "aukqnt\n",
      "augcur\n",
      "aviuer\n",
      "avpsce\n",
      "bacgge\n",
      "baxwer\n",
      "baefne\n",
      "bafmer\n",
      "baeqin\n",
      "bahyau\n",
      "baqpre\n",
      "bacair\n",
      "behier\n",
      "bepvre\n",
      "biutet\n",
      "boylon\n",
      "bohlir\n",
      "bopcet\n",
      "boiuer\n",
      "bomhes\n",
      "boephe\n",
      "booqer\n",
      "borron\n",
      "brezse\n",
      "bubgau\n",
      "caqvne\n",
      "cacuer\n",
      "cajjau\n",
      "cavler\n",
      "cafvse\n",
      "carvon\n",
      "cawxer\n",
      "caxord\n",
      "cajxet\n",
      "cataon\n",
      "canuer\n",
      "cakkue\n",
      "cahjer\n",
      "cebhse\n",
      "chyqse\n",
      "chpmin\n",
      "chzral\n",
      "ciipue\n",
      "cidyon\n",
      "clylse\n",
      "clcfhe\n",
      "codfon\n",
      "cosjre\n",
      "cowher\n",
      "coiler\n",
      "cowure\n",
      "cotzin\n",
      "cocver\n",
      "cozaet\n",
      "cojrin\n",
      "cotpre\n",
      "cosuer\n",
      "cojjir\n",
      "copuse\n",
      "cokain\n",
      "cosber\n",
      "crohon\n",
      "cunfse\n",
      "damder\n",
      "dawver\n",
      "deydut\n",
      "deaqns\n",
      "deflrs\n",
      "dengin\n",
      "derpin\n",
      "dewont\n",
      "divnon\n",
      "dohrts\n",
      "dojgno\n",
      "doeher\n",
      "dodiir\n",
      "dovahe\n",
      "drghte\n",
      "efkort\n",
      "enirre\n",
      "envcve\n",
      "entsnt\n",
      "envzer\n",
      "enimer\n",
      "fargle\n",
      "fagane\n",
      "fehger\n",
      "fewire\n",
      "flidue\n",
      "flsnon\n",
      "fopomi\n",
      "frrrse\n",
      "frxtge\n",
      "gapmer\n",
      "gakqge\n",
      "gamrhe\n",
      "geiiil\n",
      "gonute\n",
      "grhjne\n",
      "grrwfe\n",
      "haaehe\n",
      "hucbde\n",
      "huiyer\n",
      "imuger\n",
      "inaxus\n",
      "japhux\n",
      "jaunis\n",
      "jannes\n",
      "jajvon\n",
      "jaagin\n",
      "jowfux\n",
      "jujnau\n",
      "laedse\n",
      "laxxer\n",
      "lanoue\n",
      "ladabo\n",
      "lecure\n",
      "louihe\n",
      "maqtme\n",
      "mazcre\n",
      "maxcon\n",
      "magvns\n",
      "majhhe\n",
      "mayler\n",
      "madehe\n",
      "maseer\n",
      "maguon\n",
      "mauuue\n",
      "meolre\n",
      "meyale\n",
      "miqyeu\n",
      "misnit\n",
      "mizyte\n",
      "mohser\n",
      "moaare\n",
      "mosnur\n",
      "mookhe\n",
      "morcle\n",
      "mojwin\n",
      "modsir\n",
      "mosfse\n",
      "muzqet\n",
      "muekle\n",
      "nabure\n",
      "nefeer\n",
      "nondre\n",
      "oiqhon\n",
      "oralge\n",
      "paisle\n",
      "pawber\n",
      "papzet\n",
      "pabuon\n",
      "pafrnt\n",
      "pahyer\n",
      "palkie\n",
      "paneer\n",
      "pexuer\n",
      "pevxer\n",
      "pexare\n",
      "petiil\n",
      "phthue\n",
      "piybon\n",
      "piwite\n",
      "pikter\n",
      "piwker\n",
      "plxcre\n",
      "plygge\n",
      "poqrte\n",
      "pocytu\n",
      "popqce\n",
      "pomber\n",
      "poiger\n",
      "poiwet\n",
      "przwes\n",
      "prsver\n",
      "prhhre\n",
      "puagle\n",
      "pyjrma\n",
      "quvxre\n",
      "ralkin\n",
      "raeeer\n",
      "razjer\n",
      "raovde\n",
      "rahkir\n",
      "rakxre\n",
      "redmrd\n",
      "regmer\n",
      "renyrd\n",
      "reolre\n",
      "relrrd\n",
      "rehzur\n",
      "rermir\n",
      "rifkau\n",
      "rojler\n",
      "rowier\n",
      "sawnon\n",
      "saovde\n",
      "satrer\n",
      "savzdi\n",
      "sadger\n",
      "sazjer\n",
      "sadhir\n",
      "serfir\n",
      "sexfer\n",
      "sevair\n",
      "siakte\n",
      "sobkat\n",
      "soteil\n",
      "sowkre\n",
      "sobbet\n",
      "soyder\n",
      "sovzie\n",
      "sobnir\n",
      "soigle\n",
      "sqjnre\n",
      "sucgre\n",
      "taoyle\n",
      "tawlon\n",
      "teqare\n",
      "ticiet\n",
      "tivcre\n",
      "tihuir\n",
      "toyqte\n",
      "tohfer\n",
      "tolque\n",
      "trmxte\n",
      "trhoer\n",
      "tuklpe\n",
      "tuqoel\n",
      "vaiise\n",
      "vemter\n",
      "veobre\n",
      "vexyer\n",
      "vinyde\n",
      "vibbge\n",
      "vowcin\n",
      "vodfge\n",
      "yaclrt\n",
      "zivnag\n",
      "xdroiw\n",
      "tdultm\n",
      "ygitek\n",
      "xgneav\n",
      "wmenev\n",
      "fnanaq\n",
      "gnimaj\n",
      "jnoral\n",
      "nrgenn\n",
      "mutanr\n",
      "cutouf\n",
      "rvalez\n",
      "evancj\n",
      "jagaga\n",
      "naises\n",
      "yananw\n",
      "jarrem\n",
      "vassil\n",
      "mateag\n",
      "aattrm\n",
      "zavoim\n",
      "lercen\n",
      "ueurra\n",
      "lilles\n",
      "bonbod\n",
      "bondiv\n",
      "honnez\n",
      "jossep\n",
      "lottel\n",
      "iouchw\n",
      "qougeu\n",
      "qoutog\n",
      "arosso\n",
      "zureay\n",
      "uaband\n",
      "cacheo\n",
      "tadeap\n",
      "uahiet\n",
      "naisso\n",
      "zamiou\n",
      "iampef\n",
      "tanary\n",
      "marnem\n",
      "fartoz\n",
      "fasiec\n",
      "dasqum\n",
      "dassen\n",
      "merisg\n",
      "ihaiso\n",
      "rhemij\n",
      "yhevak\n",
      "uirqur\n",
      "iitros\n",
      "hlassz\n",
      "llocho\n",
      "uochoe\n",
      "roffrn\n",
      "rogneq\n",
      "gollez\n",
      "sontrt\n",
      "lopail\n",
      "jopiel\n",
      "goquel\n",
      "eoquih\n",
      "toudrw\n",
      "soupex\n",
      "fouria\n",
      "moursi\n",
      "xousiu\n",
      "gouvek\n",
      "wrayok\n",
      "zuissu\n",
      "qangee\n",
      "iansez\n",
      "veboua\n",
      "oedanx\n",
      "cehorb\n",
      "yemaiw\n",
      "gessia\n",
      "fevanb\n",
      "iindob\n",
      "hoigtu\n",
      "fominm\n",
      "sonnef\n",
      "iormig\n",
      "wouchf\n",
      "proitm\n",
      "wfforl\n",
      "ancorc\n",
      "mndivt\n",
      "xnfanc\n",
      "entief\n",
      "nntrei\n",
      "cacilz\n",
      "larini\n",
      "bermed\n",
      "beutrs\n",
      "mlaqug\n",
      "qlocon\n",
      "fourmv\n",
      "xraisv\n",
      "trangh\n",
      "wagnea\n",
      "karagl\n",
      "yauchs\n",
      "rentir\n",
      "iouttj\n",
      "arainf\n",
      "wriffz\n",
      "vanchn\n",
      "wumidd\n",
      "ourlep\n",
      "vmitec\n",
      "sntruc\n",
      "lalouq\n",
      "damail\n",
      "iambej\n",
      "gamboy\n",
      "nardid\n",
      "toyeux\n",
      "eumeaz\n",
      "eaissm\n",
      "lanceo\n",
      "manguy\n",
      "davabh\n",
      "fettra\n",
      "mouchk\n",
      "radamv\n",
      "faigrn\n",
      "baisok\n",
      "mamanp\n",
      "panchn\n",
      "xangef\n",
      "darcht\n",
      "nariev\n",
      "garrop\n",
      "vasqum\n",
      "dettrs\n",
      "neublf\n",
      "oilief\n",
      "pinuia\n",
      "xinutc\n",
      "oonteq\n",
      "fordry\n",
      "joteub\n",
      "eouchj\n",
      "loufla\n",
      "roulio\n",
      "eouriq\n",
      "xoussv\n",
      "yugueq\n",
      "ousclr\n",
      "navirk\n",
      "xeigex\n",
      "iombrj\n",
      "yignog\n",
      "orango\n",
      "uaillq\n",
      "xaniev\n",
      "jaqueq\n",
      "zardov\n",
      "larenj\n",
      "farlem\n",
      "rartie\n",
      "bassey\n",
      "oensee\n",
      "oerceu\n",
      "eerdrs\n",
      "zersis\n",
      "dhoqun\n",
      "rigeol\n",
      "lilotn\n",
      "iincer\n",
      "oiquez\n",
      "xlaird\n",
      "wliagx\n",
      "pointf\n",
      "kointy\n",
      "colict\n",
      "corteu\n",
      "posteo\n"
     ]
    },
    {
     "name": "stdout",
     "output_type": "stream",
     "text": [
      "ioulet\n",
      "xrisej\n",
      "driver\n",
      "vroprf\n",
      "huzzlb\n",
      "syjams\n",
      "juatro\n",
      "daisib\n",
      "uampeh\n",
      "eangec\n",
      "tapidr\n",
      "fasoih\n",
      "yayuri\n",
      "eegarp\n",
      "gemuef\n",
      "uenarp\n",
      "pendrg\n",
      "zetarz\n",
      "oetoux\n",
      "mevoiu\n",
      "zidear\n",
      "yongej\n",
      "coules\n",
      "waisob\n",
      "ialadz\n",
      "malueu\n",
      "zamedp\n",
      "rautel\n",
      "mauvex\n",
      "qavoit\n",
      "lentiz\n",
      "nerrej\n",
      "nervif\n",
      "biesto\n",
      "voldak\n",
      "zoleib\n",
      "uombre\n",
      "mommet\n",
      "oonneh\n",
      "eortia\n",
      "bortip\n",
      "zouplo\n",
      "kquare\n",
      "xuivrp\n",
      "baillh\n",
      "vampos\n",
      "nendrr\n",
      "eickeu\n",
      "kimbrz\n",
      "riroiy\n",
      "romats\n",
      "jombej\n",
      "dortul\n",
      "cristk\n",
      "lrouep\n",
      "zulipw\n",
      "eunner\n",
      "salism\n",
      "iented\n",
      "xentrw\n",
      "tersex\n",
      "liandu\n",
      "biragw\n",
      "zoisig\n",
      "moyago\n",
      "caourp\n",
      "nigzau\n"
     ]
    },
    {
     "data": {
      "text/plain": [
       "'done'"
      ]
     },
     "execution_count": 6,
     "metadata": {},
     "output_type": "execute_result"
    }
   ],
   "source": [
    "# Word list for classification\n",
    "def CreateExpWords(path_out='stimuli/classification_dataset/'):\n",
    "    \n",
    "    words = np.load('sorted_wordlist.npy')\n",
    "    wordlen = [len(x) for x in words]\n",
    "    word6 = words[np.where(np.array(wordlen) ==6)]\n",
    "\n",
    "    wordlist = word6\n",
    "    \n",
    "    # Middle Letter transposition\n",
    "    for i in word6:\n",
    "        temp = list(i); pos = 2\n",
    "        temp[pos] = i[pos+1]; temp[pos+1] = i[pos]\n",
    "        wordlist = np.append(wordlist,''.join(temp))  \n",
    "        \n",
    "    # Edge Letter transposition\n",
    "    for i in word6:\n",
    "        temp = list(i); \n",
    "        temp[0] = i[5]; temp[5] = i[0]\n",
    "        wordlist = np.append(wordlist,''.join(temp)) \n",
    "        \n",
    "    # Middle Letter substitution\n",
    "    import string\n",
    "    st = string.ascii_letters\n",
    "    for i in word6:\n",
    "        temp = list(i); pos = 2\n",
    "        temp[pos] =  st[np.random.randint(26)] ; temp[pos+1] =  st[np.random.randint(26)]\n",
    "        wordlist = np.append(wordlist,''.join(temp))  \n",
    "    \n",
    "    # Edge Letter substitution\n",
    "    import string\n",
    "    st = string.ascii_letters\n",
    "    for i in word6:\n",
    "        temp = list(i); \n",
    "        temp[0] =  st[np.random.randint(26)] ; temp[5] =  st[np.random.randint(26)]\n",
    "        wordlist = np.append(wordlist,''.join(temp))  \n",
    "    \n",
    "    \n",
    "    fonts = ['arial','tahoma']\n",
    "    #create train and val folders \n",
    "    n = 0\n",
    "    for m in ['train']:\n",
    "        for f in wordlist:\n",
    "            target_path = path_out+m+'/'+str(n).zfill(4)+'_'+f\n",
    "            os.makedirs(target_path)\n",
    "            n = n+1\n",
    "    \n",
    "    #for each word, create num_train + num_val exemplars, then split randomly into train and val.\n",
    "    n = 0\n",
    "    for ix, w in enumerate(wordlist):\n",
    "        gc.collect()\n",
    "        print (w,)\n",
    "        path = path_out+'train/'+str(n).zfill(4)+'_'+w+'/'\n",
    "        if ix < len(word6):\n",
    "            gen2(savepath=path, text=w, index=n, fontname=fonts[0], size=40, xshift=0, yshift=0, upper=1)\n",
    "            gen2(savepath=path, text=w, index=n+1, fontname=fonts[1], size=40, xshift=0, yshift=0, upper=1) # Font\n",
    "            gen2(savepath=path, text=w, index=n+2, fontname=fonts[0], size=70, xshift=0, yshift=0, upper=1) # Size\n",
    "            gen2(savepath=path, text=w, index=n+3, fontname=fonts[0], size=40, xshift=40, yshift=-20, upper=1) # Location\n",
    "            gen2(savepath=path, text=w, index=n+4, fontname=fonts[0], size=40, xshift=0, yshift=0, upper=0)  # case\n",
    "        else:\n",
    "            gen2(savepath=path, text=w, index=n, fontname=fonts[0], size=40, xshift=0, yshift=0, upper=1)\n",
    "        n = n+1\n",
    "\n",
    "\n",
    "    return 'done'\n",
    "\n",
    "CreateExpWords()"
   ]
  },
  {
   "cell_type": "code",
   "execution_count": null,
   "metadata": {},
   "outputs": [],
   "source": [
    "# CreateMiniWordSet()"
   ]
  }
 ],
 "metadata": {
  "kernelspec": {
   "display_name": "Python 3",
   "language": "python",
   "name": "python3"
  },
  "language_info": {
   "codemirror_mode": {
    "name": "ipython",
    "version": 3
   },
   "file_extension": ".py",
   "mimetype": "text/x-python",
   "name": "python",
   "nbconvert_exporter": "python",
   "pygments_lexer": "ipython3",
   "version": "3.8.3"
  }
 },
 "nbformat": 4,
 "nbformat_minor": 4
}
