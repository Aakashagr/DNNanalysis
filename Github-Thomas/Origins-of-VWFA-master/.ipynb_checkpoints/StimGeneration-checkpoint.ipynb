{
 "cells": [
  {
   "cell_type": "code",
   "execution_count": 1,
   "metadata": {},
   "outputs": [],
   "source": [
    "%run ds2.py\n",
    "import numpy as np\n"
   ]
  },
  {
   "cell_type": "code",
   "execution_count": 13,
   "metadata": {
    "code_folding": []
   },
   "outputs": [],
   "source": [
    "def gen2(savepath='', text = 'text', index=1, mirror=False, invert=False, fontname='Arial', W = 500, H = 500, size=24, xshift=0, yshift=0, upper=0, show=None):\n",
    "    if upper:\n",
    "        text = text.upper()\n",
    "    if invert:\n",
    "        text = text[::-1]\n",
    "    img = Image.new(\"RGB\", (W,H), color = (255, 255, 255))\n",
    "    #fnt = ImageFont.truetype('/Library/Fonts/'+fontname+'.ttf', size) #size in pixels\n",
    "    fnt = ImageFont.truetype(fontname+'.ttf', size)\n",
    "    draw = ImageDraw.Draw(img)\n",
    "    w, h = fnt.getsize(text)\n",
    "    draw.text((xshift + (W-w)/2, yshift + (H-h)/2), text, font=fnt, fill='black')\n",
    "\n",
    "    if mirror:\n",
    "        img = img.transpose(Image.FLIP_LEFT_RIGHT)\n",
    "    if savepath != '':\n",
    "        img.save(savepath+text+str(index)+'.jpg')\n",
    "    if show:\n",
    "        img.save('plots/'+text+str(index)+'.jpg')\n",
    "        img.show()\n",
    "    if savepath == '':\n",
    "        print('I was here')\n",
    "        img.show()\n",
    "        return img\n",
    "\n",
    "\n",
    "    \n"
   ]
  },
  {
   "cell_type": "code",
   "execution_count": null,
   "metadata": {
    "code_folding": []
   },
   "outputs": [],
   "source": [
    "# generating stimulus with random variations\n",
    "def CreateMiniWordSet(path_out='wordsets_200cat_100ex/',num_train=100, num_val=0):\n",
    "    #define words, sizes, fonts\n",
    "#     words = words4yo()\n",
    "    #random.shuffle(words)\n",
    "    #wordlist =  ['dimanche', 'lundi', 'mots', 'samedi', 'semaine']\n",
    "    words = np.load('words4yo.npy')\n",
    "    wordlist = words[:200]\n",
    "    sizes = [40, 50, 60, 70, 80]\n",
    "    fonts = ['arial','tahoma']\n",
    "    xshift = [-50, -40, -30, -20, -10, 0, 10, 20, 30, 40, 50]\n",
    "    yshift = [-30, -15, 0, 15, 30]\n",
    "    \n",
    "    #create train and val folders \n",
    "    for m in ['train', 'val']:\n",
    "        for f in wordlist:\n",
    "            target_path = path_out+m+'/'+f\n",
    "            os.makedirs(target_path)\n",
    "    \n",
    "    #for each word, create num_train + num_val exemplars, then split randomly into train and val.\n",
    "    for w in tqdm(wordlist):\n",
    "        gc.collect()\n",
    "        print (w,)\n",
    "        for n in range(num_train + num_val):\n",
    "            if n < num_train:\n",
    "                path = path_out+'train/'+w+'/'\n",
    "            else:\n",
    "                path = path_out+'val/'+w+'/'\n",
    "            \n",
    "            f = random.choice(fonts)\n",
    "            s = random.choice(sizes)\n",
    "            u = random.choice([0,1])\n",
    "            x = random.choice(xshift)\n",
    "            y = random.choice(yshift)\n",
    "            gen2(savepath=path, text=w, index=n, fontname=f, size=s, xshift=x, yshift=y, upper=u)\n",
    "\n",
    "    return 'done'\n"
   ]
  },
  {
   "cell_type": "code",
   "execution_count": 21,
   "metadata": {
    "code_folding": [
     0
    ]
   },
   "outputs": [],
   "source": [
    "# Word stimuli of different length\n",
    "def CreateMiniWordSet(path_out='wordsets_1000cat_8ex/',num_train=100):\n",
    "    from scipy.io import loadmat\n",
    "    \n",
    "    words = np.load('words4yo.npy')\n",
    "    wordlist = words[np.linspace(1,len(words)-1,1000,dtype='int')]\n",
    "    \n",
    "   \n",
    "    sizes = [40, 80]\n",
    "    fonts = ['arial']\n",
    "    xshift = [-30, 30]\n",
    "    yshift = [-15, 15]\n",
    "    \n",
    "    #create train and val folders \n",
    "    for m in ['train']:\n",
    "        for f in wordlist:\n",
    "            target_path = path_out+m+'/'+f\n",
    "            os.makedirs(target_path)\n",
    "    \n",
    "    #for each word, create num_train + num_val exemplars, then split randomly into train and val.\n",
    "    for w in tqdm(wordlist):\n",
    "        gc.collect()\n",
    "        print (w,)\n",
    "        path = path_out+'train/'+w+'/'\n",
    "        n = 0\n",
    "        for f in fonts:\n",
    "            for s in sizes:\n",
    "                for x in xshift:\n",
    "                    for y in yshift:\n",
    "                        n = n+1\n",
    "                        gen2(savepath=path, text=w, index=n, fontname=f, size=s, xshift=x, yshift=y, upper=1)\n",
    "\n",
    "    return 'done'\n"
   ]
  },
  {
   "cell_type": "code",
   "execution_count": null,
   "metadata": {
    "code_folding": []
   },
   "outputs": [],
   "source": [
    "# Example stimuli to study bigram vs letter model\n",
    "def CreateExpWords(path_out='stimuli/bigramtest/',num_train=100):\n",
    "    from scipy.io import loadmat\n",
    "    \n",
    "    wordlist = ['ER','RE','EX','XE','RX','XR','XX', \n",
    "                'XXXXXERX','XXXXXREX','XXXXXEXX','XXXXXXEX','XXXXXRXX','XXXXXXRX','XXXXXXXX']\n",
    "    \n",
    "   \n",
    "    sizes = [40, 80]\n",
    "    fonts = ['arial']\n",
    "    xshift = [-30, 30]\n",
    "    yshift = [-15, 15]\n",
    "    \n",
    "    #create train and val folders \n",
    "    for m in ['train']:\n",
    "        for f in wordlist:\n",
    "            target_path = path_out+m+'/'+f\n",
    "            os.makedirs(target_path)\n",
    "    \n",
    "    #for each word, create num_train + num_val exemplars, then split randomly into train and val.\n",
    "    for w in tqdm(wordlist):\n",
    "        gc.collect()\n",
    "        print (w,)\n",
    "        path = path_out+'train/'+w+'/'\n",
    "        n = 0\n",
    "        for f in fonts:\n",
    "            for s in sizes:\n",
    "                for x in xshift:\n",
    "                    for y in yshift:\n",
    "                        n = n+1\n",
    "                        gen2(savepath=path, text=w, index=n, fontname=f, size=s, xshift=x, yshift=y, upper=1)\n",
    "\n",
    "    return 'done'\n",
    "\n",
    "CreateExpWords()"
   ]
  },
  {
   "cell_type": "code",
   "execution_count": 24,
   "metadata": {
    "code_folding": []
   },
   "outputs": [],
   "source": [
    "# Bilingual stimuli\n",
    "def CreateMiniWordSet(path_out='stimuli/wordsets_bilingual/',num_train=100):\n",
    "    from scipy.io import loadmat\n",
    "    \n",
    "    annots = loadmat('../others/EngFrStim.mat')\n",
    "    wordlist = np.concatenate(annots['stim'][0])\n",
    "\n",
    "    sizes = [40, 80]\n",
    "    fonts = ['arial']\n",
    "    xshift = [-30, 30]\n",
    "    yshift = [-15, 15]\n",
    "    \n",
    "    #create train and val folders \n",
    "    n = 0\n",
    "    for m in ['train']:\n",
    "        for f in wordlist:\n",
    "            target_path = path_out+m+'/'+str(n).zfill(3)+'_'+f\n",
    "            os.makedirs(target_path)\n",
    "            n = n+1\n",
    "\n",
    "    \n",
    "    #for each word, create num_train + num_val exemplars, then split randomly into train and val.\n",
    "    n = 0\n",
    "    for w in tqdm(wordlist):\n",
    "        gc.collect()\n",
    "        print (w,)\n",
    "        path = path_out+'train/'+str(n).zfill(3)+'_'+w+'/'\n",
    "        n = n+1\n",
    "#         for f in fonts:\n",
    "#             for s in sizes:\n",
    "#                 for x in xshift:\n",
    "#                     for y in yshift:\n",
    "#                         n = n+1\n",
    "#                         gen2(savepath=path, text=w, index=n, fontname=f, size=s, xshift=x, yshift=y, upper=1)\n",
    "\n",
    "        gen2(savepath=path, text=w, index=1, fontname=fonts[0], size=40, xshift=0, yshift=0, upper=1)\n",
    "\n",
    "    return 'done'\n"
   ]
  },
  {
   "cell_type": "code",
   "execution_count": null,
   "metadata": {
    "code_folding": [
     0
    ]
   },
   "outputs": [],
   "source": [
    "# Load words from text file - Vinckier stimuli\n",
    "import glob, os\n",
    "import numpy as np\n",
    "os.walk(\"../../StimulusProperties/\")\n",
    "wordlist = []; nstimpercat = 50\n",
    "\n",
    "for file in glob.glob(\"../../StimulusProperties/*.txt\"):\n",
    "    if not file[-6:-4] == 'NV':\n",
    "        file1 = open(file,\"r\") \n",
    "        x = (file1.read()).split('\\n')\n",
    "        wordlist = np.concatenate((wordlist, x[:nstimpercat]))\n",
    "\n",
    "size=60; xshift=0; yshift=0; W = 500; H = 500\n",
    "for i in range(len(wordlist)):\n",
    "    img = Image.new(\"RGB\", (W,H), color = (255, 255, 255))\n",
    "    if i < nstimpercat:\n",
    "        fontname = 'ff6'\n",
    "    else:\n",
    "        fontname = 'deffvmonospaced3'\n",
    "    text = wordlist[i]    \n",
    "    fnt = ImageFont.truetype(fontname+'.ttf', size)\n",
    "    draw = ImageDraw.Draw(img)\n",
    "    w, h = fnt.getsize(text)\n",
    "    draw.text((xshift + (W-w)/2, yshift + (H-h)/2), text, font=fnt, fill='black')\n",
    "\n",
    "    img.save('stimuli/vinckier50/train/allstim/'+str(i).zfill(4) +'_'+text+'.jpg')\n"
   ]
  },
  {
   "cell_type": "code",
   "execution_count": null,
   "metadata": {},
   "outputs": [],
   "source": [
    "# Jumbled word list\n",
    "# Example stimuli to study bigram vs letter model\n",
    "def CreateExpWords(path_out='stimuli/jumbledWords/',num_train=100):\n",
    "    \n",
    "    words = np.load('sorted_wordlist.npy')\n",
    "    wordlen = [len(x) for x in words]\n",
    "    word6 = words[np.where(np.array(wordlen) ==6)]\n",
    "\n",
    "    wordlist = word6\n",
    "    # Letter transposition\n",
    "    for i in word6:\n",
    "        wordlist = np.append(wordlist,(i[:2] + i[3] + i[2]+ i[4:]))   \n",
    "    for i in word6:\n",
    "        wordlist = np.append(wordlist,(i[1] + i[0] + i[2:]))\n",
    "    for i in word6:\n",
    "        wordlist = np.append(wordlist,(i[:4] + i[5] + i[4]))\n",
    "\n",
    "    # Letter substitution\n",
    "    import string\n",
    "    st = string.ascii_letters\n",
    "    for i in word6:\n",
    "        wordlist = np.append(wordlist,(i[:2] + st[np.random.randint(26)] + st[np.random.randint(26)] + i[4:]))   \n",
    "    for i in word6:\n",
    "        wordlist = np.append(wordlist,(st[np.random.randint(26)]+st[np.random.randint(26)]+ i[2:]))\n",
    "    for i in word6:\n",
    "        wordlist = np.append(wordlist,(i[:4] + st[np.random.randint(26)]+st[np.random.randint(26)]))\n",
    "    \n",
    "    sizes = [60]\n",
    "    fonts = ['arial']\n",
    "    xshift = [0]\n",
    "    yshift = [0]\n",
    "    \n",
    "    #create train and val folders \n",
    "    n = 0\n",
    "    for m in ['train']:\n",
    "        for f in wordlist:\n",
    "            target_path = path_out+m+'/'+str(n).zfill(3)+'_'+f\n",
    "            os.makedirs(target_path)\n",
    "            n = n+1\n",
    "    \n",
    "    #for each word, create num_train + num_val exemplars, then split randomly into train and val.\n",
    "    for w in tqdm(wordlist):\n",
    "        gc.collect()\n",
    "        print (w,)\n",
    "        path = path_out+'train/'+w+'/'\n",
    "        n = 0\n",
    "        for f in fonts:\n",
    "            for s in sizes:\n",
    "                for x in xshift:\n",
    "                    for y in yshift:\n",
    "                        n = n+1\n",
    "                        gen2(savepath=path, text=w, index=n, fontname=f, size=s, xshift=x, yshift=y, upper=1)\n",
    "\n",
    "    return 'done'\n",
    "\n",
    "CreateExpWords()"
   ]
  },
  {
   "cell_type": "code",
   "execution_count": 25,
   "metadata": {},
   "outputs": [
    {
     "name": "stderr",
     "output_type": "stream",
     "text": [
      "  1%|▉                                                                                 | 5/420 [00:00<00:20, 19.86it/s]"
     ]
    },
    {
     "name": "stdout",
     "output_type": "stream",
     "text": [
      "XWZIGZ\n",
      "ZONZXW\n",
      "WPOXQQ\n",
      "XJZAKH\n",
      "ZKHOZJ\n",
      "IZIQWZ\n"
     ]
    },
    {
     "name": "stderr",
     "output_type": "stream",
     "text": [
      "  3%|██                                                                               | 11/420 [00:00<00:17, 22.96it/s]"
     ]
    },
    {
     "name": "stdout",
     "output_type": "stream",
     "text": [
      "ZIZIWJ\n",
      "WBIZJX\n",
      "ZXWIZA\n",
      "XWZOIQ\n",
      "ZAKHZX\n",
      "QWZIQU\n",
      "ZANZXW\n"
     ]
    },
    {
     "name": "stderr",
     "output_type": "stream",
     "text": [
      "  4%|███▎                                                                             | 17/420 [00:00<00:16, 24.25it/s]"
     ]
    },
    {
     "name": "stdout",
     "output_type": "stream",
     "text": [
      "XXXYCH\n",
      "QZOZIW\n",
      "WXZAZO\n",
      "ZAKHXZ\n",
      "XQJAWB\n",
      "KZIGZJ\n"
     ]
    },
    {
     "name": "stderr",
     "output_type": "stream",
     "text": [
      "  5%|████▍                                                                            | 23/420 [00:00<00:15, 25.20it/s]"
     ]
    },
    {
     "name": "stdout",
     "output_type": "stream",
     "text": [
      "XWJACQ\n",
      "WZIGZQ\n",
      "XQWBIZ\n",
      "ZXPHYX\n",
      "PZYKLQ\n",
      "KHOZQX\n"
     ]
    },
    {
     "name": "stderr",
     "output_type": "stream",
     "text": [
      "  7%|█████▌                                                                           | 29/420 [00:01<00:16, 23.04it/s]"
     ]
    },
    {
     "name": "stdout",
     "output_type": "stream",
     "text": [
      "QXWIZA\n",
      "VZYKLQ\n",
      "ZIZIXW\n",
      "QVWBIZ\n"
     ]
    },
    {
     "name": "stderr",
     "output_type": "stream",
     "text": [
      "  8%|██████▊                                                                          | 35/420 [00:01<00:15, 24.68it/s]"
     ]
    },
    {
     "name": "stdout",
     "output_type": "stream",
     "text": [
      "ZKHOZQ\n",
      "WQXYDE\n",
      "OXYGKP\n",
      "OXYGVW\n",
      "ROXYKK\n",
      "TOXYVW\n",
      "GIBBQW"
     ]
    },
    {
     "name": "stderr",
     "output_type": "stream",
     "text": [
      "\r",
      "  9%|███████▎                                                                         | 38/420 [00:01<00:15, 24.49it/s]"
     ]
    },
    {
     "name": "stdout",
     "output_type": "stream",
     "text": [
      "\n",
      "OXYGWC\n",
      "BYMKHZ\n",
      "YKZKRI\n",
      "BOXYYY\n",
      "PHYXKC\n"
     ]
    },
    {
     "name": "stderr",
     "output_type": "stream",
     "text": [
      " 10%|████████▍                                                                        | 44/420 [00:01<00:14, 25.47it/s]"
     ]
    },
    {
     "name": "stdout",
     "output_type": "stream",
     "text": [
      "MOXYWJ\n",
      "XOSQWG\n",
      "KGBYMQ\n",
      "IOXYQW\n",
      "BKKVAV\n",
      "UOZYGW\n"
     ]
    },
    {
     "name": "stderr",
     "output_type": "stream",
     "text": [
      " 13%|██████████▏                                                                      | 53/420 [00:02<00:13, 27.23it/s]"
     ]
    },
    {
     "name": "stdout",
     "output_type": "stream",
     "text": [
      "DXYMKH\n",
      "TOXYWX\n",
      "STYXXW\n",
      "POXYJW\n",
      "KVKUZA\n",
      "KTZKRV\n",
      "IOXYVW\n"
     ]
    },
    {
     "name": "stderr",
     "output_type": "stream",
     "text": [
      " 14%|███████████▍                                                                     | 59/420 [00:02<00:13, 27.54it/s]"
     ]
    },
    {
     "name": "stdout",
     "output_type": "stream",
     "text": [
      "POXYKY\n",
      "OXYMJW\n",
      "OXYGKH\n",
      "ENZYQW\n",
      "KUMQKY\n"
     ]
    },
    {
     "name": "stderr",
     "output_type": "stream",
     "text": [
      "\r",
      " 15%|███████████▉                                                                     | 62/420 [00:02<00:14, 24.64it/s]"
     ]
    },
    {
     "name": "stdout",
     "output_type": "stream",
     "text": [
      "MOZYWJ\n",
      "QGYPPQ\n",
      "ZIGZJN\n",
      "XQBJUG\n",
      "MYXOQQ\n"
     ]
    },
    {
     "name": "stderr",
     "output_type": "stream",
     "text": [
      " 16%|█████████████                                                                    | 68/420 [00:02<00:14, 24.52it/s]"
     ]
    },
    {
     "name": "stdout",
     "output_type": "stream",
     "text": [
      "JQZTEQ\n",
      "ZIGZJM\n",
      "ZIGZPQ\n",
      "QXPYJA\n",
      "LTZYQX\n"
     ]
    },
    {
     "name": "stderr",
     "output_type": "stream",
     "text": [
      " 18%|██████████████▎                                                                  | 74/420 [00:02<00:14, 24.52it/s]"
     ]
    },
    {
     "name": "stdout",
     "output_type": "stream",
     "text": [
      "ZIGZXD\n",
      "ZNZYLJ\n",
      "QQLPOX\n",
      "QQXYST\n",
      "ZIGZCX\n",
      "QQTZAL\n"
     ]
    },
    {
     "name": "stderr",
     "output_type": "stream",
     "text": [
      " 19%|███████████████▍                                                                 | 80/420 [00:03<00:13, 25.63it/s]"
     ]
    },
    {
     "name": "stdout",
     "output_type": "stream",
     "text": [
      "IZIQYJ\n",
      "ZQLJOY\n",
      "IOXYQQ\n",
      "ZQYZAN\n",
      "QXXFUL\n"
     ]
    },
    {
     "name": "stderr",
     "output_type": "stream",
     "text": [
      " 20%|████████████████▌                                                                | 86/420 [00:03<00:12, 26.46it/s]"
     ]
    },
    {
     "name": "stdout",
     "output_type": "stream",
     "text": [
      "QQZYME\n",
      "ZIGZJC\n",
      "NZYLQQ\n",
      "COXCXJ\n",
      "QXZOZO\n",
      "ZQPBOX\n"
     ]
    },
    {
     "name": "stderr",
     "output_type": "stream",
     "text": [
      " 22%|█████████████████▋                                                               | 92/420 [00:03<00:11, 27.36it/s]"
     ]
    },
    {
     "name": "stdout",
     "output_type": "stream",
     "text": [
      "ERYXQZ\n",
      "ZQXYDE\n",
      "QQXYLE\n",
      "ERYXZX\n",
      "TOXYVF\n",
      "PTYQFM\n",
      "JVXYDA\n"
     ]
    },
    {
     "name": "stderr",
     "output_type": "stream",
     "text": [
      " 23%|██████████████████▉                                                              | 98/420 [00:03<00:11, 26.84it/s]"
     ]
    },
    {
     "name": "stdout",
     "output_type": "stream",
     "text": [
      "SYLVJV\n",
      "VXXYHE\n",
      "UMPFJP\n",
      "OXYDQT\n",
      "GYPPXV\n"
     ]
    },
    {
     "name": "stderr",
     "output_type": "stream",
     "text": [
      " 25%|███████████████████▊                                                            | 104/420 [00:04<00:11, 27.42it/s]"
     ]
    },
    {
     "name": "stdout",
     "output_type": "stream",
     "text": [
      "POXYVY\n",
      "CCYXHV\n",
      "DQYXIA\n",
      "HXXFOL\n",
      "OXYDVJ\n",
      "GJXFOL\n"
     ]
    },
    {
     "name": "stderr",
     "output_type": "stream",
     "text": [
      " 26%|████████████████████▉                                                           | 110/420 [00:04<00:11, 27.44it/s]"
     ]
    },
    {
     "name": "stdout",
     "output_type": "stream",
     "text": [
      "PTYQJR\n",
      "SYCHXJ\n",
      "ROXYJF\n",
      "ERYXVB\n",
      "OXYMJH\n",
      "VQMYGD\n"
     ]
    },
    {
     "name": "stderr",
     "output_type": "stream",
     "text": [
      "\r",
      " 27%|█████████████████████▌                                                          | 113/420 [00:04<00:11, 27.64it/s]"
     ]
    },
    {
     "name": "stdout",
     "output_type": "stream",
     "text": [
      "SOXYYQ\n",
      "QLYGLJ\n",
      "QCYPHF\n",
      "YLPHXJ\n",
      "CCYXVI\n",
      "YQLJOY\n"
     ]
    },
    {
     "name": "stderr",
     "output_type": "stream",
     "text": [
      " 29%|███████████████████████▏                                                        | 122/420 [00:04<00:10, 28.20it/s]"
     ]
    },
    {
     "name": "stdout",
     "output_type": "stream",
     "text": [
      "ORYXVF\n",
      "YNCYXV\n",
      "PHYXJL\n",
      "ZOIQYY\n",
      "ROOLJH\n",
      "LUMOHJ\n"
     ]
    },
    {
     "name": "stderr",
     "output_type": "stream",
     "text": [
      " 30%|████████████████████████▍                                                       | 128/420 [00:04<00:10, 28.32it/s]"
     ]
    },
    {
     "name": "stdout",
     "output_type": "stream",
     "text": [
      "TADJNY\n",
      "FNPEBB\n",
      "SJYPTS\n",
      "ENAQHF\n",
      "ERFLJI\n",
      "DMPFSC\n"
     ]
    },
    {
     "name": "stderr",
     "output_type": "stream",
     "text": [
      " 32%|█████████████████████████▌                                                      | 134/420 [00:05<00:10, 28.37it/s]"
     ]
    },
    {
     "name": "stdout",
     "output_type": "stream",
     "text": [
      "IRABHJ\n",
      "DFDOJO\n",
      "IYXIED\n",
      "NSUPYV\n",
      "EYEGXE\n",
      "THIQCT\n"
     ]
    },
    {
     "name": "stderr",
     "output_type": "stream",
     "text": [
      "\r",
      " 33%|██████████████████████████                                                      | 137/420 [00:05<00:10, 28.22it/s]"
     ]
    },
    {
     "name": "stdout",
     "output_type": "stream",
     "text": [
      "JNIFSD\n",
      "QSNYLE\n",
      "EFETGJ\n",
      "IOXYSA\n",
      "NIPPFG\n",
      "LOXYSE\n"
     ]
    },
    {
     "name": "stderr",
     "output_type": "stream",
     "text": [
      " 35%|███████████████████████████▊                                                    | 146/420 [00:05<00:09, 28.40it/s]"
     ]
    },
    {
     "name": "stdout",
     "output_type": "stream",
     "text": [
      "EECYVG\n",
      "LUDGPC\n",
      "NAUFBP\n",
      "HELSJF\n",
      "TOGLMJ\n",
      "LARVFP\n"
     ]
    },
    {
     "name": "stderr",
     "output_type": "stream",
     "text": [
      " 36%|████████████████████████████▉                                                   | 152/420 [00:05<00:10, 26.51it/s]"
     ]
    },
    {
     "name": "stdout",
     "output_type": "stream",
     "text": [
      "SLLJOM\n",
      "MJPHAT\n",
      "OOXYSS\n",
      "TBULTJ\n",
      "GTHLIV\n",
      "CULKSE\n"
     ]
    },
    {
     "name": "stderr",
     "output_type": "stream",
     "text": [
      " 38%|██████████████████████████████                                                  | 158/420 [00:05<00:09, 27.16it/s]"
     ]
    },
    {
     "name": "stdout",
     "output_type": "stream",
     "text": [
      "OIGHLV\n",
      "ULCKEN\n",
      "SNIGHV\n",
      "UGHOLP\n",
      "LLDLYU\n",
      "VMEKEN\n"
     ]
    },
    {
     "name": "stderr",
     "output_type": "stream",
     "text": [
      "\r",
      " 38%|██████████████████████████████▋                                                 | 161/420 [00:06<00:09, 26.85it/s]"
     ]
    },
    {
     "name": "stdout",
     "output_type": "stream",
     "text": [
      "AIGHVR\n",
      "UNKNEV\n",
      "MSTHMV\n",
      "RLKIEP\n",
      "LIKLEP\n",
      "NNIGHV\n"
     ]
    },
    {
     "name": "stderr",
     "output_type": "stream",
     "text": [
      " 40%|███████████████████████████████▊                                                | 167/420 [00:06<00:09, 27.42it/s]"
     ]
    },
    {
     "name": "stdout",
     "output_type": "stream",
     "text": [
      "LDYSOP\n",
      "THLOFV\n",
      "PGTHIC\n",
      "GSHMEV\n",
      "UGTHSV\n",
      "LAKECL\n"
     ]
    },
    {
     "name": "stderr",
     "output_type": "stream",
     "text": [
      " 41%|████████████████████████████████▉                                               | 173/420 [00:06<00:09, 26.51it/s]"
     ]
    },
    {
     "name": "stdout",
     "output_type": "stream",
     "text": [
      "THOLFV\n",
      "NIGHVI\n",
      "NIGHVR\n",
      "ACKNEP\n",
      "TCKEEV\n"
     ]
    },
    {
     "name": "stderr",
     "output_type": "stream",
     "text": [
      " 43%|██████████████████████████████████                                              | 179/420 [00:06<00:09, 25.84it/s]"
     ]
    },
    {
     "name": "stdout",
     "output_type": "stream",
     "text": [
      "INGHVN\n",
      "LEKINV\n",
      "UGHTPL\n",
      "ULCKIE\n",
      "GITHLV\n",
      "NGEUUX\n"
     ]
    },
    {
     "name": "stderr",
     "output_type": "stream",
     "text": [
      " 44%|███████████████████████████████████▏                                            | 185/420 [00:07<00:09, 25.37it/s]"
     ]
    },
    {
     "name": "stdout",
     "output_type": "stream",
     "text": [
      "UVVORC\n",
      "VVOUVO\n",
      "AQUORH\n",
      "VVOUVT\n",
      "ADUEXG\n",
      "MLEUXO\n"
     ]
    },
    {
     "name": "stderr",
     "output_type": "stream",
     "text": [
      " 45%|████████████████████████████████████▍                                           | 191/420 [00:07<00:09, 24.80it/s]"
     ]
    },
    {
     "name": "stdout",
     "output_type": "stream",
     "text": [
      "DUVAIB\n",
      "CHEUQO\n",
      "PAUVOY\n",
      "VUOVOC\n",
      "ODIUUX\n"
     ]
    },
    {
     "name": "stderr",
     "output_type": "stream",
     "text": [
      " 47%|█████████████████████████████████████▌                                          | 197/420 [00:07<00:08, 25.76it/s]"
     ]
    },
    {
     "name": "stdout",
     "output_type": "stream",
     "text": [
      "GLEUXA\n",
      "VURVAG\n",
      "UEEUXG\n",
      "VOUIJO\n",
      "GNEUUX\n"
     ]
    },
    {
     "name": "stderr",
     "output_type": "stream",
     "text": [
      " 48%|██████████████████████████████████████▋                                         | 203/420 [00:07<00:08, 27.11it/s]"
     ]
    },
    {
     "name": "stdout",
     "output_type": "stream",
     "text": [
      "VOUVOM\n",
      "RHEUUX\n",
      "DVUVRO\n",
      "VUVEUF\n",
      "EQUORH\n",
      "DTEUXM\n"
     ]
    },
    {
     "name": "stderr",
     "output_type": "stream",
     "text": [
      "\r",
      " 49%|███████████████████████████████████████▏                                        | 206/420 [00:07<00:07, 27.55it/s]"
     ]
    },
    {
     "name": "stdout",
     "output_type": "stream",
     "text": [
      "VOUOUJ\n",
      "UVOUBO\n",
      "EQUOSG\n",
      "DTTURX\n",
      "GUEQUO\n"
     ]
    },
    {
     "name": "stderr",
     "output_type": "stream",
     "text": [
      " 50%|████████████████████████████████████████▍                                       | 212/420 [00:08<00:07, 27.08it/s]"
     ]
    },
    {
     "name": "stdout",
     "output_type": "stream",
     "text": [
      "HEQUON\n",
      "POUVVO\n",
      "HAIVEV\n",
      "FFURIN\n",
      "MAPRAG\n",
      "CMABRO\n"
     ]
    },
    {
     "name": "stderr",
     "output_type": "stream",
     "text": [
      " 52%|█████████████████████████████████████████▌                                      | 218/420 [00:08<00:07, 27.32it/s]"
     ]
    },
    {
     "name": "stdout",
     "output_type": "stream",
     "text": [
      "FILLCI\n",
      "AVCING\n",
      "HRELEZ\n",
      "CANIMG\n",
      "FBEERV\n",
      "VCINGI\n"
     ]
    },
    {
     "name": "stderr",
     "output_type": "stream",
     "text": [
      " 53%|██████████████████████████████████████████▋                                     | 224/420 [00:08<00:07, 27.85it/s]"
     ]
    },
    {
     "name": "stdout",
     "output_type": "stream",
     "text": [
      "NAGIEX\n",
      "VRROGU\n",
      "BBUISL\n",
      "PCORUH\n",
      "FUINDG\n",
      "BLALGI\n"
     ]
    },
    {
     "name": "stderr",
     "output_type": "stream",
     "text": [
      " 55%|███████████████████████████████████████████▊                                    | 230/420 [00:08<00:06, 28.17it/s]"
     ]
    },
    {
     "name": "stdout",
     "output_type": "stream",
     "text": [
      "PAICHU\n",
      "HSSEAZ\n",
      "BGERAV\n",
      "FFOESP\n",
      "CFRIEG\n",
      "FCONUC\n"
     ]
    },
    {
     "name": "stderr",
     "output_type": "stream",
     "text": [
      " 56%|████████████████████████████████████████████▉                                   | 236/420 [00:08<00:06, 26.52it/s]"
     ]
    },
    {
     "name": "stdout",
     "output_type": "stream",
     "text": [
      "CHOUMP\n",
      "MCLAIG\n",
      "FILILV\n",
      "PCARNG\n",
      "PPAHIS\n",
      "OFTIEX\n"
     ]
    },
    {
     "name": "stderr",
     "output_type": "stream",
     "text": [
      " 58%|██████████████████████████████████████████████                                  | 242/420 [00:09<00:06, 26.23it/s]"
     ]
    },
    {
     "name": "stdout",
     "output_type": "stream",
     "text": [
      "CMSOUG\n",
      "PEPROY\n",
      "ELSONH\n",
      "PICLOI\n",
      "VETSAD\n",
      "BCITSO\n"
     ]
    },
    {
     "name": "stderr",
     "output_type": "stream",
     "text": [
      " 59%|███████████████████████████████████████████████▏                                | 248/420 [00:09<00:06, 25.31it/s]"
     ]
    },
    {
     "name": "stdout",
     "output_type": "stream",
     "text": [
      "FNORNL\n",
      "ROEMCT\n",
      "RMOENH\n",
      "CNTIDS\n",
      "PEDORI\n",
      "CUIDTO\n"
     ]
    },
    {
     "name": "stderr",
     "output_type": "stream",
     "text": [
      " 60%|████████████████████████████████████████████████▍                               | 254/420 [00:09<00:06, 25.21it/s]"
     ]
    },
    {
     "name": "stdout",
     "output_type": "stream",
     "text": [
      "CNNAMN\n",
      "MAOGES\n",
      "EAALBI\n",
      "ITMOEX\n",
      "VOINHI\n"
     ]
    },
    {
     "name": "stderr",
     "output_type": "stream",
     "text": [
      " 62%|█████████████████████████████████████████████████▌                              | 260/420 [00:09<00:06, 25.16it/s]"
     ]
    },
    {
     "name": "stdout",
     "output_type": "stream",
     "text": [
      "IEGASL\n",
      "POLMOT\n",
      "LVNESC\n",
      "CTITOA\n",
      "ISEFAN\n"
     ]
    },
    {
     "name": "stderr",
     "output_type": "stream",
     "text": [
      " 63%|██████████████████████████████████████████████████▋                             | 266/420 [00:10<00:05, 26.58it/s]"
     ]
    },
    {
     "name": "stdout",
     "output_type": "stream",
     "text": [
      "POUHOE\n",
      "BCEULL\n",
      "RNODMN\n",
      "IOIOTA\n",
      "SRDNAT\n",
      "UDOIRG\n"
     ]
    },
    {
     "name": "stderr",
     "output_type": "stream",
     "text": [
      "\r",
      " 64%|███████████████████████████████████████████████████▏                            | 269/420 [00:10<00:05, 26.95it/s]"
     ]
    },
    {
     "name": "stdout",
     "output_type": "stream",
     "text": [
      "UTLIOC\n",
      "EDRARB\n",
      "UBNATO\n",
      "DOMOAU\n",
      "NDINIC\n",
      "ABBERS\n"
     ]
    },
    {
     "name": "stderr",
     "output_type": "stream",
     "text": [
      " 65%|████████████████████████████████████████████████████▍                           | 275/420 [00:10<00:05, 26.87it/s]"
     ]
    },
    {
     "name": "stdout",
     "output_type": "stream",
     "text": [
      "ORINDL\n",
      "PITCAS\n",
      "AUNTRY\n",
      "DEARBL\n",
      "SENDLI\n",
      "BBORIN"
     ]
    },
    {
     "name": "stderr",
     "output_type": "stream",
     "text": [
      " 67%|█████████████████████████████████████████████████████▌                          | 281/420 [00:10<00:05, 26.44it/s]"
     ]
    },
    {
     "name": "stdout",
     "output_type": "stream",
     "text": [
      "\n",
      "ROUNCH\n",
      "NSELFI\n",
      "RTROOV\n",
      "NSLANN\n",
      "RSELFA\n"
     ]
    },
    {
     "name": "stderr",
     "output_type": "stream",
     "text": [
      " 68%|██████████████████████████████████████████████████████▋                         | 287/420 [00:10<00:05, 25.54it/s]"
     ]
    },
    {
     "name": "stdout",
     "output_type": "stream",
     "text": [
      "NOUNCL\n",
      "GLASED\n",
      "SOUNCL\n",
      "NCHORN\n",
      "BITCAS\n",
      "UILDRE\n"
     ]
    },
    {
     "name": "stderr",
     "output_type": "stream",
     "text": [
      " 70%|███████████████████████████████████████████████████████▊                        | 293/420 [00:11<00:05, 24.98it/s]"
     ]
    },
    {
     "name": "stdout",
     "output_type": "stream",
     "text": [
      "RLIEFC\n",
      "NIORSH\n",
      "SHREEZ\n",
      "PEARBL\n",
      "SUNDSO\n",
      "POORSH\n"
     ]
    },
    {
     "name": "stderr",
     "output_type": "stream",
     "text": [
      " 71%|████████████████████████████████████████████████████████▉                       | 299/420 [00:11<00:04, 24.40it/s]"
     ]
    },
    {
     "name": "stdout",
     "output_type": "stream",
     "text": [
      "USELFI\n",
      "EDLESH\n",
      "RIFTEN\n",
      "RIDDES\n",
      "EFEARB\n"
     ]
    },
    {
     "name": "stderr",
     "output_type": "stream",
     "text": [
      "\r",
      " 72%|█████████████████████████████████████████████████████████▌                      | 302/420 [00:11<00:05, 22.60it/s]"
     ]
    },
    {
     "name": "stdout",
     "output_type": "stream",
     "text": [
      "OSANSM\n",
      "NGLAIR\n",
      "AINDUL\n",
      "LECHON\n",
      "STISFA\n"
     ]
    },
    {
     "name": "stderr",
     "output_type": "stream",
     "text": [
      " 73%|██████████████████████████████████████████████████████████▋                     | 308/420 [00:11<00:05, 22.10it/s]"
     ]
    },
    {
     "name": "stdout",
     "output_type": "stream",
     "text": [
      "EGOUTO\n",
      "EFOUTO\n",
      "TEMOUC\n",
      "SEPOUD\n",
      "YALEIL\n"
     ]
    },
    {
     "name": "stderr",
     "output_type": "stream",
     "text": [
      " 75%|███████████████████████████████████████████████████████████▊                    | 314/420 [00:12<00:04, 21.61it/s]"
     ]
    },
    {
     "name": "stdout",
     "output_type": "stream",
     "text": [
      "ONTIFS\n",
      "IDONCO\n",
      "ICONOM\n",
      "ABATAI\n"
     ]
    },
    {
     "name": "stderr",
     "output_type": "stream",
     "text": [
      "\r",
      " 75%|████████████████████████████████████████████████████████████▍                   | 317/420 [00:12<00:04, 22.14it/s]"
     ]
    },
    {
     "name": "stdout",
     "output_type": "stream",
     "text": [
      "CONGRA\n",
      "FLITIO\n",
      "VEDEVE\n",
      "OYEUSS\n",
      "OMATIG\n",
      "ERCHON\n"
     ]
    },
    {
     "name": "stderr",
     "output_type": "stream",
     "text": [
      " 77%|█████████████████████████████████████████████████████████████▌                  | 323/420 [00:12<00:04, 23.35it/s]"
     ]
    },
    {
     "name": "stdout",
     "output_type": "stream",
     "text": [
      "LONNIV\n",
      "BRALEM\n",
      "OYEURS\n",
      "ABRIOM\n",
      "OUCOUD\n",
      "IBUTEA"
     ]
    },
    {
     "name": "stderr",
     "output_type": "stream",
     "text": [
      " 78%|██████████████████████████████████████████████████████████████▋                 | 329/420 [00:12<00:03, 24.64it/s]"
     ]
    },
    {
     "name": "stdout",
     "output_type": "stream",
     "text": [
      "\n",
      "RROMOT\n",
      "ETAGNA\n",
      "EGISSA\n",
      "RECHAU\n",
      "STINCL\n",
      "URCHIE\n"
     ]
    },
    {
     "name": "stderr",
     "output_type": "stream",
     "text": [
      " 80%|███████████████████████████████████████████████████████████████▊                | 335/420 [00:12<00:03, 25.13it/s]"
     ]
    },
    {
     "name": "stdout",
     "output_type": "stream",
     "text": [
      "MOMEDI\n",
      "SCOUPL\n",
      "TECHEM\n",
      "AIGNAL\n",
      "BUSERG\n",
      "PHANCE\n"
     ]
    },
    {
     "name": "stderr",
     "output_type": "stream",
     "text": [
      " 81%|████████████████████████████████████████████████████████████████▉               | 341/420 [00:13<00:03, 26.12it/s]"
     ]
    },
    {
     "name": "stdout",
     "output_type": "stream",
     "text": [
      "SECONF\n",
      "NSANGI\n",
      "HOPERV\n",
      "BLIGER\n",
      "RENCHI\n",
      "DOLLIA\n"
     ]
    },
    {
     "name": "stderr",
     "output_type": "stream",
     "text": [
      " 83%|██████████████████████████████████████████████████████████████████              | 347/420 [00:13<00:02, 25.58it/s]"
     ]
    },
    {
     "name": "stdout",
     "output_type": "stream",
     "text": [
      "MAGENI\n",
      "XISTOR\n",
      "NEVENG\n",
      "GNANCA\n",
      "RRANGI\n"
     ]
    },
    {
     "name": "stderr",
     "output_type": "stream",
     "text": [
      " 84%|███████████████████████████████████████████████████████████████████▏            | 353/420 [00:13<00:02, 24.88it/s]"
     ]
    },
    {
     "name": "stdout",
     "output_type": "stream",
     "text": [
      "XTRETA\n",
      "UAGEND\n",
      "FFECTO\n",
      "UPPLIE\n",
      "OBSTAR\n",
      "EVENGA\n"
     ]
    },
    {
     "name": "stderr",
     "output_type": "stream",
     "text": [
      " 85%|████████████████████████████████████████████████████████████████████▍           | 359/420 [00:13<00:02, 25.00it/s]"
     ]
    },
    {
     "name": "stdout",
     "output_type": "stream",
     "text": [
      "RADAME\n",
      "URCHAI\n",
      "GESTIF\n",
      "OLENCH\n",
      "PRODEL\n"
     ]
    },
    {
     "name": "stderr",
     "output_type": "stream",
     "text": [
      " 87%|█████████████████████████████████████████████████████████████████████▌          | 365/420 [00:14<00:02, 25.10it/s]"
     ]
    },
    {
     "name": "stdout",
     "output_type": "stream",
     "text": [
      "BOOSTS\n",
      "HELPED\n",
      "DREAMS\n",
      "SMOOTH\n",
      "RASHES\n"
     ]
    },
    {
     "name": "stderr",
     "output_type": "stream",
     "text": [
      " 88%|██████████████████████████████████████████████████████████████████████▋         | 371/420 [00:14<00:01, 24.78it/s]"
     ]
    },
    {
     "name": "stdout",
     "output_type": "stream",
     "text": [
      "GRIEVE\n",
      "GROANS\n",
      "PEARLY\n",
      "ROBBER\n",
      "YEARLY\n",
      "SOUNDS\n"
     ]
    },
    {
     "name": "stderr",
     "output_type": "stream",
     "text": [
      " 90%|███████████████████████████████████████████████████████████████████████▊        | 377/420 [00:14<00:01, 24.98it/s]"
     ]
    },
    {
     "name": "stdout",
     "output_type": "stream",
     "text": [
      "FUNDED\n",
      "TROOPS\n",
      "JUICED\n",
      "HEARTH\n",
      "SMILED\n",
      "USEFUL\n"
     ]
    },
    {
     "name": "stderr",
     "output_type": "stream",
     "text": [
      "\r",
      " 90%|████████████████████████████████████████████████████████████████████████▍       | 380/420 [00:14<00:01, 24.94it/s]"
     ]
    },
    {
     "name": "stdout",
     "output_type": "stream",
     "text": [
      "NOVELS\n",
      "BRIBED\n",
      "UDDERS\n",
      "FOLDER\n",
      "DEEPLY\n",
      "SHROUD\n"
     ]
    },
    {
     "name": "stderr",
     "output_type": "stream",
     "text": [
      " 92%|█████████████████████████████████████████████████████████████████████████▌      | 386/420 [00:15<00:01, 22.46it/s]"
     ]
    },
    {
     "name": "stdout",
     "output_type": "stream",
     "text": [
      "LASHES\n",
      "ROOTED\n",
      "SPEEDY\n",
      "LADDER\n",
      "STOOLS\n"
     ]
    },
    {
     "name": "stderr",
     "output_type": "stream",
     "text": [
      " 93%|██████████████████████████████████████████████████████████████████████████▋     | 392/420 [00:15<00:01, 21.53it/s]"
     ]
    },
    {
     "name": "stdout",
     "output_type": "stream",
     "text": [
      "PUSHES\n",
      "NEARBY\n",
      "VIVRES\n",
      "JOUAIT\n",
      "TORDRE\n"
     ]
    },
    {
     "name": "stderr",
     "output_type": "stream",
     "text": [
      " 95%|███████████████████████████████████████████████████████████████████████████▊    | 398/420 [00:15<00:00, 23.18it/s]"
     ]
    },
    {
     "name": "stdout",
     "output_type": "stream",
     "text": [
      "LIVREZ\n",
      "SURNOM\n",
      "CRIAIS\n",
      "ARBRES\n",
      "FAVEUR\n"
     ]
    },
    {
     "name": "stderr",
     "output_type": "stream",
     "text": [
      " 96%|████████████████████████████████████████████████████████████████████████████▉   | 404/420 [00:15<00:00, 24.12it/s]"
     ]
    },
    {
     "name": "stdout",
     "output_type": "stream",
     "text": [
      "FEMMES\n",
      "CHACUN\n",
      "MANOIR\n",
      "FOUTUE\n",
      "AIMAIT\n",
      "FLEURS\n"
     ]
    },
    {
     "name": "stderr",
     "output_type": "stream",
     "text": [
      " 98%|██████████████████████████████████████████████████████████████████████████████  | 410/420 [00:15<00:00, 25.94it/s]"
     ]
    },
    {
     "name": "stdout",
     "output_type": "stream",
     "text": [
      "CHAUDE\n",
      "LIVRER\n",
      "RECULE\n",
      "LAVAIT\n",
      "APPARU\n",
      "DEVREZ\n",
      "SAOULE\n",
      "MIROIR\n"
     ]
    },
    {
     "name": "stderr",
     "output_type": "stream",
     "text": [
      " 99%|███████████████████████████████████████████████████████████████████████████████▏| 416/420 [00:16<00:00, 27.23it/s]"
     ]
    },
    {
     "name": "stdout",
     "output_type": "stream",
     "text": [
      "FUMIER\n",
      "CRIAIT\n",
      "VENDUS\n",
      "APPUIE\n",
      "PERDEZ\n",
      "LOISIR\n",
      "SAUVER\n"
     ]
    },
    {
     "name": "stderr",
     "output_type": "stream",
     "text": [
      "100%|████████████████████████████████████████████████████████████████████████████████| 420/420 [00:16<00:00, 25.69it/s]"
     ]
    },
    {
     "name": "stdout",
     "output_type": "stream",
     "text": [
      "DEVONS\n"
     ]
    },
    {
     "name": "stderr",
     "output_type": "stream",
     "text": [
      "\n"
     ]
    },
    {
     "data": {
      "text/plain": [
       "'done'"
      ]
     },
     "execution_count": 25,
     "metadata": {},
     "output_type": "execute_result"
    }
   ],
   "source": [
    "CreateMiniWordSet()"
   ]
  }
 ],
 "metadata": {
  "kernelspec": {
   "display_name": "Python 3",
   "language": "python",
   "name": "python3"
  },
  "language_info": {
   "codemirror_mode": {
    "name": "ipython",
    "version": 3
   },
   "file_extension": ".py",
   "mimetype": "text/x-python",
   "name": "python",
   "nbconvert_exporter": "python",
   "pygments_lexer": "ipython3",
   "version": "3.8.3"
  }
 },
 "nbformat": 4,
 "nbformat_minor": 4
}
