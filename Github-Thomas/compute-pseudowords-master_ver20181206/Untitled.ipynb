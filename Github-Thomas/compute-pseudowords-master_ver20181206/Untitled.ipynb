{
 "cells": [
  {
   "cell_type": "code",
   "execution_count": 2,
   "metadata": {},
   "outputs": [],
   "source": [
    "%run dico.py"
   ]
  },
  {
   "cell_type": "code",
   "execution_count": 12,
   "metadata": {},
   "outputs": [
    {
     "name": "stdout",
     "output_type": "stream",
     "text": [
      "{'allbigrams': [0.001625252991854122,\n",
      "                0.010377709166526071,\n",
      "                0.0005188837911703177],\n",
      " 'bigrams': [0.0017287681540091738, 0.009503422854721947],\n",
      " 'letters': [0.009437765996570301, 0.07362279104932071, 0.06860422575655713],\n",
      " 'openbigrams': [0.001239077172705267],\n",
      " 'quadrigrams': [],\n",
      " 'trigrams': [9.540910187494863e-05]}\n",
      "\n"
     ]
    }
   ],
   "source": [
    "mydic = dico() \n",
    "mydic.import_csv('ortho-freql.txt')\n",
    "\n",
    "# two examples:\n",
    "pp.pprint(compute_stats('bin', mydic))\n",
    "print()\n"
   ]
  },
  {
   "cell_type": "code",
   "execution_count": 51,
   "metadata": {},
   "outputs": [
    {
     "data": {
      "text/plain": [
       "'ACDEGILMNOPRSTU'"
      ]
     },
     "execution_count": 51,
     "metadata": {},
     "output_type": "execute_result"
    }
   ],
   "source": [
    "\n",
    "('acdegilmnoprstu').upper()"
   ]
  },
  {
   "cell_type": "code",
   "execution_count": 43,
   "metadata": {},
   "outputs": [],
   "source": [
    "# estimating trigram frequencies of mulitple letters\n",
    "stim = list('acdegilmnoprstu')\n",
    "\n",
    "alltrigram = []\n",
    "for i in range(15):\n",
    "    for j in range(15):\n",
    "        for k in range(15):\n",
    "            trigstat = compute_stats(stim[i]+stim[j]+stim[k], mydic)\n",
    "            alltrigram.append([stim[i]+stim[j]+stim[k], trigstat['trigrams'][0]])\n",
    "            "
   ]
  },
  {
   "cell_type": "code",
   "execution_count": 46,
   "metadata": {},
   "outputs": [],
   "source": [
    "import pandas as pd\n",
    "df = pd.DataFrame(alltrigram)\n",
    "path = r'trigramfreq.xlsx'\n",
    "writer = pd.ExcelWriter(path, engine = 'xlsxwriter')\n",
    "df.to_excel(writer, sheet_name = 'all',index = False)\n",
    "\n",
    "writer.save()\n",
    "writer.close()"
   ]
  }
 ],
 "metadata": {
  "kernelspec": {
   "display_name": "Python 3",
   "language": "python",
   "name": "python3"
  },
  "language_info": {
   "codemirror_mode": {
    "name": "ipython",
    "version": 3
   },
   "file_extension": ".py",
   "mimetype": "text/x-python",
   "name": "python",
   "nbconvert_exporter": "python",
   "pygments_lexer": "ipython3",
   "version": "3.8.3"
  }
 },
 "nbformat": 4,
 "nbformat_minor": 4
}
